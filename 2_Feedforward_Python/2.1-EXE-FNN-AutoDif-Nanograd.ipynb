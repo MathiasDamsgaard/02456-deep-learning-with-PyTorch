{
 "cells": [
  {
   "cell_type": "markdown",
   "metadata": {
    "id": "HAva8TnYFtFu"
   },
   "source": [
    "# Contents and why we need this lab\n",
    "\n",
    "This lab is about implementing neural networks yourself before we start using other frameworks that hide some computation from you. It builds on the first lab, where you derived the equations for neural network forward and backward propagation and gradient descent parameter updates. \n",
    "\n",
    "All the frameworks for deep learning you will meet from now on use automatic differentiation (autodiff), so you do not have to code the backward step yourself. In this version of this lab, you will develop your own autodif implementation. We also have an optional [version](https://github.com/DeepLearningDTU/02456-deep-learning-with-PyTorch/blob/master/2_Feedforward_Python/2.2-FNN-NumPy.ipynb) of this lab where you have to code the backward pass explicitly in NumPy."
   ]
  },
  {
   "cell_type": "markdown",
   "metadata": {
    "id": "sCa7HzwpFtFy"
   },
   "source": [
    "# External sources of information\n",
    "\n",
    "1. Jupyter notebook. You can find more information about Jupyter notebooks [here](https://jupyter.org/). It will come as part of the [Anaconda](https://www.anaconda.com/) Python installation. \n",
    "2. [NumPy](https://numpy.org/). Part of Anaconda distribution.  If you already know how to program, most things about Python and NumPy can be found with Google searches.\n",
    "3. [Nanograd](https://github.com/rasmusbergpalm/nanograd) is a minimalistic version of autodiff developed by [Rasmus Berg Palm](https://rasmusbergpalm.github.io) that we use for our framework.\n"
   ]
  },
  {
   "cell_type": "markdown",
   "metadata": {
    "id": "1SjiIp-TFtF0"
   },
   "source": [
    "# This notebook will follow the next steps:\n",
    "\n",
    "1. Nanograd automatic differentiation framework\n",
    "2. Finite difference method\n",
    "3. Data generation\n",
    "4. Defining and initializing the network\n",
    "5. Forward pass\n",
    "6. Training loop \n",
    "7. Testing your model\n",
    "8. Further extensions"
   ]
  },
  {
   "cell_type": "markdown",
   "metadata": {
    "id": "OyXeAA-HuT7s"
   },
   "source": [
    "# Nanograd automatic differention framework"
   ]
  },
  {
   "cell_type": "markdown",
   "metadata": {
    "id": "k6UWKCLKubgA"
   },
   "source": [
    "The [Nanograd](https://github.com/rasmusbergpalm/nanograd) framework defines a class Var which both holds a value and gradient value that we can use to store the intermediate values when we apply the chain rule of differentiation."
   ]
  },
  {
   "cell_type": "code",
   "execution_count": 1,
   "metadata": {
    "id": "Jd4CoEBNzNWS"
   },
   "outputs": [],
   "source": [
    "# Copy and pasted from https://github.com/rasmusbergpalm/nanograd/blob/3a1bf9e9e724da813bfccf91a6f309abdade9f39/nanograd.py\n",
    "\n",
    "from math import exp, log\n",
    "\n",
    "class Var:\n",
    "    \"\"\"\n",
    "    A variable which holds a float and enables gradient computations.\n",
    "    \"\"\"\n",
    "\n",
    "    def __init__(self, val: float, grad_fn=lambda: []):\n",
    "        assert type(val) == float\n",
    "        self.v = val\n",
    "        self.grad_fn = grad_fn\n",
    "        self.grad = 0.0\n",
    "\n",
    "    def backprop(self, bp):\n",
    "        self.grad += bp\n",
    "        for input, grad in self.grad_fn():\n",
    "            input.backprop(grad * bp)\n",
    "\n",
    "    def backward(self):\n",
    "        self.backprop(1.0)\n",
    "\n",
    "    def __add__(self: 'Var', other: 'Var') -> 'Var':\n",
    "        return Var(self.v + other.v, lambda: [(self, 1.0), (other, 1.0)])\n",
    "\n",
    "    def __mul__(self: 'Var', other: 'Var') -> 'Var':\n",
    "        return Var(self.v * other.v, lambda: [(self, other.v), (other, self.v)])\n",
    "\n",
    "    def __pow__(self, power):\n",
    "        assert type(power) in {float, int}, \"power must be float or int\"\n",
    "        return Var(self.v ** power, lambda: [(self, power * self.v ** (power - 1))])\n",
    "\n",
    "    def __neg__(self: 'Var') -> 'Var':\n",
    "        return Var(-1.0) * self\n",
    "\n",
    "    def __sub__(self: 'Var', other: 'Var') -> 'Var':\n",
    "        return self + (-other)\n",
    "\n",
    "    def __truediv__(self: 'Var', other: 'Var') -> 'Var':\n",
    "        return self * other ** -1\n",
    "\n",
    "    def __repr__(self):\n",
    "        return \"Var(v=%.4f, grad=%.4f)\" % (self.v, self.grad)\n",
    "\n",
    "    def relu(self):\n",
    "        return Var(self.v if self.v > 0.0 else 0.0, lambda: [(self, 1.0 if self.v > 0.0 else 0.0)])"
   ]
  },
  {
   "cell_type": "markdown",
   "metadata": {
    "id": "yDX67D6jzcte"
   },
   "source": [
    "A few examples illustrate how we can use this:"
   ]
  },
  {
   "cell_type": "code",
   "execution_count": 97,
   "metadata": {
    "colab": {
     "base_uri": "https://localhost:8080/"
    },
    "id": "xk6PeLc3zwPT",
    "outputId": "47e431b2-07ba-4cb1-ea21-997769641c67"
   },
   "outputs": [
    {
     "name": "stdout",
     "output_type": "stream",
     "text": [
      "Var(v=3.0000, grad=5.0000)\n",
      "Var(v=5.0000, grad=3.0000)\n",
      "Var(v=15.0000, grad=1.0000)\n"
     ]
    }
   ],
   "source": [
    "a = Var(3.0)\n",
    "b = Var(5.0)\n",
    "f = a * b\n",
    "\n",
    "f.backward()\n",
    "\n",
    "for v in [a, b, f]:\n",
    "    print(v)"
   ]
  },
  {
   "cell_type": "code",
   "execution_count": 26,
   "metadata": {
    "colab": {
     "base_uri": "https://localhost:8080/"
    },
    "id": "JmKhYgsY0g_o",
    "outputId": "06c1b1df-c33c-40d3-922a-624612a591c7"
   },
   "outputs": [
    {
     "name": "stdout",
     "output_type": "stream",
     "text": [
      "Var(v=3.0000, grad=14.0000)\n",
      "Var(v=5.0000, grad=3.0000)\n",
      "Var(v=15.0000, grad=1.0000)\n",
      "Var(v=9.0000, grad=3.0000)\n",
      "Var(v=27.0000, grad=1.0000)\n",
      "Var(v=42.0000, grad=1.0000)\n"
     ]
    }
   ],
   "source": [
    "a = Var(3.0)\n",
    "b = Var(5.0)\n",
    "c = a * b\n",
    "d = Var(9.0)\n",
    "e = a * d\n",
    "f = c + e\n",
    "\n",
    "f.backward()\n",
    "\n",
    "for v in [a, b, c, d, e, f]:\n",
    "    print(v)"
   ]
  },
  {
   "cell_type": "markdown",
   "metadata": {
    "id": "Fe3B6uEH140p"
   },
   "source": [
    "## Exercise a) What is being calculated?\n",
    "\n",
    "Explain briefly the output of the code? What is the expression we differentiate and with respect to what variables?\n",
    "\n",
    "The code computes the gradients of each variable in sequence as they appear starting from the final expression being f. This variable is a function of the others, and by taking the derivatite with respect to each variable in the expression (e.g. in the second example the function is: f(a, b, d) = a * b + a * d), we can backpropagate the gradients."
   ]
  },
  {
   "cell_type": "markdown",
   "metadata": {
    "id": "q8_Q0t2I3Ruj"
   },
   "source": [
    "## Exercise b) How does the backward function work?\n",
    "\n",
    "You need to understand how the backward function calculates the gradients. We can use the two examples above to help with that.\n",
    "\n",
    "Go through the following four steps and answer the questions on the way:\n",
    "\n",
    "1. We represent the two expressions as graphs as shown below. Fill in the missing expressions for the different derivatives.\n",
    "\n",
    "2. In the remainder, consider the first expression. Make a schematic of the data structure generated when we define the expression for f (e.g., write a list of which objects are created and the corresponding values of their member variables).\n",
    "\n",
    "3. Then execute the backward function by hand to convince yourself that it indeed calculates the gradients with respect to the variables. \n",
    "\n",
    "4. Write down the sequence of calls to backprop."
   ]
  },
  {
   "cell_type": "code",
   "execution_count": 5,
   "metadata": {
    "id": "idGr71jYXl26"
   },
   "outputs": [],
   "source": [
    "# If you have not installed networkx and matplotlib, you can install them by running\n",
    "# !pip install networkx matplotlib\n",
    "\n",
    "import networkx as nx\n",
    "import matplotlib.pyplot as plt"
   ]
  },
  {
   "cell_type": "code",
   "execution_count": 29,
   "metadata": {
    "colab": {
     "base_uri": "https://localhost:8080/",
     "height": 152
    },
    "id": "KPe30Q2QXzeG",
    "outputId": "7fa002cd-a018-4dbb-ddf1-28ed5e99ee19"
   },
   "outputs": [
    {
     "data": {
      "image/svg+xml": [
       "<?xml version=\"1.0\" encoding=\"UTF-8\" standalone=\"no\"?>\n",
       "<!DOCTYPE svg PUBLIC \"-//W3C//DTD SVG 1.1//EN\"\n",
       " \"http://www.w3.org/Graphics/SVG/1.1/DTD/svg11.dtd\">\n",
       "<!-- Generated by graphviz version 10.0.1 (20240210.2158)\n",
       " -->\n",
       "<!-- Title: first expression Pages: 1 -->\n",
       "<svg width=\"161pt\" height=\"98pt\"\n",
       " viewBox=\"0.00 0.00 161.00 98.00\" xmlns=\"http://www.w3.org/2000/svg\" xmlns:xlink=\"http://www.w3.org/1999/xlink\">\n",
       "<g id=\"graph0\" class=\"graph\" transform=\"scale(1 1) rotate(0) translate(4 94)\">\n",
       "<title>first expression</title>\n",
       "<polygon fill=\"white\" stroke=\"none\" points=\"-4,4 -4,-94 157,-94 157,4 -4,4\"/>\n",
       "<!-- a -->\n",
       "<g id=\"node1\" class=\"node\">\n",
       "<title>a</title>\n",
       "<ellipse fill=\"none\" stroke=\"black\" cx=\"18\" cy=\"-72\" rx=\"18\" ry=\"18\"/>\n",
       "<text text-anchor=\"middle\" x=\"18\" y=\"-66.58\" font-family=\"Times New Roman,serif\" font-size=\"14.00\">a</text>\n",
       "</g>\n",
       "<!-- f -->\n",
       "<g id=\"node2\" class=\"node\">\n",
       "<title>f</title>\n",
       "<ellipse fill=\"none\" stroke=\"black\" cx=\"135\" cy=\"-45\" rx=\"18\" ry=\"18\"/>\n",
       "<text text-anchor=\"middle\" x=\"135\" y=\"-39.58\" font-family=\"Times New Roman,serif\" font-size=\"14.00\">f</text>\n",
       "</g>\n",
       "<!-- a&#45;&gt;f -->\n",
       "<g id=\"edge1\" class=\"edge\">\n",
       "<title>a&#45;&gt;f</title>\n",
       "<path fill=\"none\" stroke=\"black\" d=\"M35.97,-68.02C54.4,-63.69 84.13,-56.71 106.03,-51.57\"/>\n",
       "<polygon fill=\"black\" stroke=\"black\" points=\"106.55,-55.04 115.49,-49.35 104.95,-48.22 106.55,-55.04\"/>\n",
       "<text text-anchor=\"middle\" x=\"76.5\" y=\"-65.45\" font-family=\"Times New Roman,serif\" font-size=\"14.00\">df/da=b</text>\n",
       "</g>\n",
       "<!-- b -->\n",
       "<g id=\"node3\" class=\"node\">\n",
       "<title>b</title>\n",
       "<ellipse fill=\"none\" stroke=\"black\" cx=\"18\" cy=\"-18\" rx=\"18\" ry=\"18\"/>\n",
       "<text text-anchor=\"middle\" x=\"18\" y=\"-12.57\" font-family=\"Times New Roman,serif\" font-size=\"14.00\">b</text>\n",
       "</g>\n",
       "<!-- b&#45;&gt;f -->\n",
       "<g id=\"edge2\" class=\"edge\">\n",
       "<title>b&#45;&gt;f</title>\n",
       "<path fill=\"none\" stroke=\"black\" d=\"M35.96,-20.95C52.23,-23.89 77.44,-28.76 99,-34.25 101.45,-34.87 103.99,-35.56 106.52,-36.28\"/>\n",
       "<polygon fill=\"black\" stroke=\"black\" points=\"105.33,-39.58 115.91,-39.09 107.33,-32.87 105.33,-39.58\"/>\n",
       "<text text-anchor=\"middle\" x=\"76.5\" y=\"-37.45\" font-family=\"Times New Roman,serif\" font-size=\"14.00\">df/db=a</text>\n",
       "</g>\n",
       "</g>\n",
       "</svg>\n"
      ],
      "text/plain": [
       "<graphviz.graphs.Digraph at 0x241ed244990>"
      ]
     },
     "execution_count": 29,
     "metadata": {},
     "output_type": "execute_result"
    }
   ],
   "source": [
    "# Create a directed graph\n",
    "G = nx.DiGraph()\n",
    "\n",
    "# Add edges with labels\n",
    "G.add_edge('a', 'f', label='df/da=?')\n",
    "G.add_edge('b', 'f', label='df/db=?')\n",
    "\n",
    "e1.attr('node', shape='circle')\n",
    "e1.edge('a', 'f', label='df/da=b')\n",
    "e1.edge('b', 'f', label='df/db=a')\n",
    "\n",
    "# Draw edge labels\n",
    "edge_labels = nx.get_edge_attributes(G, 'label')\n",
    "nx.draw_networkx_edge_labels(G, pos, edge_labels=edge_labels)\n",
    "\n",
    "# Show the plot\n",
    "plt.show()"
   ]
  },
  {
   "cell_type": "code",
   "execution_count": 30,
   "metadata": {
    "colab": {
     "base_uri": "https://localhost:8080/",
     "height": 232
    },
    "id": "0nittR-mZFeX",
    "outputId": "fa3656a3-732c-4abe-8084-98a492b0d6be"
   },
   "outputs": [
    {
     "data": {
      "image/svg+xml": [
       "<?xml version=\"1.0\" encoding=\"UTF-8\" standalone=\"no\"?>\n",
       "<!DOCTYPE svg PUBLIC \"-//W3C//DTD SVG 1.1//EN\"\n",
       " \"http://www.w3.org/Graphics/SVG/1.1/DTD/svg11.dtd\">\n",
       "<!-- Generated by graphviz version 10.0.1 (20240210.2158)\n",
       " -->\n",
       "<!-- Title: second expression Pages: 1 -->\n",
       "<svg width=\"280pt\" height=\"161pt\"\n",
       " viewBox=\"0.00 0.00 280.25 161.00\" xmlns=\"http://www.w3.org/2000/svg\" xmlns:xlink=\"http://www.w3.org/1999/xlink\">\n",
       "<g id=\"graph0\" class=\"graph\" transform=\"scale(1 1) rotate(0) translate(4 157)\">\n",
       "<title>second expression</title>\n",
       "<polygon fill=\"white\" stroke=\"none\" points=\"-4,4 -4,-157 276.25,-157 276.25,4 -4,4\"/>\n",
       "<!-- a -->\n",
       "<g id=\"node1\" class=\"node\">\n",
       "<title>a</title>\n",
       "<ellipse fill=\"none\" stroke=\"black\" cx=\"18\" cy=\"-77\" rx=\"18\" ry=\"18\"/>\n",
       "<text text-anchor=\"middle\" x=\"18\" y=\"-71.58\" font-family=\"Times New Roman,serif\" font-size=\"14.00\">a</text>\n",
       "</g>\n",
       "<!-- c -->\n",
       "<g id=\"node2\" class=\"node\">\n",
       "<title>c</title>\n",
       "<ellipse fill=\"none\" stroke=\"black\" cx=\"137.25\" cy=\"-103\" rx=\"18\" ry=\"18\"/>\n",
       "<text text-anchor=\"middle\" x=\"137.25\" y=\"-97.58\" font-family=\"Times New Roman,serif\" font-size=\"14.00\">c</text>\n",
       "</g>\n",
       "<!-- a&#45;&gt;c -->\n",
       "<g id=\"edge1\" class=\"edge\">\n",
       "<title>a&#45;&gt;c</title>\n",
       "<path fill=\"none\" stroke=\"black\" d=\"M36.05,-80.78C54.89,-84.96 85.54,-91.76 107.99,-96.73\"/>\n",
       "<polygon fill=\"black\" stroke=\"black\" points=\"107.18,-100.14 117.7,-98.89 108.7,-93.31 107.18,-100.14\"/>\n",
       "<text text-anchor=\"middle\" x=\"77.62\" y=\"-96.45\" font-family=\"Times New Roman,serif\" font-size=\"14.00\">dc/da=b</text>\n",
       "</g>\n",
       "<!-- e -->\n",
       "<g id=\"node4\" class=\"node\">\n",
       "<title>e</title>\n",
       "<ellipse fill=\"none\" stroke=\"black\" cx=\"137.25\" cy=\"-49\" rx=\"18\" ry=\"18\"/>\n",
       "<text text-anchor=\"middle\" x=\"137.25\" y=\"-43.58\" font-family=\"Times New Roman,serif\" font-size=\"14.00\">e</text>\n",
       "</g>\n",
       "<!-- a&#45;&gt;e -->\n",
       "<g id=\"edge3\" class=\"edge\">\n",
       "<title>a&#45;&gt;e</title>\n",
       "<path fill=\"none\" stroke=\"black\" d=\"M35.25,-71.06C41.11,-69.05 47.8,-66.89 54,-65.25 71.71,-60.55 91.9,-56.54 107.84,-53.68\"/>\n",
       "<polygon fill=\"black\" stroke=\"black\" points=\"108.35,-57.15 117.6,-51.99 107.15,-50.25 108.35,-57.15\"/>\n",
       "<text text-anchor=\"middle\" x=\"77.62\" y=\"-68.45\" font-family=\"Times New Roman,serif\" font-size=\"14.00\">de/da=d</text>\n",
       "</g>\n",
       "<!-- f -->\n",
       "<g id=\"node6\" class=\"node\">\n",
       "<title>f</title>\n",
       "<ellipse fill=\"none\" stroke=\"black\" cx=\"254.25\" cy=\"-75\" rx=\"18\" ry=\"18\"/>\n",
       "<text text-anchor=\"middle\" x=\"254.25\" y=\"-69.58\" font-family=\"Times New Roman,serif\" font-size=\"14.00\">f</text>\n",
       "</g>\n",
       "<!-- c&#45;&gt;f -->\n",
       "<g id=\"edge5\" class=\"edge\">\n",
       "<title>c&#45;&gt;f</title>\n",
       "<path fill=\"none\" stroke=\"black\" d=\"M155.22,-98.87C173.75,-94.36 203.72,-87.06 225.65,-81.72\"/>\n",
       "<polygon fill=\"black\" stroke=\"black\" points=\"226.23,-85.18 235.12,-79.42 224.57,-78.38 226.23,-85.18\"/>\n",
       "<text text-anchor=\"middle\" x=\"195.75\" y=\"-95.45\" font-family=\"Times New Roman,serif\" font-size=\"14.00\">df/dc=1</text>\n",
       "</g>\n",
       "<!-- b -->\n",
       "<g id=\"node3\" class=\"node\">\n",
       "<title>b</title>\n",
       "<ellipse fill=\"none\" stroke=\"black\" cx=\"18\" cy=\"-135\" rx=\"18\" ry=\"18\"/>\n",
       "<text text-anchor=\"middle\" x=\"18\" y=\"-129.57\" font-family=\"Times New Roman,serif\" font-size=\"14.00\">b</text>\n",
       "</g>\n",
       "<!-- b&#45;&gt;c -->\n",
       "<g id=\"edge2\" class=\"edge\">\n",
       "<title>b&#45;&gt;c</title>\n",
       "<path fill=\"none\" stroke=\"black\" d=\"M35.72,-130.62C52.36,-126.23 78.6,-119.27 101.25,-113 103.67,-112.33 106.19,-111.63 108.71,-110.91\"/>\n",
       "<polygon fill=\"black\" stroke=\"black\" points=\"109.41,-114.35 118.08,-108.25 107.5,-107.62 109.41,-114.35\"/>\n",
       "<text text-anchor=\"middle\" x=\"77.62\" y=\"-127.45\" font-family=\"Times New Roman,serif\" font-size=\"14.00\">dc/db=a</text>\n",
       "</g>\n",
       "<!-- e&#45;&gt;f -->\n",
       "<g id=\"edge6\" class=\"edge\">\n",
       "<title>e&#45;&gt;f</title>\n",
       "<path fill=\"none\" stroke=\"black\" d=\"M155.65,-50.54C172.01,-52.25 197.09,-55.55 218.25,-61.25 221.06,-62.01 223.96,-62.92 226.82,-63.91\"/>\n",
       "<polygon fill=\"black\" stroke=\"black\" points=\"225.46,-67.14 236.06,-67.4 227.94,-60.59 225.46,-67.14\"/>\n",
       "<text text-anchor=\"middle\" x=\"195.75\" y=\"-64.45\" font-family=\"Times New Roman,serif\" font-size=\"14.00\">df/de=1</text>\n",
       "</g>\n",
       "<!-- d -->\n",
       "<g id=\"node5\" class=\"node\">\n",
       "<title>d</title>\n",
       "<ellipse fill=\"none\" stroke=\"black\" cx=\"18\" cy=\"-18\" rx=\"18\" ry=\"18\"/>\n",
       "<text text-anchor=\"middle\" x=\"18\" y=\"-12.57\" font-family=\"Times New Roman,serif\" font-size=\"14.00\">d</text>\n",
       "</g>\n",
       "<!-- d&#45;&gt;e -->\n",
       "<g id=\"edge4\" class=\"edge\">\n",
       "<title>d&#45;&gt;e</title>\n",
       "<path fill=\"none\" stroke=\"black\" d=\"M36.18,-21.13C52.93,-24.34 79.06,-29.78 101.25,-36.25 103.87,-37.01 106.58,-37.87 109.27,-38.77\"/>\n",
       "<polygon fill=\"black\" stroke=\"black\" points=\"107.99,-42.03 118.59,-42.08 110.33,-35.44 107.99,-42.03\"/>\n",
       "<text text-anchor=\"middle\" x=\"77.62\" y=\"-39.45\" font-family=\"Times New Roman,serif\" font-size=\"14.00\">de/dd=a</text>\n",
       "</g>\n",
       "</g>\n",
       "</svg>\n"
      ],
      "text/plain": [
       "<graphviz.graphs.Digraph at 0x241ed2b5b10>"
      ]
     },
     "execution_count": 30,
     "metadata": {},
     "output_type": "execute_result"
    }
   ],
   "source": [
    "# Create a directed graph\n",
    "G = nx.DiGraph()\n",
    "\n",
    "# Add edges with labels\n",
    "G.add_edge('a', 'c', label='dc/da=?')\n",
    "G.add_edge('b', 'c', label='dc/db=?')\n",
    "G.add_edge('a', 'e', label='de/da=?')\n",
    "G.add_edge('d', 'e', label='de/dd=?')\n",
    "G.add_edge('c', 'f', label='df/dc=?')\n",
    "G.add_edge('e', 'f', label='df/de=?')\n",
    "\n",
    "e2.attr('node', shape='circle')\n",
    "e2.edge('a', 'c', label='dc/da=b')\n",
    "e2.edge('b', 'c', label='dc/db=a')\n",
    "e2.edge('a', 'e', label='de/da=d')\n",
    "e2.edge('d', 'e', label='de/dd=a')\n",
    "e2.edge('c', 'f', label='df/dc=1')\n",
    "e2.edge('e', 'f', label='df/de=1')\n",
    "\n",
    "# Draw the graph nodes and edges\n",
    "nx.draw(G, pos, with_labels=True, node_shape='o', node_size=3000, node_color='lightblue', arrows=True)\n",
    "\n",
    "# Draw edge labels\n",
    "edge_labels = nx.get_edge_attributes(G, 'label')\n",
    "nx.draw_networkx_edge_labels(G, pos, edge_labels=edge_labels)\n",
    "\n",
    "# Show the plot\n",
    "plt.show()"
   ]
  },
  {
   "cell_type": "markdown",
   "metadata": {},
   "source": [
    "Schematic of f's data structure:"
   ]
  },
  {
   "cell_type": "code",
   "execution_count": 96,
   "metadata": {},
   "outputs": [
    {
     "data": {
      "image/svg+xml": [
       "<?xml version=\"1.0\" encoding=\"UTF-8\" standalone=\"no\"?>\n",
       "<!DOCTYPE svg PUBLIC \"-//W3C//DTD SVG 1.1//EN\"\n",
       " \"http://www.w3.org/Graphics/SVG/1.1/DTD/svg11.dtd\">\n",
       "<!-- Generated by graphviz version 10.0.1 (20240210.2158)\n",
       " -->\n",
       "<!-- Title: schematic of f Pages: 1 -->\n",
       "<svg width=\"220pt\" height=\"98pt\"\n",
       " viewBox=\"0.00 0.00 220.25 98.00\" xmlns=\"http://www.w3.org/2000/svg\" xmlns:xlink=\"http://www.w3.org/1999/xlink\">\n",
       "<g id=\"graph0\" class=\"graph\" transform=\"scale(1 1) rotate(0) translate(4 94)\">\n",
       "<title>schematic of f</title>\n",
       "<polygon fill=\"white\" stroke=\"none\" points=\"-4,4 -4,-94 216.25,-94 216.25,4 -4,4\"/>\n",
       "<!-- Var f -->\n",
       "<g id=\"node1\" class=\"node\">\n",
       "<title>Var f</title>\n",
       "<polygon fill=\"none\" stroke=\"black\" points=\"54,-63 0,-63 0,-27 54,-27 54,-63\"/>\n",
       "<text text-anchor=\"middle\" x=\"27\" y=\"-39.58\" font-family=\"Times New Roman,serif\" font-size=\"14.00\">Var f</text>\n",
       "</g>\n",
       "<!--  Var a -->\n",
       "<g id=\"node2\" class=\"node\">\n",
       "<title> Var a</title>\n",
       "<polygon fill=\"none\" stroke=\"black\" points=\"212.25,-90 158.25,-90 158.25,-54 212.25,-54 212.25,-90\"/>\n",
       "<text text-anchor=\"middle\" x=\"185.25\" y=\"-66.58\" font-family=\"Times New Roman,serif\" font-size=\"14.00\"> Var a</text>\n",
       "</g>\n",
       "<!-- Var f&#45;&gt; Var a -->\n",
       "<g id=\"edge1\" class=\"edge\">\n",
       "<title>Var f&#45;&gt; Var a</title>\n",
       "<path fill=\"none\" stroke=\"black\" d=\"M54.15,-49.52C79.43,-53.89 117.98,-60.55 146.56,-65.49\"/>\n",
       "<polygon fill=\"black\" stroke=\"black\" points=\"145.81,-68.91 156.26,-67.16 147,-62.01 145.81,-68.91\"/>\n",
       "<text text-anchor=\"middle\" x=\"106.12\" y=\"-66.45\" font-family=\"Times New Roman,serif\" font-size=\"14.00\">grad_fn()[0]</text>\n",
       "</g>\n",
       "<!-- Var b -->\n",
       "<g id=\"node3\" class=\"node\">\n",
       "<title>Var b</title>\n",
       "<polygon fill=\"none\" stroke=\"black\" points=\"212.25,-36 158.25,-36 158.25,0 212.25,0 212.25,-36\"/>\n",
       "<text text-anchor=\"middle\" x=\"185.25\" y=\"-12.57\" font-family=\"Times New Roman,serif\" font-size=\"14.00\">Var b</text>\n",
       "</g>\n",
       "<!-- Var f&#45;&gt;Var b -->\n",
       "<g id=\"edge2\" class=\"edge\">\n",
       "<title>Var f&#45;&gt;Var b</title>\n",
       "<path fill=\"none\" stroke=\"black\" d=\"M54.4,-37.37C60.17,-35.87 66.26,-34.4 72,-33.25 96.68,-28.3 124.74,-24.49 146.63,-21.91\"/>\n",
       "<polygon fill=\"black\" stroke=\"black\" points=\"146.74,-25.42 156.28,-20.81 145.95,-18.47 146.74,-25.42\"/>\n",
       "<text text-anchor=\"middle\" x=\"106.12\" y=\"-36.45\" font-family=\"Times New Roman,serif\" font-size=\"14.00\">graf_fn()[1]</text>\n",
       "</g>\n",
       "</g>\n",
       "</svg>\n"
      ],
      "text/plain": [
       "<graphviz.graphs.Digraph at 0x241efe3ba90>"
      ]
     },
     "execution_count": 96,
     "metadata": {},
     "output_type": "execute_result"
    }
   ],
   "source": [
    "e3 = graphviz.Digraph('schematic of f', filename='fsm.gv')\n",
    "e3.attr(rankdir='LR', size='8,5')\n",
    "e3.attr('node', shape='rectangle')\n",
    "e3.edge('Var f', ' Var a', label='grad_fn()[0]')\n",
    "e3.edge('Var f', 'Var b', label='graf_fn()[1]')\n",
    "e3"
   ]
  },
  {
   "cell_type": "markdown",
   "metadata": {},
   "source": [
    "Backpropagation sequence:\n",
    "1. f.backprop(1.0) -> f.grad = 1.0\n",
    "2. a.backprop(5.0) -> a.grad = 5.0\n",
    "3. b.backprop(3.0) -> b.grad = 3.0"
   ]
  },
  {
   "cell_type": "markdown",
   "metadata": {
    "id": "A5oi21W4gpeM"
   },
   "source": [
    "## Exercise c) What happens if we run backward again?\n",
    "\n",
    "Try to execute the code below. Explain what happens."
   ]
  },
  {
   "cell_type": "code",
   "execution_count": 27,
   "metadata": {
    "colab": {
     "base_uri": "https://localhost:8080/"
    },
    "id": "DCtpJyr-gyX1",
    "outputId": "d014bcfa-c9ae-49c3-d268-91cc6ca94ea5"
   },
   "outputs": [
    {
     "name": "stdout",
     "output_type": "stream",
     "text": [
      "Var(v=3.0000, grad=28.0000)\n",
      "Var(v=5.0000, grad=6.0000)\n",
      "Var(v=15.0000, grad=2.0000)\n",
      "Var(v=9.0000, grad=6.0000)\n",
      "Var(v=27.0000, grad=2.0000)\n",
      "Var(v=42.0000, grad=2.0000)\n"
     ]
    }
   ],
   "source": [
    "f.backward()\n",
    "\n",
    "for v in [a, b, c, d, e, f]:\n",
    "    print(v)"
   ]
  },
  {
   "cell_type": "markdown",
   "metadata": {},
   "source": [
    "All gradients get multiplied by 2, as they carry on their previous values and accumulate with the repeated calculations. In short the gradients aren't reset before calculations."
   ]
  },
  {
   "cell_type": "markdown",
   "metadata": {
    "id": "e8bPVq2VhsP-"
   },
   "source": [
    "## Exercise d) Zero gradient\n",
    "\n",
    "We can zero the gradient by backpropagating a -1.0 as is shown in the example below. (If you have run backward multiple time then you also have to run the cell below an equal amount of times.) Explain what is going on."
   ]
  },
  {
   "cell_type": "code",
   "execution_count": 28,
   "metadata": {
    "colab": {
     "base_uri": "https://localhost:8080/"
    },
    "id": "OnyPDQx9lJe0",
    "outputId": "7a125fdc-60c4-4340-a580-8b82aea5b0db"
   },
   "outputs": [
    {
     "name": "stdout",
     "output_type": "stream",
     "text": [
      "Var(v=2.0000, grad=0.0000)\n",
      "Var(v=5.0000, grad=6.0000)\n",
      "Var(v=15.0000, grad=2.0000)\n",
      "Var(v=9.0000, grad=6.0000)\n",
      "Var(v=27.0000, grad=2.0000)\n",
      "Var(v=42.0000, grad=2.0000)\n",
      "Var(v=2.0000, grad=0.0000)\n",
      "Var(v=5.0000, grad=3.0000)\n",
      "Var(v=15.0000, grad=1.0000)\n",
      "Var(v=9.0000, grad=3.0000)\n",
      "Var(v=27.0000, grad=1.0000)\n",
      "Var(v=42.0000, grad=1.0000)\n"
     ]
    }
   ],
   "source": [
    "a = Var(2.0)\n",
    "\n",
    "for v in [a, b, c, d, e, f]:\n",
    "    print(v)\n",
    "\n",
    "f.backprop(-1.0)\n",
    "\n",
    "for v in [a, b, c, d, e, f]:\n",
    "    print(v)"
   ]
  },
  {
   "cell_type": "markdown",
   "metadata": {},
   "source": [
    "By running the backpropagation with -1 initially instead of 1, we reverese the computations made. So instead of addition we do subtractions which reverese the previously run backpropagation."
   ]
  },
  {
   "cell_type": "markdown",
   "metadata": {
    "id": "U4057_ljNvWB"
   },
   "source": [
    "## Exercise e) Test correctness of derivatives with the finite difference method\n",
    "\n",
    "Write a small function that uses [the finite difference method](https://en.wikipedia.org/wiki/Finite_difference_method) to numerically test that backpropation implementation is working. In short we will use\n",
    "$$\n",
    "\\frac{\\partial f(a)}{\\partial a} \\approx \\frac{f(a+da)-f(a)}{da}\n",
    "$$\n",
    "for $da \\ll 1$.\n",
    "\n",
    "As an example, we could approximate the derivative of the function $f(a)=a^2$ in e.g. the value $a=4$ using the finite difference method. This amounts to inserting the relevant values and approximating the gradient $f'(4)$ with the fraction above. \n"
   ]
  },
  {
   "cell_type": "code",
   "execution_count": 38,
   "metadata": {
    "colab": {
     "base_uri": "https://localhost:8080/"
    },
    "id": "9TGil92lSXDN",
    "outputId": "7ef5489b-b525-4132-ab08-0b1109c07f4d"
   },
   "outputs": [
    {
     "name": "stdout",
     "output_type": "stream",
     "text": [
      "Var(v=3.0000, grad=5.0000)\n",
      "Var(v=5.0000, grad=3.0000)\n",
      "Var(v=15.0000, grad=1.0000)\n",
      "5.000000413701855\n"
     ]
    }
   ],
   "source": [
    "# f function - try to change the code to test other types of functions as well (such as different polynomials etc.)\n",
    "def f_function(a):\n",
    "  a = Var(a)\n",
    "  b = Var(5.0)\n",
    "  f = a * b\n",
    "  f.backward()\n",
    "  return a,b,f\n",
    "\n",
    "for v in f_function(3.0):\n",
    "  print(v)\n",
    "\n",
    "# Insert your finite difference code here\n",
    "def finite_difference(da=1e-10):\n",
    "    \"\"\"\n",
    "    This function compute the finite difference between\n",
    "    \n",
    "    Input:\n",
    "    da:          The finite difference                           (float)\n",
    "    \n",
    "    Output:\n",
    "    finite_difference: numerical approximation to the derivative (float) \n",
    "    \"\"\"\n",
    "    \n",
    "    fa_da = (3 + da) * 5           # <- Insert correct expression\n",
    "    fa = 3*5               # <- Insert correct expression\n",
    "\n",
    "    finite_difference = (fa_da - fa) / da\n",
    "    \n",
    "    return finite_difference\n",
    "\n",
    "print(finite_difference())"
   ]
  },
  {
   "cell_type": "markdown",
   "metadata": {},
   "source": [
    "We see that the function approximates the gradient of variable a as exptected, as the value inserted into the function is a=3."
   ]
  },
  {
   "cell_type": "markdown",
   "metadata": {
    "id": "6pZar5RKaUkg"
   },
   "source": [
    "# Create an artificial dataset to play with\n",
    "\n",
    "We create a non-linear 1d regression task. The generator supports various noise levels and it creates train, validation and test sets. You can modify it yourself if you want more or less challenging tasks."
   ]
  },
  {
   "cell_type": "code",
   "execution_count": 39,
   "metadata": {
    "id": "Y6yfMAQ8aduj"
   },
   "outputs": [],
   "source": [
    "import numpy as np\n",
    "import matplotlib.pyplot as plt\n",
    "\n",
    "np.random.seed(42)"
   ]
  },
  {
   "cell_type": "code",
   "execution_count": 40,
   "metadata": {
    "id": "4YabfD43ajNh"
   },
   "outputs": [],
   "source": [
    "def data_generator(noise=0.1, n_samples=300, D1=True):\n",
    "    # Create covariates and response variable\n",
    "    if D1:\n",
    "        X = np.linspace(-3, 3, num=n_samples).reshape(-1,1) # 1-D\n",
    "        np.random.shuffle(X)\n",
    "        y = np.random.normal((0.5*np.sin(X[:,0]*3) + X[:,0]), noise) # 1-D with trend\n",
    "    else:\n",
    "        X = np.random.multivariate_normal(np.zeros(3), noise*np.eye(3), size = n_samples) # 3-D\n",
    "        np.random.shuffle(X)    \n",
    "        y = np.sin(X[:,0]) - 5*(X[:,1]**2) + 0.5*X[:,2] # 3-D\n",
    "\n",
    "    # Stack them together vertically to split data set\n",
    "    data_set = np.vstack((X.T,y)).T\n",
    "    \n",
    "    train, validation, test = np.split(data_set, [int(0.35*n_samples), int(0.7*n_samples)], axis=0)\n",
    "    \n",
    "    # Standardization of the data, remember we do the standardization with the training set mean and standard deviation\n",
    "    train_mu = np.mean(train, axis=0)\n",
    "    train_sigma = np.std(train, axis=0)\n",
    "    \n",
    "    train = (train-train_mu)/train_sigma\n",
    "    validation = (validation-train_mu)/train_sigma\n",
    "    test = (test-train_mu)/train_sigma\n",
    "    \n",
    "    x_train, x_validation, x_test = train[:,:-1], validation[:,:-1], test[:,:-1]\n",
    "    y_train, y_validation, y_test = train[:,-1], validation[:,-1], test[:,-1]\n",
    "\n",
    "    return x_train, y_train,  x_validation, y_validation, x_test, y_test"
   ]
  },
  {
   "cell_type": "code",
   "execution_count": 41,
   "metadata": {
    "id": "u1oDngHLapIz"
   },
   "outputs": [],
   "source": [
    "D1 = True\n",
    "x_train, y_train,  x_validation, y_validation, x_test, y_test = data_generator(noise=0.5, D1=D1)"
   ]
  },
  {
   "cell_type": "code",
   "execution_count": 42,
   "metadata": {
    "colab": {
     "base_uri": "https://localhost:8080/",
     "height": 265
    },
    "id": "Ysfa3FsBavlm",
    "outputId": "399e5382-ae7d-48f6-9774-7ea4c73e7d95"
   },
   "outputs": [
    {
     "data": {
      "image/png": "[encoded data removed]",
      "text/plain": [
       "<Figure size 640x480 with 1 Axes>"
      ]
     },
     "metadata": {},
     "output_type": "display_data"
    }
   ],
   "source": [
    "if D1:\n",
    "    plt.scatter(x_train[:,0], y_train);\n",
    "    plt.scatter(x_validation[:,0], y_validation);\n",
    "    plt.scatter(x_test[:,0], y_test);\n",
    "else:\n",
    "    plt.scatter(x_train[:,1], y_train);\n",
    "    plt.scatter(x_validation[:,1], y_validation);\n",
    "    plt.scatter(x_test[:,1], y_test);\n",
    "plt.show()"
   ]
  },
  {
   "cell_type": "code",
   "execution_count": 43,
   "metadata": {
    "id": "zac2HHNlgbpm"
   },
   "outputs": [],
   "source": [
    "# convert from nparray to Var\n",
    "def nparray_to_Var(x):\n",
    "  if x.ndim==1:\n",
    "    y = [[Var(float(x[i]))] for i in range(x.shape[0])] # always work with list of list\n",
    "  else:\n",
    "    y = [[Var(float(x[i,j])) for j in range(x.shape[1])] for i in range(x.shape[0])]\n",
    "  return y\n",
    "\n",
    "x_train = nparray_to_Var(x_train)\n",
    "y_train = nparray_to_Var(y_train)\n",
    "x_validation = nparray_to_Var(x_validation)\n",
    "y_validation = nparray_to_Var(y_validation)\n",
    "x_test = nparray_to_Var(x_test)\n",
    "y_test = nparray_to_Var(y_test)"
   ]
  },
  {
   "cell_type": "markdown",
   "metadata": {
    "id": "VbjrqcpVFtGe"
   },
   "source": [
    "# Defining and initializing the network\n",
    "\n",
    "The steps to create a feed forward neural network are the following:\n",
    "\n",
    "1. **Number of hidden layer and hidden units**. We have to define the number of hidden units in each layer. The number of features in X and the output dimensionality (the size of Y) are given but the numbers in between are set by the researcher. Remember that for each unit in each layer beside in the input has a bias term.\n",
    "2. **Activation functions** for each hidden layer. Each hidden layer in your list must have an activation function (it can also be the linear activation which is equivalent to identity function). The power of neural networks comes from non-linear activation functions that learn representations (features) from the data allowing us to learn from it. \n",
    "3. **Parameter initialization**. We will initialize the weights to have random values. This is done in practice by drawing pseudo random numbers from a Gaussian or uniform distribution. It turns out that for deeper models we have to be careful about how we scale the random numbers. This will be the topic of the exercise below. For now we will just use unit variance Gaussians.  \n",
    "\n",
    "In order to make life easier for ourselves we define a DenseLayer class that takes care of initialization and the forward pass. We can also extend it later with print and advanced initialization capabilities. For the latter we have introduced a Initializer class.\n",
    "\n",
    "Note that we use Sequence in the code below. A Sequence is an ordered list. This means the order we insert and access items are the same."
   ]
  },
  {
   "cell_type": "code",
   "execution_count": 113,
   "metadata": {
    "id": "ij_ieRsAt7Xt"
   },
   "outputs": [],
   "source": [
    "class Initializer:\n",
    "\n",
    "  def init_weights(self, n_in, n_out):\n",
    "    raise NotImplementedError\n",
    "    \n",
    "  def init_bias(self, n_out):\n",
    "    raise NotImplementedError"
   ]
  },
  {
   "cell_type": "code",
   "execution_count": 51,
   "metadata": {
    "id": "eb18N5phuIha"
   },
   "outputs": [],
   "source": [
    "import random\n",
    "\n",
    "class NormalInitializer(Initializer):\n",
    "\n",
    "  def __init__(self, mean=0, std=0.1):\n",
    "    self.mean = mean\n",
    "    self.std = std\n",
    "\n",
    "  def init_weights(self, n_in, n_out):\n",
    "    return [[Var(random.gauss(self.mean, self.std)) for _ in range(n_out)] for _ in range(n_in)]\n",
    "\n",
    "  def init_bias(self, n_out):\n",
    "    return [Var(0.0) for _ in range(n_out)]\n",
    "\n",
    "class ConstantInitializer(Initializer):\n",
    "\n",
    "  def __init__(self, weight=1.0, bias=0.0):\n",
    "    self.weight = weight\n",
    "    self.bias = bias\n",
    "\n",
    "  def init_weights(self, n_in, n_out):\n",
    "    return [[Var(self.weight) for _ in range(n_out)] for _ in range(n_in)]\n",
    "\n",
    "  def init_bias(self, n_out):\n",
    "    return [Var(self.bias) for _ in range(n_out)]"
   ]
  },
  {
   "cell_type": "code",
   "execution_count": 84,
   "metadata": {
    "id": "jOLYGnZKuM6W"
   },
   "outputs": [],
   "source": [
    "from typing import Sequence\n",
    "\n",
    "class DenseLayer:\n",
    "    def __init__(self, n_in: int, n_out: int, act_fn, initializer = NormalInitializer()):\n",
    "        self.weights = initializer.init_weights(n_in, n_out)\n",
    "        self.bias = initializer.init_bias(n_out)\n",
    "        self.act_fn = act_fn\n",
    "    \n",
    "    def __repr__(self):    \n",
    "        return 'Weights: ' + repr(self.weights) + ' Biases: ' + repr(self.bias)\n",
    "\n",
    "    def parameters(self) -> Sequence[Var]:\n",
    "      params = []\n",
    "      for r in self.weights:\n",
    "        params += r\n",
    "\n",
    "      return params + self.bias\n",
    "\n",
    "    def forward(self, single_input: Sequence[Var]) -> Sequence[Var]:\n",
    "        # self.weights is a matrix with dimension n_in x n_out. We check that the dimensionality of the input \n",
    "        # to the current layer matches the number of nodes in the current layer\n",
    "        assert len(self.weights) == len(single_input), \"weights and single_input must match in first dimension\"\n",
    "        weights = self.weights\n",
    "        out = []\n",
    "        # For some given data point single_input, we now want to calculate the resulting value in each node in the current layer\n",
    "        # We therefore loop over the (number of) nodes in the current layer:\n",
    "        for j in range(len(weights[0])): \n",
    "            # Initialize the node value depending on its corresponding parameters.\n",
    "            node = self.bias[j] # <- Insert code\n",
    "            # We now finish the linear transformation corresponding to the parameters of the currently considered node.\n",
    "            for i in range(len(single_input)):\n",
    "                node += weights[i][j]*single_input[i]  # <- Insert code\n",
    "            node = self.act_fn(node)\n",
    "            out.append(node)\n",
    "\n",
    "        return out"
   ]
  },
  {
   "cell_type": "markdown",
   "metadata": {
    "id": "jpIZPBpNI0pO"
   },
   "source": [
    "## Exercise f) Add more activation functions\n",
    "\n",
    "To have a full definition of the neural network, we must define an activation function for every layer. Several activation functions have been proposed and have different characteristics. In the Var class we have already defined the rectified linear init (relu). \n",
    " \n",
    "Implement the following activation functions in the Var class:\n",
    "\n",
    "* Identity: $$\\mathrm{identity}(x) = x$$\n",
    "* Hyperbolic tangent: $$\\tanh(x)$$\n",
    "* Sigmoid (or logistic function): $$\\mathrm{sigmoid}(x) = \\frac{1}{1.0 + \\exp(-x ) }$$  Hint: $\\mathrm{sigmoid}'(x)= \\mathrm{sigmoid}(x)(1-\\mathrm{sigmoid}(x))$.  \n",
    "\n",
    "Hint: You can seek inspiration in the relu method in the Var class."
   ]
  },
  {
   "cell_type": "code",
   "execution_count": 81,
   "metadata": {},
   "outputs": [],
   "source": [
    "import math\n",
    "\n",
    "class Var(Var):\n",
    "    def identity(self):\n",
    "        return Var(self.v, lambda: [(self, 1.0)])\n",
    "    \n",
    "    def tanh(self):\n",
    "        return Var(math.tanh(self.v), lambda: [(self, 1 - math.tanh(self.v)**2)])\n",
    "    \n",
    "    def sigmoid(self):\n",
    "        sig = 1/(1 + math.exp(-self.v))\n",
    "        return Var(sig, lambda: [(self, sig * (1 - sig))])"
   ]
  },
  {
   "cell_type": "markdown",
   "metadata": {
    "id": "p_8n_SKnIW2F"
   },
   "source": [
    "## Exercise g) Complete the forward pass\n",
    "\n",
    "In the code below we initialize a 1-5-1 network and pass the training set through it. *The forward method in DenseLayer is **not** complete*. It just outputs zeros right now. The method forward should perform an [affine transformation](https://en.wikipedia.org/wiki/Affine_transformation) on the input followed by an application of the activation function."
   ]
  },
  {
   "cell_type": "code",
   "execution_count": 87,
   "metadata": {
    "colab": {
     "base_uri": "https://localhost:8080/",
     "height": 337
    },
    "id": "xDEjtePxE7Mv",
    "outputId": "753406cd-d8a1-4282-ce03-25ad959b0e11"
   },
   "outputs": [
    {
     "name": "stdout",
     "output_type": "stream",
     "text": [
      "[[Var(v=0.0015, grad=0.0000)], [Var(v=0.0030, grad=0.0000)], [Var(v=0.0003, grad=0.0000)], [Var(v=-0.0028, grad=0.0000)], [Var(v=0.0022, grad=0.0000)], [Var(v=0.0020, grad=0.0000)], [Var(v=0.0013, grad=0.0000)], [Var(v=-0.0007, grad=0.0000)], [Var(v=-0.0029, grad=0.0000)], [Var(v=0.0008, grad=0.0000)], [Var(v=0.0023, grad=0.0000)], [Var(v=-0.0018, grad=0.0000)], [Var(v=0.0018, grad=0.0000)], [Var(v=-0.0020, grad=0.0000)], [Var(v=0.0010, grad=0.0000)], [Var(v=0.0019, grad=0.0000)], [Var(v=0.0035, grad=0.0000)], [Var(v=0.0017, grad=0.0000)], [Var(v=0.0002, grad=0.0000)], [Var(v=0.0006, grad=0.0000)], [Var(v=-0.0013, grad=0.0000)], [Var(v=-0.0006, grad=0.0000)], [Var(v=0.0026, grad=0.0000)], [Var(v=0.0026, grad=0.0000)], [Var(v=-0.0008, grad=0.0000)], [Var(v=-0.0021, grad=0.0000)], [Var(v=0.0033, grad=0.0000)], [Var(v=0.0036, grad=0.0000)], [Var(v=0.0004, grad=0.0000)], [Var(v=0.0023, grad=0.0000)], [Var(v=-0.0026, grad=0.0000)], [Var(v=0.0006, grad=0.0000)], [Var(v=-0.0023, grad=0.0000)], [Var(v=-0.0025, grad=0.0000)], [Var(v=0.0018, grad=0.0000)], [Var(v=-0.0005, grad=0.0000)], [Var(v=-0.0028, grad=0.0000)], [Var(v=-0.0011, grad=0.0000)], [Var(v=-0.0020, grad=0.0000)], [Var(v=-0.0014, grad=0.0000)], [Var(v=-0.0010, grad=0.0000)], [Var(v=-0.0014, grad=0.0000)], [Var(v=0.0034, grad=0.0000)], [Var(v=-0.0017, grad=0.0000)], [Var(v=-0.0013, grad=0.0000)], [Var(v=-0.0016, grad=0.0000)], [Var(v=0.0022, grad=0.0000)], [Var(v=0.0021, grad=0.0000)], [Var(v=-0.0006, grad=0.0000)], [Var(v=0.0021, grad=0.0000)], [Var(v=0.0009, grad=0.0000)], [Var(v=0.0001, grad=0.0000)], [Var(v=0.0023, grad=0.0000)], [Var(v=-0.0014, grad=0.0000)], [Var(v=0.0037, grad=0.0000)], [Var(v=0.0032, grad=0.0000)], [Var(v=-0.0009, grad=0.0000)], [Var(v=-0.0010, grad=0.0000)], [Var(v=0.0012, grad=0.0000)], [Var(v=-0.0025, grad=0.0000)], [Var(v=0.0022, grad=0.0000)], [Var(v=-0.0017, grad=0.0000)], [Var(v=-0.0029, grad=0.0000)], [Var(v=0.0010, grad=0.0000)], [Var(v=0.0008, grad=0.0000)], [Var(v=-0.0023, grad=0.0000)], [Var(v=-0.0025, grad=0.0000)], [Var(v=0.0027, grad=0.0000)], [Var(v=-0.0018, grad=0.0000)], [Var(v=0.0011, grad=0.0000)], [Var(v=-0.0007, grad=0.0000)], [Var(v=-0.0003, grad=0.0000)], [Var(v=0.0021, grad=0.0000)], [Var(v=0.0012, grad=0.0000)], [Var(v=-0.0002, grad=0.0000)], [Var(v=0.0033, grad=0.0000)], [Var(v=-0.0012, grad=0.0000)], [Var(v=-0.0012, grad=0.0000)], [Var(v=-0.0016, grad=0.0000)], [Var(v=0.0035, grad=0.0000)], [Var(v=0.0005, grad=0.0000)], [Var(v=0.0003, grad=0.0000)], [Var(v=-0.0026, grad=0.0000)], [Var(v=-0.0004, grad=0.0000)], [Var(v=-0.0013, grad=0.0000)], [Var(v=-0.0006, grad=0.0000)], [Var(v=-0.0005, grad=0.0000)], [Var(v=-0.0015, grad=0.0000)], [Var(v=-0.0027, grad=0.0000)], [Var(v=-0.0028, grad=0.0000)], [Var(v=0.0013, grad=0.0000)], [Var(v=-0.0008, grad=0.0000)], [Var(v=-0.0015, grad=0.0000)], [Var(v=0.0020, grad=0.0000)], [Var(v=-0.0022, grad=0.0000)], [Var(v=-0.0026, grad=0.0000)], [Var(v=0.0009, grad=0.0000)], [Var(v=0.0002, grad=0.0000)], [Var(v=0.0032, grad=0.0000)], [Var(v=-0.0016, grad=0.0000)], [Var(v=0.0021, grad=0.0000)], [Var(v=-0.0015, grad=0.0000)], [Var(v=-0.0023, grad=0.0000)], [Var(v=0.0010, grad=0.0000)], [Var(v=0.0029, grad=0.0000)]]\n"
     ]
    }
   ],
   "source": [
    "NN = [\n",
    "    DenseLayer(1, 5, lambda x: x.relu()),\n",
    "    DenseLayer(5, 1, lambda x: x.identity())\n",
    "]\n",
    "\n",
    "def forward(input, network):\n",
    "\n",
    "  def forward_single(x, network):\n",
    "    for layer in network:\n",
    "        x = layer.forward(x)\n",
    "    return x\n",
    "\n",
    "  output = [ forward_single(input[n], network) for n in range(len(input))]\n",
    "  return output\n",
    "\n",
    "print(forward(x_train, NN))"
   ]
  },
  {
   "cell_type": "markdown",
   "metadata": {
    "id": "oLrGJytZFtGm"
   },
   "source": [
    "## Exercise h) Print all network parameters\n",
    "\n",
    "Make a function that prints all the parameters of the network (weights and biases) with information about in which layer the appear. In the object oriented spirit you should introduce a method in the DenseLayer class to print the parameters of a layer. Hint: You can take inspiration from the corresponding method in Var. "
   ]
  },
  {
   "cell_type": "code",
   "execution_count": 88,
   "metadata": {
    "id": "iac-VwYGFtGm"
   },
   "outputs": [
    {
     "name": "stdout",
     "output_type": "stream",
     "text": [
      "Layer 0:  Weights: [[Var(v=-0.0076, grad=0.0000), Var(v=-0.0208, grad=0.0000), Var(v=-0.0162, grad=0.0000), Var(v=0.0112, grad=0.0000), Var(v=-0.1260, grad=0.0000)]] Biases: [Var(v=0.0000, grad=0.0000), Var(v=0.0000, grad=0.0000), Var(v=0.0000, grad=0.0000), Var(v=0.0000, grad=0.0000), Var(v=0.0000, grad=0.0000)]\n",
      "Layer 1:  Weights: [[Var(v=0.0835, grad=0.0000)], [Var(v=-0.1237, grad=0.0000)], [Var(v=-0.0908, grad=0.0000)], [Var(v=0.1831, grad=0.0000)], [Var(v=0.0125, grad=0.0000)]] Biases: [Var(v=0.0000, grad=0.0000)]\n"
     ]
    }
   ],
   "source": [
    "# Insert code here and in the DenseLayer class\n",
    "def print_parameters(network):\n",
    "  for i, layer in enumerate(network):\n",
    "    print('Layer ' + str(i) + ': ', layer)\n",
    "\n",
    "print_parameters(NN)"
   ]
  },
  {
   "cell_type": "markdown",
   "metadata": {
    "id": "_79HOAXrFtHK"
   },
   "source": [
    "## Visualization\n",
    "\n",
    "Now that we have defined our activation functions we can visualize them to see what they look like:"
   ]
  },
  {
   "cell_type": "code",
   "execution_count": 79,
   "metadata": {
    "id": "1FcylHqLTl-Z"
   },
   "outputs": [
    {
     "data": {
      "text/plain": [
       "[<matplotlib.lines.Line2D at 0x241efb84710>]"
      ]
     },
     "execution_count": 79,
     "metadata": {},
     "output_type": "execute_result"
    },
    {
     "data": {
      "image/png": "[encoded data removed]",
      "text/plain": [
       "<Figure size 640x480 with 1 Axes>"
      ]
     },
     "metadata": {},
     "output_type": "display_data"
    }
   ],
   "source": [
    "x = np.linspace(-6, 6, 100)\n",
    "\n",
    "# convert from Var to ndarray  \n",
    "def Var_to_nparray(x):\n",
    "  y = np.zeros((len(x),len(x[0])))\n",
    "  for i in range(len(x)):\n",
    "    for j in range(len(x[0])):\n",
    "      y[i,j] = x[i][j].v\n",
    "  return y\n",
    "\n",
    "# define 1-1 network with weight = 1 and relu activation \n",
    "NN = [ DenseLayer(1, 1, lambda x: x.relu(), initializer = ConstantInitializer(1.0)) ] \n",
    "y = Var_to_nparray(forward(nparray_to_Var(x), NN))\n",
    "\n",
    "#y = Var_to_nparray(relu(nparray_to_Var(x)))\n",
    "plt.plot(x,y)"
   ]
  },
  {
   "cell_type": "code",
   "execution_count": 82,
   "metadata": {
    "id": "oOL2UolJFtHL"
   },
   "outputs": [
    {
     "data": {
      "image/png": "[encoded data removed]",
      "text/plain": [
       "<Figure size 500x500 with 1 Axes>"
      ]
     },
     "metadata": {},
     "output_type": "display_data"
    }
   ],
   "source": [
    "# Testing all activation layers\n",
    "\n",
    "x = np.linspace(-6, 6, 100)\n",
    "units = {\n",
    "    \"identity\": lambda x: x.identity(),\n",
    "    \"sigmoid\": lambda x: x.sigmoid(),\n",
    "    \"relu\": lambda x: x.relu(),\n",
    "    \"tanh\": lambda x: x.tanh()\n",
    "}\n",
    "\n",
    "plt.figure(figsize=(5, 5))\n",
    "[plt.plot(x, Var_to_nparray(forward(nparray_to_Var(x), [DenseLayer(1, 1, unit, initializer = ConstantInitializer(1.0))]) ), label=unit_name, lw=2) for unit_name, unit in units.items()] # unit(nparray_to_Var(x))), label=unit_name, lw=2) for unit_name, unit in units.items()]\n",
    "plt.legend(loc=2, fontsize=16)\n",
    "plt.title('Our activation functions', fontsize=20)\n",
    "plt.ylim([-2, 5])\n",
    "plt.xlim([-6, 6])\n",
    "plt.show()"
   ]
  },
  {
   "cell_type": "markdown",
   "metadata": {
    "id": "b-jdEl-7FtGs"
   },
   "source": [
    "# Advanced initialization schemes\n",
    "\n",
    "If we are not careful with initialization, the signals we propagate forward ($a^{(l)}$, $l=1,\\ldots,L$) and backward ($\\delta^l$, $l=L,L-1,\\ldots,1$) can blow up or shrink to zero. A statistical analysis of the variance of the signals for different activation functions can be found in these two papers: [Glorot initialization](http://proceedings.mlr.press/v9/glorot10a/glorot10a.pdf) and [He initialization](https://arxiv.org/pdf/1502.01852v1.pdf). \n",
    "\n",
    "The result of the analyses are proposals for how to make the initialization such that the variance of the signals (forward and backward) are kept approxmimatly constant when propagating from layer to layer. The exact expressions depend upon the non-linear activation function used. In Glorot initialization, the aim is to keep both the forward and backward variances constant whereas He only aims at keeping the variance in the forward pass constant.\n",
    "\n",
    "We define $n_{in}$ and $n_{out}$ as the number of input units and output units of a particular layer. \n",
    "\n",
    "The Glorot initialization has the form: \n",
    "\n",
    "$$w_{ij} \\sim N \\bigg( 0, \\, \\frac{2 \\alpha }{n_{in} + n_{out}} \\bigg) \\ . $$\n",
    "\n",
    "where $N(\\mu,\\sigma^2)$ is a Gaussian distribution with mean $\\mu$ and variance $\\sigma^2$ and $\\alpha$ is a parameter that depends upon the activation function used. For $\\tanh$, $\\alpha=1$ and for Rectified Linear Unit (ReLU) activations, $\\alpha=2$. (It is also possible to use a uniform distribution for initialization, see [this blog post](https://mmuratarat.github.io/2019-02-25/xavier-glorot-he-weight-init).) \n",
    "\n",
    "The He initialization is very similar\n",
    "\n",
    "$$w_{ij} \\sim N \\bigg( 0, \\, \\frac{\\alpha}{n_{in}} \\bigg) \\ . $$"
   ]
  },
  {
   "cell_type": "markdown",
   "metadata": {
    "id": "mqeyab9qFtGs"
   },
   "source": [
    "## Exercise i) Glorot and He initialization\n",
    "\n",
    "Using the Initializer class, implement functions that implement Glorot and He \n",
    "\n",
    "Explain briefly how you would test numerically that these initializations have the sought after property. Hint: See plots in Glorot paper.\n",
    "\n",
    "Comment: If you want to be more advanced then try to make a universal initializer taking both the activation function and type (Glorot or He) as argument."
   ]
  },
  {
   "cell_type": "code",
   "execution_count": 114,
   "metadata": {
    "id": "Qyk01CgaFtGt"
   },
   "outputs": [],
   "source": [
    "## Glorot\n",
    "def DenseLayer_Glorot_tanh(n_in: int, n_out: int):\n",
    "  alpha = 1\n",
    "  std = math.sqrt(2*alpha / (n_in+n_out)) # <- replace with proper initialization\n",
    "  return DenseLayer(n_in, n_out, lambda x: x.tanh(), initializer = NormalInitializer(std))\n",
    "\n",
    "## He\n",
    "def DenseLayer_He_relu(n_in: int, n_out: int):\n",
    "  alpha = 2\n",
    "  std = math.sqrt(alpha / n_in) # <- replace with proper initialization\n",
    "  return DenseLayer(n_in, n_out, lambda x: x.relu(), initializer = NormalInitializer(std))"
   ]
  },
  {
   "cell_type": "markdown",
   "metadata": {},
   "source": [
    "We can test if for all layers the variance of the weights at that layer multiplied by the size of that layer is equal to 1. The same should apply if that layer's weights are multiplied by the size of the next layer, leading to the two following conditions:\n",
    "$$\n",
    "\\forall i, n_iVar[W^i]=1\n",
    "$$\n",
    "$$\n",
    "\\forall i, n_{i+1}Var[W^i]=1\n",
    "$$"
   ]
  },
  {
   "cell_type": "markdown",
   "metadata": {
    "id": "-XyXBD37FtHk"
   },
   "source": [
    "## Exercise j) Forward pass unit test\n",
    "\n",
    "Write a bit of code to make a unit test that the forward pass works. This can be done by defining a simple network with for example all weights equal to one (using the ConstantInitializer method) and identity activation functions. \n",
    "\n",
    "Hints: Use the [assert](https://www.w3schools.com/python/ref_keyword_assert.asp), the nparray_to_Var and the Var_to_nparray commands. "
   ]
  },
  {
   "cell_type": "code",
   "execution_count": null,
   "metadata": {
    "id": "k0miqRUAFtHl"
   },
   "outputs": [],
   "source": [
    "# Insert code here\n",
    "simple_NN = [\n",
    "    DenseLayer(1, 1, lambda x: x.identity(), initializer = ConstantInitializer(1.0)),\n",
    "    DenseLayer_Glorot_tanh(1, 5),\n",
    "    DenseLayer_He_relu(5, 1)\n",
    "]\n",
    "\n",
    "y = Var_to_nparray(forward(nparray_to_Var(x), simple_NN))\n",
    "\n",
    "assert x == y"
   ]
  },
  {
   "cell_type": "markdown",
   "metadata": {
    "id": "faCxhfFnFtHp"
   },
   "source": [
    "# Loss functions\n",
    "\n",
    "We are only missing a loss function to we need to define a loss function and its derivative with respect to the output of the neural network $y$"
   ]
  },
  {
   "cell_type": "code",
   "execution_count": 85,
   "metadata": {
    "id": "I2eDYKvAFtHq"
   },
   "outputs": [],
   "source": [
    "def squared_loss(t, y):\n",
    "  \n",
    "  # add check that sizes agree\n",
    "  \n",
    "  def squared_loss_single(t, y):\n",
    "    Loss = Var(0.0)\n",
    "    for i in range(len(t)): # sum over outputs\n",
    "      Loss += (t[i]-y[i]) ** 2\n",
    "    return Loss\n",
    "\n",
    "  Loss = Var(0.0)\n",
    "  for n in range(len(t)): # sum over training data\n",
    "    Loss += squared_loss_single(t[n],y[n])\n",
    "  return Loss"
   ]
  },
  {
   "cell_type": "markdown",
   "metadata": {
    "id": "SrwSJ2UWFtHu"
   },
   "source": [
    "## Exercise k) Implement cross entropy loss\n",
    "\n",
    "Insert code below to implement cross-entropy loss for general dimensionality of $t$. Use a logits formulation:\n",
    "$$\n",
    "\\rm{Loss} = - \\sum_i t_i \\, log \\, p_i \n",
    "$$\n",
    "with $p$ given by the the softmax function in terms of the logits $h$:\n",
    "$$\n",
    "p_i = \\frac{\\exp(h_i)}{\\sum_{i'} \\exp(h_{i'})} .\n",
    "$$\n",
    "Inserting $p$ in the expression for the loss gives\n",
    "$$\n",
    "\\rm{Loss} = - \\sum_i t_i h_i + \\rm{LogSumExp}(h) \\ ,\n",
    "$$\n",
    "where \n",
    "$$\n",
    "\\rm{LogSumExp}(h) = \\log \\sum_i \\exp h_i \\ .\n",
    "$$\n",
    "This is true for $t$ being a one-hot vector. \n",
    "\n",
    "Call the function to convince yourself it works. \n",
    "\n",
    "In practice you want to implement a [numerically stable](https://leimao.github.io/blog/LogSumExp/) version of LogSumExp. But we will not bother about that here.\n",
    "\n",
    "Help: You can add these methods in the Var class:\n",
    "\n",
    "    def exp(self):\n",
    "        return Var(exp(self.v), lambda: [(self, exp(self.v))])\n",
    "    \n",
    "    def log(self):\n",
    "        return Var(log(self.v), lambda: [(self, self.v ** -1)])"
   ]
  },
  {
   "cell_type": "code",
   "execution_count": 100,
   "metadata": {},
   "outputs": [],
   "source": [
    "class Var(Var):\n",
    "    def exp(self):\n",
    "        return Var(exp(self.v), lambda: [(self, exp(self.v))])\n",
    "    \n",
    "    def log(self):\n",
    "        return Var(log(self.v), lambda: [(self, self.v ** -1)])"
   ]
  },
  {
   "cell_type": "code",
   "execution_count": 112,
   "metadata": {
    "id": "6nMuxyfzFtHv"
   },
   "outputs": [],
   "source": [
    "def cross_entropy_loss(t, h):\n",
    "    \n",
    "    Loss = Var(0.0)\n",
    "    temp = Var(0.0)\n",
    "    # Insert code here\n",
    "    for i in range(len(t)):\n",
    "        Loss -= t[i]*h[i]\n",
    "        temp += h[i].exp()\n",
    "    Loss += temp.log()\n",
    "\n",
    "    return Loss"
   ]
  },
  {
   "cell_type": "markdown",
   "metadata": {
    "id": "8fAF5ew4FtHy"
   },
   "source": [
    "# Backward pass\n",
    "\n",
    "Now the magic happens! We get the calculation of the gradients for free. Just do:"
   ]
  },
  {
   "cell_type": "code",
   "execution_count": 117,
   "metadata": {
    "id": "iHyfPPI9Qqwu"
   },
   "outputs": [],
   "source": [
    "NN = [\n",
    "    DenseLayer(1, 5, lambda x: x.relu()),\n",
    "    DenseLayer(5, 1, lambda x: x.identity())\n",
    "]\n",
    "\n",
    "output = forward(x_train, NN)\n",
    "\n",
    "Loss = squared_loss(y_train,output)\n",
    "Loss.backward()"
   ]
  },
  {
   "cell_type": "markdown",
   "metadata": {
    "id": "49biIAYKQ1oG"
   },
   "source": [
    "and the gradients will be calculated:"
   ]
  },
  {
   "cell_type": "code",
   "execution_count": 118,
   "metadata": {
    "id": "_rGt1bq_Q7uk"
   },
   "outputs": [
    {
     "name": "stdout",
     "output_type": "stream",
     "text": [
      "Layer 0 \n",
      " Weights: [[Var(v=0.0113, grad=7.0991), Var(v=0.0337, grad=-1.1192), Var(v=0.0040, grad=-5.9873), Var(v=-0.0244, grad=-11.5521), Var(v=-0.0437, grad=-11.8595)]] Biases: [Var(v=0.0000, grad=6.0981), Var(v=0.0000, grad=-0.9614), Var(v=0.0000, grad=-5.1431), Var(v=0.0000, grad=10.5019), Var(v=0.0000, grad=10.7813)]\n",
      "Layer 1 \n",
      " Weights: [[Var(v=-0.0699, grad=-1.1476)], [Var(v=0.0110, grad=-3.4268)], [Var(v=0.0589, grad=-0.4093)], [Var(v=0.1193, grad=2.3596)], [Var(v=0.1225, grad=4.2280)]] Biases: [Var(v=0.0000, grad=0.7477)]\n"
     ]
    },
    {
     "data": {
      "text/plain": [
       "[None, None]"
      ]
     },
     "execution_count": 118,
     "metadata": {},
     "output_type": "execute_result"
    }
   ],
   "source": [
    "[print('Layer', i, '\\n', NN[i]) for i in range(len(NN))]"
   ]
  },
  {
   "cell_type": "markdown",
   "metadata": {
    "id": "D7d7qK0uFtH9"
   },
   "source": [
    "# Backward pass unit test\n",
    "\n",
    "Above we used finite differences to test that Nanograd is actually doing what it is supposed to do. We can in principle try the same for the neural network. But we will trust that the test above is enough."
   ]
  },
  {
   "cell_type": "markdown",
   "metadata": {
    "id": "WgBi8GOSFtIN"
   },
   "source": [
    "# Training and validation\n",
    "\n",
    "We are ready to train some neural networks!\n",
    "\n",
    "We initialize again:"
   ]
  },
  {
   "cell_type": "code",
   "execution_count": 122,
   "metadata": {
    "id": "01ePmzBzRtdh"
   },
   "outputs": [],
   "source": [
    "NN = [\n",
    "    DenseLayer(1, 15, lambda x: x.relu()),\n",
    "    DenseLayer(15, 50, lambda x: x.relu()),\n",
    "    DenseLayer(50, 1, lambda x: x.identity())\n",
    "]\n",
    "\n",
    "output = forward(x_train, NN)\n",
    "\n",
    "Loss = squared_loss(y_train,output)\n",
    "Loss.backward()"
   ]
  },
  {
   "cell_type": "markdown",
   "metadata": {
    "id": "10iRPiQ1ISHw"
   },
   "source": [
    "and make an update:\n",
    "\n",
    "We introduce a help function parameters to have a handle in all parameters in the network."
   ]
  },
  {
   "cell_type": "code",
   "execution_count": 123,
   "metadata": {
    "id": "dhAI7eyeznia"
   },
   "outputs": [
    {
     "name": "stdout",
     "output_type": "stream",
     "text": [
      "Network before update:\n",
      "Layer 0 \n",
      " Weights: [[Var(v=-0.0033, grad=2.5871), Var(v=0.0293, grad=-4.2167), Var(v=-0.0906, grad=-5.8784), Var(v=0.0668, grad=-6.8943), Var(v=0.0437, grad=-0.3853), Var(v=0.1092, grad=6.6316), Var(v=0.1142, grad=-0.7914), Var(v=-0.0041, grad=3.7442), Var(v=0.1081, grad=3.3949), Var(v=0.0964, grad=-2.7006), Var(v=0.1679, grad=1.4660), Var(v=0.0742, grad=-10.6908), Var(v=-0.0202, grad=-0.2419), Var(v=0.0127, grad=1.8090), Var(v=0.0906, grad=3.6772)]] Biases: [Var(v=0.0000, grad=-2.3518), Var(v=0.0000, grad=-3.6221), Var(v=0.0000, grad=5.3437), Var(v=0.0000, grad=-5.9222), Var(v=0.0000, grad=-0.3309), Var(v=0.0000, grad=5.6966), Var(v=0.0000, grad=-0.6798), Var(v=0.0000, grad=-3.4036), Var(v=0.0000, grad=2.9163), Var(v=0.0000, grad=-2.3198), Var(v=0.0000, grad=1.2593), Var(v=0.0000, grad=-9.1835), Var(v=0.0000, grad=0.2199), Var(v=0.0000, grad=1.5539), Var(v=0.0000, grad=3.1587)]\n",
      "Layer 1 \n",
      " Weights: [[Var(v=0.1560, grad=0.0539), Var(v=0.0440, grad=-0.0097), Var(v=-0.0378, grad=0.0010), Var(v=0.0194, grad=0.0110), Var(v=0.0284, grad=0.0071), Var(v=0.0305, grad=0.0249), Var(v=-0.1351, grad=0.0282), Var(v=-0.0336, grad=0.0000), Var(v=0.1167, grad=-0.0168), Var(v=0.0583, grad=0.0000), Var(v=0.0244, grad=0.0000), Var(v=-0.0380, grad=0.0496), Var(v=0.1465, grad=0.0000), Var(v=0.0911, grad=0.0413), Var(v=0.0297, grad=-0.0315), Var(v=-0.1692, grad=0.0092), Var(v=-0.0376, grad=0.0000), Var(v=0.0411, grad=-0.0603), Var(v=0.0176, grad=0.0126), Var(v=0.0517, grad=0.0000), Var(v=-0.1280, grad=0.0000), Var(v=0.0525, grad=-0.0249), Var(v=-0.1175, grad=0.0000), Var(v=0.1503, grad=0.0000), Var(v=-0.0737, grad=0.0214), Var(v=-0.0642, grad=0.0000), Var(v=0.0807, grad=-0.0348), Var(v=0.0388, grad=0.0489), Var(v=-0.0758, grad=-0.0011), Var(v=0.2204, grad=0.0000), Var(v=0.0609, grad=0.0000), Var(v=0.0373, grad=-0.0095), Var(v=-0.0368, grad=-0.0037), Var(v=-0.1420, grad=0.0082), Var(v=0.0259, grad=0.0000), Var(v=-0.1929, grad=0.0000), Var(v=0.0667, grad=0.0000), Var(v=0.0164, grad=0.0000), Var(v=0.0820, grad=0.0000), Var(v=0.0172, grad=0.0403), Var(v=0.1009, grad=-0.0043), Var(v=-0.0831, grad=0.0350), Var(v=0.1422, grad=0.0000), Var(v=0.1115, grad=-0.0005), Var(v=-0.0329, grad=0.0356), Var(v=0.0380, grad=0.0000), Var(v=0.0631, grad=-0.0004), Var(v=0.0088, grad=0.0000), Var(v=-0.0671, grad=0.0000), Var(v=-0.1650, grad=0.0000)], [Var(v=0.1597, grad=0.0000), Var(v=0.0874, grad=0.0000), Var(v=0.1089, grad=-0.0098), Var(v=0.1398, grad=-0.1034), Var(v=0.0125, grad=-0.0670), Var(v=-0.0075, grad=0.0000), Var(v=-0.0053, grad=0.0000), Var(v=0.0733, grad=0.2418), Var(v=0.0736, grad=0.1580), Var(v=-0.2267, grad=0.0000), Var(v=-0.1629, grad=0.0000), Var(v=-0.0935, grad=0.0000), Var(v=0.0563, grad=0.2558), Var(v=0.1044, grad=0.0000), Var(v=0.0947, grad=0.0000), Var(v=-0.1670, grad=-0.0858), Var(v=-0.0946, grad=0.1338), Var(v=0.0629, grad=0.0000), Var(v=0.0902, grad=-0.1179), Var(v=0.0201, grad=-0.1278), Var(v=-0.0466, grad=0.0000), Var(v=0.0305, grad=0.2333), Var(v=0.1235, grad=0.0000), Var(v=-0.0309, grad=0.0000), Var(v=0.0463, grad=0.0000), Var(v=-0.0899, grad=-0.1148), Var(v=-0.0525, grad=0.0000), Var(v=0.2330, grad=-0.4586), Var(v=-0.0495, grad=0.0000), Var(v=-0.1083, grad=0.1003), Var(v=0.1144, grad=0.0931), Var(v=0.2479, grad=0.0887), Var(v=-0.0146, grad=0.0000), Var(v=0.0718, grad=0.0000), Var(v=0.0282, grad=0.0824), Var(v=0.0671, grad=0.1412), Var(v=-0.0038, grad=0.0379), Var(v=0.0073, grad=-0.3168), Var(v=0.1208, grad=0.0000), Var(v=-0.0890, grad=0.0000), Var(v=-0.0319, grad=0.0000), Var(v=-0.0017, grad=-0.3284), Var(v=-0.0633, grad=0.0000), Var(v=0.1600, grad=0.0000), Var(v=0.0236, grad=-0.3339), Var(v=-0.1188, grad=0.0000), Var(v=0.0628, grad=0.0041), Var(v=0.0345, grad=-0.5309), Var(v=0.1189, grad=-0.4705), Var(v=0.0774, grad=0.0000)], [Var(v=0.1231, grad=1.4824), Var(v=0.1127, grad=-0.2657), Var(v=-0.0073, grad=0.0289), Var(v=0.0184, grad=0.3033), Var(v=0.1811, grad=0.1966), Var(v=0.1878, grad=0.6841), Var(v=0.0978, grad=0.7759), Var(v=-0.0236, grad=0.0000), Var(v=-0.0002, grad=-0.4637), Var(v=-0.0664, grad=0.0000), Var(v=-0.0715, grad=0.0000), Var(v=0.1159, grad=1.3657), Var(v=-0.0974, grad=0.0000), Var(v=0.1023, grad=1.1372), Var(v=0.1915, grad=-0.8659), Var(v=0.0936, grad=0.2519), Var(v=-0.0309, grad=0.0000), Var(v=0.1194, grad=-1.6589), Var(v=0.0207, grad=0.3460), Var(v=-0.0823, grad=0.0000), Var(v=-0.1175, grad=0.0000), Var(v=0.1155, grad=-0.6846), Var(v=-0.0495, grad=0.0000), Var(v=-0.0555, grad=0.0000), Var(v=0.0282, grad=0.5887), Var(v=-0.0758, grad=0.0000), Var(v=0.0455, grad=-0.9584), Var(v=0.0213, grad=1.3456), Var(v=0.1478, grad=-0.0296), Var(v=-0.1088, grad=0.0000), Var(v=-0.1311, grad=0.0000), Var(v=0.1961, grad=-0.2603), Var(v=0.0136, grad=-0.1019), Var(v=0.0482, grad=0.2255), Var(v=-0.0609, grad=0.0000), Var(v=-0.1908, grad=0.0000), Var(v=-0.0908, grad=0.0000), Var(v=-0.0363, grad=0.0000), Var(v=-0.0115, grad=0.0000), Var(v=0.0218, grad=1.1084), Var(v=0.0688, grad=-0.1172), Var(v=0.1841, grad=0.9635), Var(v=-0.0444, grad=0.0000), Var(v=0.0729, grad=-0.0127), Var(v=0.1272, grad=0.9798), Var(v=-0.0050, grad=0.0000), Var(v=0.0960, grad=-0.0119), Var(v=-0.0566, grad=0.0000), Var(v=0.0582, grad=0.0000), Var(v=-0.2196, grad=0.0000)], [Var(v=-0.0365, grad=0.0000), Var(v=0.0633, grad=0.0000), Var(v=0.0094, grad=-0.0224), Var(v=0.0527, grad=-0.2352), Var(v=0.0155, grad=-0.1524), Var(v=0.2005, grad=0.0000), Var(v=-0.1830, grad=0.0000), Var(v=0.0087, grad=0.5502), Var(v=0.0960, grad=0.3596), Var(v=0.0702, grad=0.0000), Var(v=0.0264, grad=0.0000), Var(v=-0.0612, grad=0.0000), Var(v=0.0737, grad=0.5821), Var(v=-0.0529, grad=0.0000), Var(v=0.1349, grad=0.0000), Var(v=0.1004, grad=-0.1953), Var(v=-0.1894, grad=0.3045), Var(v=-0.0262, grad=0.0000), Var(v=-0.0480, grad=-0.2683), Var(v=0.0640, grad=-0.2909), Var(v=0.1120, grad=0.0000), Var(v=0.1439, grad=0.5309), Var(v=-0.0460, grad=0.0000), Var(v=-0.0585, grad=0.0000), Var(v=-0.0584, grad=0.0000), Var(v=0.1378, grad=-0.2612), Var(v=-0.1098, grad=0.0000), Var(v=0.0635, grad=-1.0435), Var(v=0.0395, grad=0.0000), Var(v=-0.0839, grad=0.2283), Var(v=-0.1395, grad=0.2119), Var(v=-0.0744, grad=0.2018), Var(v=-0.2056, grad=0.0000), Var(v=0.0138, grad=0.0000), Var(v=0.0596, grad=0.1876), Var(v=0.0402, grad=0.3212), Var(v=0.0250, grad=0.0863), Var(v=0.0794, grad=-0.7208), Var(v=0.0820, grad=0.0000), Var(v=-0.1461, grad=0.0000), Var(v=0.0851, grad=0.0000), Var(v=0.1190, grad=-0.7472), Var(v=-0.1963, grad=0.0000), Var(v=0.0487, grad=0.0000), Var(v=0.1216, grad=-0.7598), Var(v=0.0139, grad=0.0000), Var(v=-0.0065, grad=0.0092), Var(v=0.0499, grad=-1.2081), Var(v=0.0768, grad=-1.0705), Var(v=0.0229, grad=0.0000)], [Var(v=-0.1471, grad=0.0000), Var(v=0.0630, grad=0.0000), Var(v=-0.1157, grad=-0.0147), Var(v=0.1250, grad=-0.1539), Var(v=-0.0154, grad=-0.0998), Var(v=-0.0772, grad=0.0000), Var(v=-0.0083, grad=0.0000), Var(v=0.0531, grad=0.3602), Var(v=0.0313, grad=0.2354), Var(v=0.1032, grad=0.0000), Var(v=-0.0635, grad=0.0000), Var(v=0.1241, grad=0.0000), Var(v=-0.0006, grad=0.3810), Var(v=0.0599, grad=0.0000), Var(v=-0.1065, grad=0.0000), Var(v=-0.1035, grad=-0.1279), Var(v=0.0016, grad=0.1993), Var(v=-0.0569, grad=0.0000), Var(v=0.1023, grad=-0.1757), Var(v=-0.1131, grad=-0.1904), Var(v=0.0931, grad=0.0000), Var(v=-0.0164, grad=0.3475), Var(v=-0.0750, grad=0.0000), Var(v=-0.0145, grad=0.0000), Var(v=-0.1087, grad=0.0000), Var(v=-0.1406, grad=-0.1710), Var(v=0.2950, grad=0.0000), Var(v=0.0867, grad=-0.6831), Var(v=0.0386, grad=0.0000), Var(v=-0.1469, grad=0.1495), Var(v=0.0529, grad=0.1387), Var(v=0.0427, grad=0.1321), Var(v=-0.0029, grad=0.0000), Var(v=-0.0330, grad=0.0000), Var(v=0.0513, grad=0.1228), Var(v=-0.1388, grad=0.2103), Var(v=-0.0351, grad=0.0565), Var(v=-0.0034, grad=-0.4718), Var(v=-0.1686, grad=0.0000), Var(v=-0.1444, grad=0.0000), Var(v=-0.0026, grad=0.0000), Var(v=-0.0928, grad=-0.4891), Var(v=0.1687, grad=0.0000), Var(v=0.0448, grad=0.0000), Var(v=-0.0938, grad=-0.4974), Var(v=0.0380, grad=0.0000), Var(v=-0.0553, grad=0.0060), Var(v=-0.0284, grad=-0.7908), Var(v=0.1216, grad=-0.7007), Var(v=-0.0540, grad=0.0000)], [Var(v=0.0541, grad=0.0000), Var(v=0.1193, grad=0.0000), Var(v=-0.0018, grad=-0.0366), Var(v=0.1510, grad=-0.3846), Var(v=0.1389, grad=-0.2493), Var(v=-0.0648, grad=0.0000), Var(v=0.0491, grad=0.0000), Var(v=0.0602, grad=0.8999), Var(v=0.0569, grad=0.5880), Var(v=-0.0178, grad=0.0000), Var(v=0.0519, grad=0.0000), Var(v=-0.1799, grad=0.0000), Var(v=0.1556, grad=0.9519), Var(v=-0.2454, grad=0.0000), Var(v=-0.0311, grad=0.0000), Var(v=-0.0723, grad=-0.3195), Var(v=0.0366, grad=0.4980), Var(v=0.0835, grad=0.0000), Var(v=0.0163, grad=-0.4388), Var(v=-0.2026, grad=-0.4757), Var(v=-0.1653, grad=0.0000), Var(v=-0.0109, grad=0.8682), Var(v=0.0234, grad=0.0000), Var(v=-0.0772, grad=0.0000), Var(v=0.0142, grad=0.0000), Var(v=0.0328, grad=-0.4271), Var(v=-0.1255, grad=0.0000), Var(v=-0.0991, grad=-1.7065), Var(v=0.0169, grad=0.0000), Var(v=0.0689, grad=0.3734), Var(v=0.0149, grad=0.3465), Var(v=-0.0122, grad=0.3301), Var(v=-0.1655, grad=0.0000), Var(v=0.0023, grad=0.0000), Var(v=-0.1229, grad=0.3068), Var(v=0.1318, grad=0.5253), Var(v=0.0896, grad=0.1411), Var(v=0.1150, grad=-1.1787), Var(v=-0.0040, grad=0.0000), Var(v=-0.3004, grad=0.0000), Var(v=-0.0077, grad=0.0000), Var(v=-0.0175, grad=-1.2220), Var(v=-0.1138, grad=0.0000), Var(v=-0.1217, grad=0.0000), Var(v=-0.0324, grad=-1.2426), Var(v=0.0106, grad=0.0000), Var(v=-0.0211, grad=0.0151), Var(v=-0.1432, grad=-1.9757), Var(v=-0.0145, grad=-1.7506), Var(v=-0.0652, grad=0.0000)], [Var(v=-0.0147, grad=0.0000), Var(v=0.0211, grad=0.0000), Var(v=0.0128, grad=-0.0383), Var(v=0.0085, grad=-0.4023), Var(v=0.0608, grad=-0.2607), Var(v=-0.1739, grad=0.0000), Var(v=-0.0240, grad=0.0000), Var(v=-0.0249, grad=0.9412), Var(v=0.1579, grad=0.6150), Var(v=-0.0085, grad=0.0000), Var(v=-0.0364, grad=0.0000), Var(v=-0.1275, grad=0.0000), Var(v=0.2382, grad=0.9956), Var(v=-0.0554, grad=0.0000), Var(v=-0.0083, grad=0.0000), Var(v=0.0361, grad=-0.3341), Var(v=0.1948, grad=0.5208), Var(v=-0.0132, grad=0.0000), Var(v=0.1481, grad=-0.4590), Var(v=0.0063, grad=-0.4975), Var(v=0.0094, grad=0.0000), Var(v=0.0431, grad=0.9080), Var(v=-0.0594, grad=0.0000), Var(v=0.0808, grad=0.0000), Var(v=-0.0758, grad=0.0000), Var(v=0.0899, grad=-0.4467), Var(v=0.0237, grad=0.0000), Var(v=0.1101, grad=-1.7848), Var(v=0.0031, grad=0.0000), Var(v=-0.0349, grad=0.3905), Var(v=0.1224, grad=0.3625), Var(v=-0.0802, grad=0.3452), Var(v=-0.0027, grad=0.0000), Var(v=-0.1130, grad=0.0000), Var(v=0.0062, grad=0.3209), Var(v=0.0773, grad=0.5494), Var(v=-0.1546, grad=0.1476), Var(v=-0.0611, grad=-1.2328), Var(v=0.0348, grad=0.0000), Var(v=-0.0082, grad=0.0000), Var(v=0.0204, grad=0.0000), Var(v=0.1020, grad=-1.2781), Var(v=-0.0348, grad=0.0000), Var(v=-0.0159, grad=0.0000), Var(v=-0.1345, grad=-1.2996), Var(v=-0.1003, grad=0.0000), Var(v=-0.0799, grad=0.0158), Var(v=0.1457, grad=-2.0664), Var(v=0.0241, grad=-1.8310), Var(v=0.0476, grad=0.0000)], [Var(v=0.0020, grad=0.0666), Var(v=0.1397, grad=-0.0119), Var(v=0.0616, grad=0.0013), Var(v=0.0318, grad=0.0136), Var(v=-0.0914, grad=0.0088), Var(v=0.0382, grad=0.0307), Var(v=0.0271, grad=0.0349), Var(v=0.1354, grad=0.0000), Var(v=0.0760, grad=-0.0208), Var(v=0.0079, grad=0.0000), Var(v=-0.0456, grad=0.0000), Var(v=-0.0610, grad=0.0614), Var(v=-0.0213, grad=0.0000), Var(v=0.0695, grad=0.0511), Var(v=0.0534, grad=-0.0389), Var(v=-0.0435, grad=0.0113), Var(v=0.0676, grad=0.0000), Var(v=0.0320, grad=-0.0745), Var(v=-0.0152, grad=0.0155), Var(v=-0.1086, grad=0.0000), Var(v=-0.1037, grad=0.0000), Var(v=0.0583, grad=-0.0308), Var(v=-0.1029, grad=0.0000), Var(v=0.0792, grad=0.0000), Var(v=-0.0014, grad=0.0265), Var(v=-0.0565, grad=0.0000), Var(v=-0.0249, grad=-0.0431), Var(v=0.0244, grad=0.0605), Var(v=0.2196, grad=-0.0013), Var(v=-0.0437, grad=0.0000), Var(v=-0.0821, grad=0.0000), Var(v=-0.0777, grad=-0.0117), Var(v=-0.1597, grad=-0.0046), Var(v=-0.1317, grad=0.0101), Var(v=-0.0827, grad=0.0000), Var(v=-0.0529, grad=0.0000), Var(v=-0.1295, grad=0.0000), Var(v=-0.0405, grad=0.0000), Var(v=0.1877, grad=0.0000), Var(v=0.0111, grad=0.0498), Var(v=0.1617, grad=-0.0053), Var(v=-0.0965, grad=0.0433), Var(v=-0.1283, grad=0.0000), Var(v=0.2341, grad=-0.0006), Var(v=-0.1056, grad=0.0440), Var(v=0.0936, grad=0.0000), Var(v=0.0560, grad=-0.0005), Var(v=-0.0436, grad=0.0000), Var(v=-0.0616, grad=0.0000), Var(v=0.0470, grad=0.0000)], [Var(v=0.0374, grad=0.0000), Var(v=-0.0430, grad=0.0000), Var(v=0.0314, grad=-0.0363), Var(v=-0.0501, grad=-0.3806), Var(v=0.1031, grad=-0.2467), Var(v=-0.0765, grad=0.0000), Var(v=-0.2257, grad=0.0000), Var(v=-0.0598, grad=0.8905), Var(v=-0.0166, grad=0.5820), Var(v=-0.0114, grad=0.0000), Var(v=-0.0464, grad=0.0000), Var(v=-0.0218, grad=0.0000), Var(v=-0.1580, grad=0.9421), Var(v=-0.0536, grad=0.0000), Var(v=-0.0946, grad=0.0000), Var(v=-0.0033, grad=-0.3161), Var(v=0.1344, grad=0.4928), Var(v=-0.1571, grad=0.0000), Var(v=0.0027, grad=-0.4343), Var(v=0.0501, grad=-0.4708), Var(v=-0.0371, grad=0.0000), Var(v=0.0411, grad=0.8592), Var(v=-0.0133, grad=0.0000), Var(v=-0.1540, grad=0.0000), Var(v=0.0574, grad=0.0000), Var(v=0.0024, grad=-0.4227), Var(v=0.0517, grad=0.0000), Var(v=-0.0392, grad=-1.6888), Var(v=0.0071, grad=0.0000), Var(v=-0.0650, grad=0.3695), Var(v=0.0715, grad=0.3430), Var(v=-0.0040, grad=0.3267), Var(v=0.0252, grad=0.0000), Var(v=-0.0765, grad=0.0000), Var(v=0.2081, grad=0.3036), Var(v=0.0627, grad=0.5199), Var(v=-0.0911, grad=0.1397), Var(v=-0.0614, grad=-1.1665), Var(v=-0.0873, grad=0.0000), Var(v=-0.0030, grad=0.0000), Var(v=0.0015, grad=0.0000), Var(v=-0.0389, grad=-1.2093), Var(v=0.0482, grad=0.0000), Var(v=-0.1607, grad=0.0000), Var(v=-0.0507, grad=-1.2297), Var(v=-0.0187, grad=0.0000), Var(v=0.1121, grad=0.0149), Var(v=-0.1545, grad=-1.9552), Var(v=0.0716, grad=-1.7325), Var(v=-0.0083, grad=0.0000)], [Var(v=0.0600, grad=0.0000), Var(v=-0.1280, grad=0.0000), Var(v=0.1534, grad=-0.0324), Var(v=-0.0219, grad=-0.3397), Var(v=0.1492, grad=-0.2202), Var(v=-0.1517, grad=0.0000), Var(v=-0.0173, grad=0.0000), Var(v=0.0921, grad=0.7947), Var(v=0.0131, grad=0.5194), Var(v=-0.1222, grad=0.0000), Var(v=-0.1292, grad=0.0000), Var(v=0.0431, grad=0.0000), Var(v=-0.0991, grad=0.8407), Var(v=0.0797, grad=0.0000), Var(v=-0.0288, grad=0.0000), Var(v=0.1124, grad=-0.2821), Var(v=0.0517, grad=0.4398), Var(v=0.0577, grad=0.0000), Var(v=0.0886, grad=-0.3876), Var(v=0.1078, grad=-0.4201), Var(v=-0.0396, grad=0.0000), Var(v=0.1726, grad=0.7668), Var(v=-0.0687, grad=0.0000), Var(v=0.1478, grad=0.0000), Var(v=-0.0460, grad=0.0000), Var(v=0.0093, grad=-0.3772), Var(v=0.0385, grad=0.0000), Var(v=-0.0221, grad=-1.5071), Var(v=-0.1882, grad=0.0000), Var(v=-0.0072, grad=0.3298), Var(v=-0.0116, grad=0.3061), Var(v=0.1288, grad=0.2915), Var(v=0.0391, grad=0.0000), Var(v=-0.1451, grad=0.0000), Var(v=-0.0322, grad=0.2709), Var(v=-0.0230, grad=0.4640), Var(v=0.0828, grad=0.1247), Var(v=0.1030, grad=-1.0410), Var(v=-0.0985, grad=0.0000), Var(v=-0.0144, grad=0.0000), Var(v=-0.1849, grad=0.0000), Var(v=0.0757, grad=-1.0792), Var(v=0.1331, grad=0.0000), Var(v=-0.1000, grad=0.0000), Var(v=-0.0067, grad=-1.0974), Var(v=-0.1944, grad=0.0000), Var(v=-0.0406, grad=0.0133), Var(v=0.1187, grad=-1.7449), Var(v=-0.0429, grad=-1.5462), Var(v=0.0195, grad=0.0000)], [Var(v=-0.0109, grad=0.0000), Var(v=-0.0420, grad=0.0000), Var(v=-0.0014, grad=-0.0563), Var(v=-0.0697, grad=-0.5913), Var(v=-0.0358, grad=-0.3833), Var(v=0.0795, grad=0.0000), Var(v=-0.0510, grad=0.0000), Var(v=0.1198, grad=1.3835), Var(v=0.0550, grad=0.9041), Var(v=-0.0425, grad=0.0000), Var(v=-0.2230, grad=0.0000), Var(v=-0.0769, grad=0.0000), Var(v=-0.0135, grad=1.4636), Var(v=-0.0377, grad=0.0000), Var(v=-0.0571, grad=0.0000), Var(v=0.0386, grad=-0.4912), Var(v=0.0003, grad=0.7657), Var(v=-0.1100, grad=0.0000), Var(v=0.2088, grad=-0.6747), Var(v=-0.0437, grad=-0.7314), Var(v=-0.0329, grad=0.0000), Var(v=0.1650, grad=1.3348), Var(v=-0.0784, grad=0.0000), Var(v=-0.0418, grad=0.0000), Var(v=-0.0352, grad=0.0000), Var(v=-0.0370, grad=-0.6567), Var(v=-0.1560, grad=0.0000), Var(v=0.0416, grad=-2.6237), Var(v=-0.0217, grad=0.0000), Var(v=0.0939, grad=0.5741), Var(v=0.0221, grad=0.5328), Var(v=-0.0006, grad=0.5075), Var(v=-0.0537, grad=0.0000), Var(v=0.0801, grad=0.0000), Var(v=0.1599, grad=0.4717), Var(v=-0.0237, grad=0.8077), Var(v=-0.0721, grad=0.2170), Var(v=-0.0070, grad=-1.8123), Var(v=-0.0510, grad=0.0000), Var(v=-0.0983, grad=0.0000), Var(v=0.0058, grad=0.0000), Var(v=-0.0162, grad=-1.8788), Var(v=-0.0518, grad=0.0000), Var(v=-0.1339, grad=0.0000), Var(v=0.1588, grad=-1.9105), Var(v=-0.0271, grad=0.0000), Var(v=0.0809, grad=0.0232), Var(v=0.0298, grad=-3.0376), Var(v=-0.0856, grad=-2.6917), Var(v=-0.0516, grad=0.0000)], [Var(v=-0.0810, grad=0.0000), Var(v=-0.0932, grad=0.0000), Var(v=0.2293, grad=-0.0249), Var(v=0.0779, grad=-0.2612), Var(v=-0.0448, grad=-0.1693), Var(v=0.0253, grad=0.0000), Var(v=0.1138, grad=0.0000), Var(v=-0.0125, grad=0.6111), Var(v=-0.1913, grad=0.3993), Var(v=-0.0874, grad=0.0000), Var(v=0.0487, grad=0.0000), Var(v=0.1422, grad=0.0000), Var(v=0.0301, grad=0.6464), Var(v=-0.0560, grad=0.0000), Var(v=0.0852, grad=0.0000), Var(v=0.1301, grad=-0.2169), Var(v=-0.1922, grad=0.3382), Var(v=0.0240, grad=0.0000), Var(v=0.0472, grad=-0.2980), Var(v=0.1185, grad=-0.3230), Var(v=0.1248, grad=0.0000), Var(v=0.1174, grad=0.5896), Var(v=0.0620, grad=0.0000), Var(v=-0.0894, grad=0.0000), Var(v=-0.0742, grad=0.0000), Var(v=-0.0312, grad=-0.2900), Var(v=-0.1872, grad=0.0000), Var(v=0.1575, grad=-1.1589), Var(v=-0.0130, grad=0.0000), Var(v=0.1603, grad=0.2536), Var(v=-0.0974, grad=0.2353), Var(v=-0.0360, grad=0.2242), Var(v=0.1591, grad=0.0000), Var(v=-0.0030, grad=0.0000), Var(v=-0.0267, grad=0.2083), Var(v=0.1483, grad=0.3567), Var(v=0.0567, grad=0.0959), Var(v=0.1998, grad=-0.8005), Var(v=0.1676, grad=0.0000), Var(v=-0.0568, grad=0.0000), Var(v=-0.1297, grad=0.0000), Var(v=0.0454, grad=-0.8298), Var(v=-0.1435, grad=0.0000), Var(v=-0.0522, grad=0.0000), Var(v=0.2252, grad=-0.8438), Var(v=-0.0164, grad=0.0000), Var(v=0.1296, grad=0.0102), Var(v=0.0109, grad=-1.3417), Var(v=0.1021, grad=-1.1889), Var(v=-0.0053, grad=0.0000)], [Var(v=0.0095, grad=0.3303), Var(v=-0.0658, grad=-0.0592), Var(v=0.0536, grad=0.0064), Var(v=0.2180, grad=0.0676), Var(v=0.0376, grad=0.0438), Var(v=-0.0537, grad=0.1524), Var(v=-0.0008, grad=0.1729), Var(v=-0.0913, grad=0.0000), Var(v=0.2198, grad=-0.1033), Var(v=0.1337, grad=0.0000), Var(v=-0.0201, grad=0.0000), Var(v=-0.0952, grad=0.3043), Var(v=-0.0683, grad=0.0000), Var(v=-0.1335, grad=0.2534), Var(v=-0.1044, grad=-0.1929), Var(v=-0.2973, grad=0.0561), Var(v=0.0402, grad=0.0000), Var(v=-0.1573, grad=-0.3696), Var(v=0.1775, grad=0.0771), Var(v=0.0247, grad=0.0000), Var(v=-0.0314, grad=0.0000), Var(v=-0.0922, grad=-0.1525), Var(v=0.0420, grad=0.0000), Var(v=-0.0065, grad=0.0000), Var(v=-0.0313, grad=0.1312), Var(v=-0.0127, grad=0.0000), Var(v=-0.0138, grad=-0.2135), Var(v=0.0403, grad=0.2998), Var(v=0.0188, grad=-0.0066), Var(v=-0.3014, grad=0.0000), Var(v=-0.0193, grad=0.0000), Var(v=0.0340, grad=-0.0580), Var(v=0.0103, grad=-0.0227), Var(v=-0.0723, grad=0.0502), Var(v=0.0203, grad=0.0000), Var(v=-0.0194, grad=0.0000), Var(v=0.0675, grad=0.0000), Var(v=0.0697, grad=0.0000), Var(v=-0.1383, grad=0.0000), Var(v=-0.0989, grad=0.2470), Var(v=0.0364, grad=-0.0261), Var(v=0.1255, grad=0.2147), Var(v=0.1734, grad=0.0000), Var(v=0.1035, grad=-0.0028), Var(v=-0.0973, grad=0.2183), Var(v=-0.0791, grad=0.0000), Var(v=-0.2421, grad=-0.0026), Var(v=-0.0401, grad=0.0000), Var(v=-0.2529, grad=0.0000), Var(v=-0.2108, grad=0.0000)], [Var(v=0.0878, grad=0.0000), Var(v=0.0930, grad=0.0000), Var(v=-0.0248, grad=-0.0043), Var(v=0.0710, grad=-0.0448), Var(v=0.0284, grad=-0.0290), Var(v=0.0146, grad=0.0000), Var(v=-0.0424, grad=0.0000), Var(v=-0.0442, grad=0.1048), Var(v=-0.1407, grad=0.0685), Var(v=0.0974, grad=0.0000), Var(v=-0.0090, grad=0.0000), Var(v=0.1294, grad=0.0000), Var(v=-0.0204, grad=0.1109), Var(v=-0.0696, grad=0.0000), Var(v=-0.0919, grad=0.0000), Var(v=0.0024, grad=-0.0372), Var(v=-0.1002, grad=0.0580), Var(v=-0.0508, grad=0.0000), Var(v=0.0088, grad=-0.0511), Var(v=-0.1754, grad=-0.0554), Var(v=0.0128, grad=0.0000), Var(v=0.0643, grad=0.1011), Var(v=-0.0592, grad=0.0000), Var(v=0.0898, grad=0.0000), Var(v=0.0109, grad=0.0000), Var(v=-0.1963, grad=-0.0498), Var(v=-0.0435, grad=0.0000), Var(v=-0.1950, grad=-0.1988), Var(v=-0.1435, grad=0.0000), Var(v=0.0027, grad=0.0435), Var(v=0.0943, grad=0.0404), Var(v=-0.1387, grad=0.0385), Var(v=-0.0119, grad=0.0000), Var(v=-0.0085, grad=0.0000), Var(v=-0.2696, grad=0.0357), Var(v=0.0986, grad=0.0612), Var(v=-0.1349, grad=0.0164), Var(v=-0.0411, grad=-0.1373), Var(v=-0.0141, grad=0.0000), Var(v=-0.0376, grad=0.0000), Var(v=0.1069, grad=0.0000), Var(v=0.0349, grad=-0.1424), Var(v=-0.0461, grad=0.0000), Var(v=0.0546, grad=0.0000), Var(v=0.0566, grad=-0.1448), Var(v=0.1980, grad=0.0000), Var(v=-0.0483, grad=0.0018), Var(v=0.0512, grad=-0.2302), Var(v=-0.0572, grad=-0.2040), Var(v=0.2850, grad=0.0000)], [Var(v=-0.1171, grad=0.0000), Var(v=-0.0311, grad=0.0000), Var(v=-0.0581, grad=-0.0304), Var(v=0.1299, grad=-0.3193), Var(v=0.0515, grad=-0.2069), Var(v=0.0027, grad=0.0000), Var(v=-0.0989, grad=0.0000), Var(v=0.1034, grad=0.7470), Var(v=-0.0562, grad=0.4881), Var(v=-0.0546, grad=0.0000), Var(v=-0.0574, grad=0.0000), Var(v=0.2611, grad=0.0000), Var(v=0.0949, grad=0.7902), Var(v=0.0260, grad=0.0000), Var(v=0.0993, grad=0.0000), Var(v=0.0582, grad=-0.2652), Var(v=-0.0437, grad=0.4134), Var(v=-0.0910, grad=0.0000), Var(v=-0.0549, grad=-0.3643), Var(v=0.2439, grad=-0.3949), Var(v=-0.0689, grad=0.0000), Var(v=0.1459, grad=0.7207), Var(v=-0.0734, grad=0.0000), Var(v=0.0543, grad=0.0000), Var(v=0.0116, grad=0.0000), Var(v=0.0282, grad=-0.3545), Var(v=0.1429, grad=0.0000), Var(v=-0.0968, grad=-1.4165), Var(v=0.1466, grad=0.0000), Var(v=0.1269, grad=0.3100), Var(v=-0.0130, grad=0.2877), Var(v=0.0218, grad=0.2740), Var(v=0.0711, grad=0.0000), Var(v=-0.0487, grad=0.0000), Var(v=-0.1394, grad=0.2547), Var(v=0.0814, grad=0.4361), Var(v=0.2366, grad=0.1172), Var(v=-0.0094, grad=-0.9785), Var(v=0.0756, grad=0.0000), Var(v=-0.2657, grad=0.0000), Var(v=-0.0109, grad=0.0000), Var(v=0.0126, grad=-1.0143), Var(v=-0.0434, grad=0.0000), Var(v=0.1559, grad=0.0000), Var(v=0.0053, grad=-1.0315), Var(v=-0.0107, grad=0.0000), Var(v=0.0643, grad=0.0125), Var(v=0.0422, grad=-1.6400), Var(v=-0.0994, grad=-1.4532), Var(v=-0.0792, grad=0.0000)]] Biases: [Var(v=0.0000, grad=14.8811), Var(v=0.0000, grad=-2.6674), Var(v=0.0000, grad=0.0018), Var(v=0.0000, grad=0.0187), Var(v=0.0000, grad=0.0121), Var(v=0.0000, grad=6.8676), Var(v=0.0000, grad=7.7890), Var(v=0.0000, grad=7.0792), Var(v=0.0000, grad=-0.0286), Var(v=0.0000, grad=0.0000), Var(v=0.0000, grad=0.0000), Var(v=0.0000, grad=13.7104), Var(v=0.0000, grad=7.4887), Var(v=0.0000, grad=11.4160), Var(v=0.0000, grad=-8.6923), Var(v=0.0000, grad=0.0155), Var(v=0.0000, grad=3.9176), Var(v=0.0000, grad=-16.6534), Var(v=0.0000, grad=0.0213), Var(v=0.0000, grad=-3.7423), Var(v=0.0000, grad=0.0000), Var(v=0.0000, grad=-0.0422), Var(v=0.0000, grad=0.0000), Var(v=0.0000, grad=0.0000), Var(v=0.0000, grad=5.9102), Var(v=0.0000, grad=-3.3599), Var(v=0.0000, grad=-9.6209), Var(v=0.0000, grad=0.0830), Var(v=0.0000, grad=-0.2971), Var(v=0.0000, grad=2.9375), Var(v=0.0000, grad=2.7263), Var(v=0.0000, grad=-0.0161), Var(v=0.0000, grad=-1.0230), Var(v=0.0000, grad=2.2637), Var(v=0.0000, grad=2.4134), Var(v=0.0000, grad=4.1328), Var(v=0.0000, grad=1.1104), Var(v=0.0000, grad=-9.2731), Var(v=0.0000, grad=0.0000), Var(v=0.0000, grad=11.1268), Var(v=0.0000, grad=-1.1764), Var(v=0.0000, grad=0.0594), Var(v=0.0000, grad=0.0000), Var(v=0.0000, grad=-0.1270), Var(v=0.0000, grad=0.0604), Var(v=0.0000, grad=0.0000), Var(v=0.0000, grad=-0.0007), Var(v=0.0000, grad=-15.5426), Var(v=0.0000, grad=-13.7724), Var(v=0.0000, grad=0.0000)]\n",
      "Layer 2 \n",
      " Weights: [[Var(v=0.1696, grad=1.1452)], [Var(v=-0.0304, grad=0.9258)], [Var(v=0.0033, grad=-2.9343)], [Var(v=0.0347, grad=-2.4202)], [Var(v=0.0225, grad=-2.8455)], [Var(v=0.0783, grad=1.5618)], [Var(v=0.0888, grad=0.8213)], [Var(v=-0.0812, grad=-3.9790)], [Var(v=-0.0530, grad=-1.7213)], [Var(v=-0.0194, grad=0.0000)], [Var(v=-0.1211, grad=0.0000)], [Var(v=0.1562, grad=0.7919)], [Var(v=-0.0859, grad=-3.2921)], [Var(v=0.1301, grad=0.6906)], [Var(v=-0.0990, grad=1.5011)], [Var(v=0.0288, grad=-2.4133)], [Var(v=-0.0449, grad=-1.1128)], [Var(v=-0.1898, grad=0.7627)], [Var(v=0.0396, grad=-6.0859)], [Var(v=0.0429, grad=-1.5903)], [Var(v=0.0636, grad=0.0000)], [Var(v=-0.0783, grad=-7.7672)], [Var(v=0.1245, grad=0.0000)], [Var(v=-0.0910, grad=0.0000)], [Var(v=0.0673, grad=0.1617)], [Var(v=0.0385, grad=-0.7057)], [Var(v=-0.1096, grad=0.3871)], [Var(v=0.1539, grad=-1.5067)], [Var(v=-0.0034, grad=1.3913)], [Var(v=-0.0337, grad=-2.0115)], [Var(v=-0.0313, grad=-1.5310)], [Var(v=-0.0298, grad=1.4459)], [Var(v=-0.0117, grad=0.0647)], [Var(v=0.0258, grad=0.1838)], [Var(v=-0.0277, grad=-2.2870)], [Var(v=-0.0474, grad=-4.2644)], [Var(v=-0.0127, grad=-0.2157)], [Var(v=0.1063, grad=-2.6910)], [Var(v=0.0688, grad=0.0000)], [Var(v=0.1268, grad=0.0080)], [Var(v=-0.0134, grad=0.7680)], [Var(v=0.1102, grad=-0.1311)], [Var(v=-0.1461, grad=0.0000)], [Var(v=-0.0014, grad=0.9659)], [Var(v=0.1121, grad=-1.5910)], [Var(v=0.0513, grad=0.0000)], [Var(v=-0.0014, grad=-2.0447)], [Var(v=0.1782, grad=-0.9292)], [Var(v=0.1579, grad=-0.2194)], [Var(v=0.0124, grad=0.0000)]] Biases: [Var(v=0.0000, grad=0.5391)]\n",
      "\n",
      "Network after update:\n",
      "Layer 0 \n",
      " Weights: [[Var(v=-0.0292, grad=2.5871), Var(v=0.0715, grad=-4.2167), Var(v=-0.0318, grad=-5.8784), Var(v=0.1357, grad=-6.8943), Var(v=0.0476, grad=-0.3853), Var(v=0.0429, grad=6.6316), Var(v=0.1221, grad=-0.7914), Var(v=-0.0415, grad=3.7442), Var(v=0.0741, grad=3.3949), Var(v=0.1234, grad=-2.7006), Var(v=0.1532, grad=1.4660), Var(v=0.1811, grad=-10.6908), Var(v=-0.0178, grad=-0.2419), Var(v=-0.0054, grad=1.8090), Var(v=0.0539, grad=3.6772)]] Biases: [Var(v=0.0235, grad=-2.3518), Var(v=0.0362, grad=-3.6221), Var(v=-0.0534, grad=5.3437), Var(v=0.0592, grad=-5.9222), Var(v=0.0033, grad=-0.3309), Var(v=-0.0570, grad=5.6966), Var(v=0.0068, grad=-0.6798), Var(v=0.0340, grad=-3.4036), Var(v=-0.0292, grad=2.9163), Var(v=0.0232, grad=-2.3198), Var(v=-0.0126, grad=1.2593), Var(v=0.0918, grad=-9.1835), Var(v=-0.0022, grad=0.2199), Var(v=-0.0155, grad=1.5539), Var(v=-0.0316, grad=3.1587)]\n",
      "Layer 1 \n",
      " Weights: [[Var(v=0.1555, grad=0.0539), Var(v=0.0441, grad=-0.0097), Var(v=-0.0378, grad=0.0010), Var(v=0.0193, grad=0.0110), Var(v=0.0283, grad=0.0071), Var(v=0.0303, grad=0.0249), Var(v=-0.1354, grad=0.0282), Var(v=-0.0336, grad=0.0000), Var(v=0.1168, grad=-0.0168), Var(v=0.0583, grad=0.0000), Var(v=0.0244, grad=0.0000), Var(v=-0.0385, grad=0.0496), Var(v=0.1465, grad=0.0000), Var(v=0.0907, grad=0.0413), Var(v=0.0300, grad=-0.0315), Var(v=-0.1693, grad=0.0092), Var(v=-0.0376, grad=0.0000), Var(v=0.0417, grad=-0.0603), Var(v=0.0174, grad=0.0126), Var(v=0.0517, grad=0.0000), Var(v=-0.1280, grad=0.0000), Var(v=0.0528, grad=-0.0249), Var(v=-0.1175, grad=0.0000), Var(v=0.1503, grad=0.0000), Var(v=-0.0740, grad=0.0214), Var(v=-0.0642, grad=0.0000), Var(v=0.0811, grad=-0.0348), Var(v=0.0383, grad=0.0489), Var(v=-0.0758, grad=-0.0011), Var(v=0.2204, grad=0.0000), Var(v=0.0609, grad=0.0000), Var(v=0.0374, grad=-0.0095), Var(v=-0.0367, grad=-0.0037), Var(v=-0.1421, grad=0.0082), Var(v=0.0259, grad=0.0000), Var(v=-0.1929, grad=0.0000), Var(v=0.0667, grad=0.0000), Var(v=0.0164, grad=0.0000), Var(v=0.0820, grad=0.0000), Var(v=0.0167, grad=0.0403), Var(v=0.1010, grad=-0.0043), Var(v=-0.0835, grad=0.0350), Var(v=0.1422, grad=0.0000), Var(v=0.1115, grad=-0.0005), Var(v=-0.0333, grad=0.0356), Var(v=0.0380, grad=0.0000), Var(v=0.0631, grad=-0.0004), Var(v=0.0088, grad=0.0000), Var(v=-0.0671, grad=0.0000), Var(v=-0.1650, grad=0.0000)], [Var(v=0.1597, grad=0.0000), Var(v=0.0874, grad=0.0000), Var(v=0.1090, grad=-0.0098), Var(v=0.1408, grad=-0.1034), Var(v=0.0132, grad=-0.0670), Var(v=-0.0075, grad=0.0000), Var(v=-0.0053, grad=0.0000), Var(v=0.0709, grad=0.2418), Var(v=0.0720, grad=0.1580), Var(v=-0.2267, grad=0.0000), Var(v=-0.1629, grad=0.0000), Var(v=-0.0935, grad=0.0000), Var(v=0.0537, grad=0.2558), Var(v=0.1044, grad=0.0000), Var(v=0.0947, grad=0.0000), Var(v=-0.1662, grad=-0.0858), Var(v=-0.0959, grad=0.1338), Var(v=0.0629, grad=0.0000), Var(v=0.0914, grad=-0.1179), Var(v=0.0214, grad=-0.1278), Var(v=-0.0466, grad=0.0000), Var(v=0.0281, grad=0.2333), Var(v=0.1235, grad=0.0000), Var(v=-0.0309, grad=0.0000), Var(v=0.0463, grad=0.0000), Var(v=-0.0887, grad=-0.1148), Var(v=-0.0525, grad=0.0000), Var(v=0.2376, grad=-0.4586), Var(v=-0.0495, grad=0.0000), Var(v=-0.1093, grad=0.1003), Var(v=0.1135, grad=0.0931), Var(v=0.2470, grad=0.0887), Var(v=-0.0146, grad=0.0000), Var(v=0.0718, grad=0.0000), Var(v=0.0274, grad=0.0824), Var(v=0.0657, grad=0.1412), Var(v=-0.0041, grad=0.0379), Var(v=0.0104, grad=-0.3168), Var(v=0.1208, grad=0.0000), Var(v=-0.0890, grad=0.0000), Var(v=-0.0319, grad=0.0000), Var(v=0.0015, grad=-0.3284), Var(v=-0.0633, grad=0.0000), Var(v=0.1600, grad=0.0000), Var(v=0.0270, grad=-0.3339), Var(v=-0.1188, grad=0.0000), Var(v=0.0627, grad=0.0041), Var(v=0.0398, grad=-0.5309), Var(v=0.1236, grad=-0.4705), Var(v=0.0774, grad=0.0000)], [Var(v=0.1083, grad=1.4824), Var(v=0.1153, grad=-0.2657), Var(v=-0.0076, grad=0.0289), Var(v=0.0153, grad=0.3033), Var(v=0.1791, grad=0.1966), Var(v=0.1810, grad=0.6841), Var(v=0.0901, grad=0.7759), Var(v=-0.0236, grad=0.0000), Var(v=0.0045, grad=-0.4637), Var(v=-0.0664, grad=0.0000), Var(v=-0.0715, grad=0.0000), Var(v=0.1023, grad=1.3657), Var(v=-0.0974, grad=0.0000), Var(v=0.0909, grad=1.1372), Var(v=0.2002, grad=-0.8659), Var(v=0.0911, grad=0.2519), Var(v=-0.0309, grad=0.0000), Var(v=0.1359, grad=-1.6589), Var(v=0.0173, grad=0.3460), Var(v=-0.0823, grad=0.0000), Var(v=-0.1175, grad=0.0000), Var(v=0.1223, grad=-0.6846), Var(v=-0.0495, grad=0.0000), Var(v=-0.0555, grad=0.0000), Var(v=0.0223, grad=0.5887), Var(v=-0.0758, grad=0.0000), Var(v=0.0551, grad=-0.9584), Var(v=0.0078, grad=1.3456), Var(v=0.1481, grad=-0.0296), Var(v=-0.1088, grad=0.0000), Var(v=-0.1311, grad=0.0000), Var(v=0.1987, grad=-0.2603), Var(v=0.0146, grad=-0.1019), Var(v=0.0460, grad=0.2255), Var(v=-0.0609, grad=0.0000), Var(v=-0.1908, grad=0.0000), Var(v=-0.0908, grad=0.0000), Var(v=-0.0363, grad=0.0000), Var(v=-0.0115, grad=0.0000), Var(v=0.0107, grad=1.1084), Var(v=0.0700, grad=-0.1172), Var(v=0.1745, grad=0.9635), Var(v=-0.0444, grad=0.0000), Var(v=0.0730, grad=-0.0127), Var(v=0.1174, grad=0.9798), Var(v=-0.0050, grad=0.0000), Var(v=0.0961, grad=-0.0119), Var(v=-0.0566, grad=0.0000), Var(v=0.0582, grad=0.0000), Var(v=-0.2196, grad=0.0000)], [Var(v=-0.0365, grad=0.0000), Var(v=0.0633, grad=0.0000), Var(v=0.0097, grad=-0.0224), Var(v=0.0551, grad=-0.2352), Var(v=0.0170, grad=-0.1524), Var(v=0.2005, grad=0.0000), Var(v=-0.1830, grad=0.0000), Var(v=0.0032, grad=0.5502), Var(v=0.0924, grad=0.3596), Var(v=0.0702, grad=0.0000), Var(v=0.0264, grad=0.0000), Var(v=-0.0612, grad=0.0000), Var(v=0.0679, grad=0.5821), Var(v=-0.0529, grad=0.0000), Var(v=0.1349, grad=0.0000), Var(v=0.1023, grad=-0.1953), Var(v=-0.1924, grad=0.3045), Var(v=-0.0262, grad=0.0000), Var(v=-0.0454, grad=-0.2683), Var(v=0.0669, grad=-0.2909), Var(v=0.1120, grad=0.0000), Var(v=0.1386, grad=0.5309), Var(v=-0.0460, grad=0.0000), Var(v=-0.0585, grad=0.0000), Var(v=-0.0584, grad=0.0000), Var(v=0.1404, grad=-0.2612), Var(v=-0.1098, grad=0.0000), Var(v=0.0740, grad=-1.0435), Var(v=0.0395, grad=0.0000), Var(v=-0.0862, grad=0.2283), Var(v=-0.1417, grad=0.2119), Var(v=-0.0764, grad=0.2018), Var(v=-0.2056, grad=0.0000), Var(v=0.0138, grad=0.0000), Var(v=0.0577, grad=0.1876), Var(v=0.0370, grad=0.3212), Var(v=0.0241, grad=0.0863), Var(v=0.0866, grad=-0.7208), Var(v=0.0820, grad=0.0000), Var(v=-0.1461, grad=0.0000), Var(v=0.0851, grad=0.0000), Var(v=0.1265, grad=-0.7472), Var(v=-0.1963, grad=0.0000), Var(v=0.0487, grad=0.0000), Var(v=0.1292, grad=-0.7598), Var(v=0.0139, grad=0.0000), Var(v=-0.0066, grad=0.0092), Var(v=0.0620, grad=-1.2081), Var(v=0.0875, grad=-1.0705), Var(v=0.0229, grad=0.0000)], [Var(v=-0.1471, grad=0.0000), Var(v=0.0630, grad=0.0000), Var(v=-0.1156, grad=-0.0147), Var(v=0.1265, grad=-0.1539), Var(v=-0.0144, grad=-0.0998), Var(v=-0.0772, grad=0.0000), Var(v=-0.0083, grad=0.0000), Var(v=0.0494, grad=0.3602), Var(v=0.0290, grad=0.2354), Var(v=0.1032, grad=0.0000), Var(v=-0.0635, grad=0.0000), Var(v=0.1241, grad=0.0000), Var(v=-0.0044, grad=0.3810), Var(v=0.0599, grad=0.0000), Var(v=-0.1065, grad=0.0000), Var(v=-0.1022, grad=-0.1279), Var(v=-0.0004, grad=0.1993), Var(v=-0.0569, grad=0.0000), Var(v=0.1040, grad=-0.1757), Var(v=-0.1112, grad=-0.1904), Var(v=0.0931, grad=0.0000), Var(v=-0.0199, grad=0.3475), Var(v=-0.0750, grad=0.0000), Var(v=-0.0145, grad=0.0000), Var(v=-0.1087, grad=0.0000), Var(v=-0.1389, grad=-0.1710), Var(v=0.2950, grad=0.0000), Var(v=0.0936, grad=-0.6831), Var(v=0.0386, grad=0.0000), Var(v=-0.1484, grad=0.1495), Var(v=0.0515, grad=0.1387), Var(v=0.0414, grad=0.1321), Var(v=-0.0029, grad=0.0000), Var(v=-0.0330, grad=0.0000), Var(v=0.0501, grad=0.1228), Var(v=-0.1409, grad=0.2103), Var(v=-0.0357, grad=0.0565), Var(v=0.0013, grad=-0.4718), Var(v=-0.1686, grad=0.0000), Var(v=-0.1444, grad=0.0000), Var(v=-0.0026, grad=0.0000), Var(v=-0.0879, grad=-0.4891), Var(v=0.1687, grad=0.0000), Var(v=0.0448, grad=0.0000), Var(v=-0.0888, grad=-0.4974), Var(v=0.0380, grad=0.0000), Var(v=-0.0553, grad=0.0060), Var(v=-0.0204, grad=-0.7908), Var(v=0.1286, grad=-0.7007), Var(v=-0.0540, grad=0.0000)], [Var(v=0.0541, grad=0.0000), Var(v=0.1193, grad=0.0000), Var(v=-0.0014, grad=-0.0366), Var(v=0.1549, grad=-0.3846), Var(v=0.1414, grad=-0.2493), Var(v=-0.0648, grad=0.0000), Var(v=0.0491, grad=0.0000), Var(v=0.0512, grad=0.8999), Var(v=0.0510, grad=0.5880), Var(v=-0.0178, grad=0.0000), Var(v=0.0519, grad=0.0000), Var(v=-0.1799, grad=0.0000), Var(v=0.1460, grad=0.9519), Var(v=-0.2454, grad=0.0000), Var(v=-0.0311, grad=0.0000), Var(v=-0.0691, grad=-0.3195), Var(v=0.0316, grad=0.4980), Var(v=0.0835, grad=0.0000), Var(v=0.0207, grad=-0.4388), Var(v=-0.1978, grad=-0.4757), Var(v=-0.1653, grad=0.0000), Var(v=-0.0195, grad=0.8682), Var(v=0.0234, grad=0.0000), Var(v=-0.0772, grad=0.0000), Var(v=0.0142, grad=0.0000), Var(v=0.0370, grad=-0.4271), Var(v=-0.1255, grad=0.0000), Var(v=-0.0820, grad=-1.7065), Var(v=0.0169, grad=0.0000), Var(v=0.0652, grad=0.3734), Var(v=0.0114, grad=0.3465), Var(v=-0.0155, grad=0.3301), Var(v=-0.1655, grad=0.0000), Var(v=0.0023, grad=0.0000), Var(v=-0.1260, grad=0.3068), Var(v=0.1265, grad=0.5253), Var(v=0.0882, grad=0.1411), Var(v=0.1268, grad=-1.1787), Var(v=-0.0040, grad=0.0000), Var(v=-0.3004, grad=0.0000), Var(v=-0.0077, grad=0.0000), Var(v=-0.0053, grad=-1.2220), Var(v=-0.1138, grad=0.0000), Var(v=-0.1217, grad=0.0000), Var(v=-0.0199, grad=-1.2426), Var(v=0.0106, grad=0.0000), Var(v=-0.0212, grad=0.0151), Var(v=-0.1234, grad=-1.9757), Var(v=0.0031, grad=-1.7506), Var(v=-0.0652, grad=0.0000)], [Var(v=-0.0147, grad=0.0000), Var(v=0.0211, grad=0.0000), Var(v=0.0132, grad=-0.0383), Var(v=0.0125, grad=-0.4023), Var(v=0.0634, grad=-0.2607), Var(v=-0.1739, grad=0.0000), Var(v=-0.0240, grad=0.0000), Var(v=-0.0343, grad=0.9412), Var(v=0.1518, grad=0.6150), Var(v=-0.0085, grad=0.0000), Var(v=-0.0364, grad=0.0000), Var(v=-0.1275, grad=0.0000), Var(v=0.2282, grad=0.9956), Var(v=-0.0554, grad=0.0000), Var(v=-0.0083, grad=0.0000), Var(v=0.0395, grad=-0.3341), Var(v=0.1896, grad=0.5208), Var(v=-0.0132, grad=0.0000), Var(v=0.1527, grad=-0.4590), Var(v=0.0112, grad=-0.4975), Var(v=0.0094, grad=0.0000), Var(v=0.0340, grad=0.9080), Var(v=-0.0594, grad=0.0000), Var(v=0.0808, grad=0.0000), Var(v=-0.0758, grad=0.0000), Var(v=0.0944, grad=-0.4467), Var(v=0.0237, grad=0.0000), Var(v=0.1279, grad=-1.7848), Var(v=0.0031, grad=0.0000), Var(v=-0.0388, grad=0.3905), Var(v=0.1188, grad=0.3625), Var(v=-0.0837, grad=0.3452), Var(v=-0.0027, grad=0.0000), Var(v=-0.1130, grad=0.0000), Var(v=0.0030, grad=0.3209), Var(v=0.0718, grad=0.5494), Var(v=-0.1560, grad=0.1476), Var(v=-0.0487, grad=-1.2328), Var(v=0.0348, grad=0.0000), Var(v=-0.0082, grad=0.0000), Var(v=0.0204, grad=0.0000), Var(v=0.1148, grad=-1.2781), Var(v=-0.0348, grad=0.0000), Var(v=-0.0159, grad=0.0000), Var(v=-0.1215, grad=-1.2996), Var(v=-0.1003, grad=0.0000), Var(v=-0.0801, grad=0.0158), Var(v=0.1664, grad=-2.0664), Var(v=0.0425, grad=-1.8310), Var(v=0.0476, grad=0.0000)], [Var(v=0.0013, grad=0.0666), Var(v=0.1398, grad=-0.0119), Var(v=0.0616, grad=0.0013), Var(v=0.0316, grad=0.0136), Var(v=-0.0915, grad=0.0088), Var(v=0.0379, grad=0.0307), Var(v=0.0267, grad=0.0349), Var(v=0.1354, grad=0.0000), Var(v=0.0763, grad=-0.0208), Var(v=0.0079, grad=0.0000), Var(v=-0.0456, grad=0.0000), Var(v=-0.0616, grad=0.0614), Var(v=-0.0213, grad=0.0000), Var(v=0.0690, grad=0.0511), Var(v=0.0538, grad=-0.0389), Var(v=-0.0436, grad=0.0113), Var(v=0.0676, grad=0.0000), Var(v=0.0327, grad=-0.0745), Var(v=-0.0154, grad=0.0155), Var(v=-0.1086, grad=0.0000), Var(v=-0.1037, grad=0.0000), Var(v=0.0586, grad=-0.0308), Var(v=-0.1029, grad=0.0000), Var(v=0.0792, grad=0.0000), Var(v=-0.0017, grad=0.0265), Var(v=-0.0565, grad=0.0000), Var(v=-0.0245, grad=-0.0431), Var(v=0.0238, grad=0.0605), Var(v=0.2197, grad=-0.0013), Var(v=-0.0437, grad=0.0000), Var(v=-0.0821, grad=0.0000), Var(v=-0.0776, grad=-0.0117), Var(v=-0.1596, grad=-0.0046), Var(v=-0.1318, grad=0.0101), Var(v=-0.0827, grad=0.0000), Var(v=-0.0529, grad=0.0000), Var(v=-0.1295, grad=0.0000), Var(v=-0.0405, grad=0.0000), Var(v=0.1877, grad=0.0000), Var(v=0.0106, grad=0.0498), Var(v=0.1617, grad=-0.0053), Var(v=-0.0970, grad=0.0433), Var(v=-0.1283, grad=0.0000), Var(v=0.2341, grad=-0.0006), Var(v=-0.1060, grad=0.0440), Var(v=0.0936, grad=0.0000), Var(v=0.0560, grad=-0.0005), Var(v=-0.0436, grad=0.0000), Var(v=-0.0616, grad=0.0000), Var(v=0.0470, grad=0.0000)], [Var(v=0.0374, grad=0.0000), Var(v=-0.0430, grad=0.0000), Var(v=0.0318, grad=-0.0363), Var(v=-0.0463, grad=-0.3806), Var(v=0.1056, grad=-0.2467), Var(v=-0.0765, grad=0.0000), Var(v=-0.2257, grad=0.0000), Var(v=-0.0687, grad=0.8905), Var(v=-0.0225, grad=0.5820), Var(v=-0.0114, grad=0.0000), Var(v=-0.0464, grad=0.0000), Var(v=-0.0218, grad=0.0000), Var(v=-0.1674, grad=0.9421), Var(v=-0.0536, grad=0.0000), Var(v=-0.0946, grad=0.0000), Var(v=-0.0002, grad=-0.3161), Var(v=0.1295, grad=0.4928), Var(v=-0.1571, grad=0.0000), Var(v=0.0070, grad=-0.4343), Var(v=0.0548, grad=-0.4708), Var(v=-0.0371, grad=0.0000), Var(v=0.0325, grad=0.8592), Var(v=-0.0133, grad=0.0000), Var(v=-0.1540, grad=0.0000), Var(v=0.0574, grad=0.0000), Var(v=0.0066, grad=-0.4227), Var(v=0.0517, grad=0.0000), Var(v=-0.0223, grad=-1.6888), Var(v=0.0071, grad=0.0000), Var(v=-0.0687, grad=0.3695), Var(v=0.0681, grad=0.3430), Var(v=-0.0073, grad=0.3267), Var(v=0.0252, grad=0.0000), Var(v=-0.0765, grad=0.0000), Var(v=0.2051, grad=0.3036), Var(v=0.0575, grad=0.5199), Var(v=-0.0925, grad=0.1397), Var(v=-0.0497, grad=-1.1665), Var(v=-0.0873, grad=0.0000), Var(v=-0.0030, grad=0.0000), Var(v=0.0015, grad=0.0000), Var(v=-0.0268, grad=-1.2093), Var(v=0.0482, grad=0.0000), Var(v=-0.1607, grad=0.0000), Var(v=-0.0384, grad=-1.2297), Var(v=-0.0187, grad=0.0000), Var(v=0.1120, grad=0.0149), Var(v=-0.1350, grad=-1.9552), Var(v=0.0889, grad=-1.7325), Var(v=-0.0083, grad=0.0000)], [Var(v=0.0600, grad=0.0000), Var(v=-0.1280, grad=0.0000), Var(v=0.1537, grad=-0.0324), Var(v=-0.0185, grad=-0.3397), Var(v=0.1514, grad=-0.2202), Var(v=-0.1517, grad=0.0000), Var(v=-0.0173, grad=0.0000), Var(v=0.0842, grad=0.7947), Var(v=0.0079, grad=0.5194), Var(v=-0.1222, grad=0.0000), Var(v=-0.1292, grad=0.0000), Var(v=0.0431, grad=0.0000), Var(v=-0.1075, grad=0.8407), Var(v=0.0797, grad=0.0000), Var(v=-0.0288, grad=0.0000), Var(v=0.1152, grad=-0.2821), Var(v=0.0473, grad=0.4398), Var(v=0.0577, grad=0.0000), Var(v=0.0924, grad=-0.3876), Var(v=0.1120, grad=-0.4201), Var(v=-0.0396, grad=0.0000), Var(v=0.1650, grad=0.7668), Var(v=-0.0687, grad=0.0000), Var(v=0.1478, grad=0.0000), Var(v=-0.0460, grad=0.0000), Var(v=0.0131, grad=-0.3772), Var(v=0.0385, grad=0.0000), Var(v=-0.0071, grad=-1.5071), Var(v=-0.1882, grad=0.0000), Var(v=-0.0105, grad=0.3298), Var(v=-0.0147, grad=0.3061), Var(v=0.1259, grad=0.2915), Var(v=0.0391, grad=0.0000), Var(v=-0.1451, grad=0.0000), Var(v=-0.0349, grad=0.2709), Var(v=-0.0276, grad=0.4640), Var(v=0.0816, grad=0.1247), Var(v=0.1134, grad=-1.0410), Var(v=-0.0985, grad=0.0000), Var(v=-0.0144, grad=0.0000), Var(v=-0.1849, grad=0.0000), Var(v=0.0865, grad=-1.0792), Var(v=0.1331, grad=0.0000), Var(v=-0.1000, grad=0.0000), Var(v=0.0043, grad=-1.0974), Var(v=-0.1944, grad=0.0000), Var(v=-0.0407, grad=0.0133), Var(v=0.1361, grad=-1.7449), Var(v=-0.0274, grad=-1.5462), Var(v=0.0195, grad=0.0000)], [Var(v=-0.0109, grad=0.0000), Var(v=-0.0420, grad=0.0000), Var(v=-0.0008, grad=-0.0563), Var(v=-0.0637, grad=-0.5913), Var(v=-0.0319, grad=-0.3833), Var(v=0.0795, grad=0.0000), Var(v=-0.0510, grad=0.0000), Var(v=0.1059, grad=1.3835), Var(v=0.0460, grad=0.9041), Var(v=-0.0425, grad=0.0000), Var(v=-0.2230, grad=0.0000), Var(v=-0.0769, grad=0.0000), Var(v=-0.0281, grad=1.4636), Var(v=-0.0377, grad=0.0000), Var(v=-0.0571, grad=0.0000), Var(v=0.0435, grad=-0.4912), Var(v=-0.0074, grad=0.7657), Var(v=-0.1100, grad=0.0000), Var(v=0.2156, grad=-0.6747), Var(v=-0.0363, grad=-0.7314), Var(v=-0.0329, grad=0.0000), Var(v=0.1517, grad=1.3348), Var(v=-0.0784, grad=0.0000), Var(v=-0.0418, grad=0.0000), Var(v=-0.0352, grad=0.0000), Var(v=-0.0304, grad=-0.6567), Var(v=-0.1560, grad=0.0000), Var(v=0.0678, grad=-2.6237), Var(v=-0.0217, grad=0.0000), Var(v=0.0882, grad=0.5741), Var(v=0.0168, grad=0.5328), Var(v=-0.0057, grad=0.5075), Var(v=-0.0537, grad=0.0000), Var(v=0.0801, grad=0.0000), Var(v=0.1552, grad=0.4717), Var(v=-0.0318, grad=0.8077), Var(v=-0.0743, grad=0.2170), Var(v=0.0111, grad=-1.8123), Var(v=-0.0510, grad=0.0000), Var(v=-0.0983, grad=0.0000), Var(v=0.0058, grad=0.0000), Var(v=0.0026, grad=-1.8788), Var(v=-0.0518, grad=0.0000), Var(v=-0.1339, grad=0.0000), Var(v=0.1779, grad=-1.9105), Var(v=-0.0271, grad=0.0000), Var(v=0.0807, grad=0.0232), Var(v=0.0602, grad=-3.0376), Var(v=-0.0587, grad=-2.6917), Var(v=-0.0516, grad=0.0000)], [Var(v=-0.0810, grad=0.0000), Var(v=-0.0932, grad=0.0000), Var(v=0.2295, grad=-0.0249), Var(v=0.0806, grad=-0.2612), Var(v=-0.0431, grad=-0.1693), Var(v=0.0253, grad=0.0000), Var(v=0.1138, grad=0.0000), Var(v=-0.0186, grad=0.6111), Var(v=-0.1953, grad=0.3993), Var(v=-0.0874, grad=0.0000), Var(v=0.0487, grad=0.0000), Var(v=0.1422, grad=0.0000), Var(v=0.0237, grad=0.6464), Var(v=-0.0560, grad=0.0000), Var(v=0.0852, grad=0.0000), Var(v=0.1323, grad=-0.2169), Var(v=-0.1956, grad=0.3382), Var(v=0.0240, grad=0.0000), Var(v=0.0501, grad=-0.2980), Var(v=0.1218, grad=-0.3230), Var(v=0.1248, grad=0.0000), Var(v=0.1115, grad=0.5896), Var(v=0.0620, grad=0.0000), Var(v=-0.0894, grad=0.0000), Var(v=-0.0742, grad=0.0000), Var(v=-0.0283, grad=-0.2900), Var(v=-0.1872, grad=0.0000), Var(v=0.1691, grad=-1.1589), Var(v=-0.0130, grad=0.0000), Var(v=0.1578, grad=0.2536), Var(v=-0.0997, grad=0.2353), Var(v=-0.0383, grad=0.2242), Var(v=0.1591, grad=0.0000), Var(v=-0.0030, grad=0.0000), Var(v=-0.0287, grad=0.2083), Var(v=0.1447, grad=0.3567), Var(v=0.0558, grad=0.0959), Var(v=0.2078, grad=-0.8005), Var(v=0.1676, grad=0.0000), Var(v=-0.0568, grad=0.0000), Var(v=-0.1297, grad=0.0000), Var(v=0.0537, grad=-0.8298), Var(v=-0.1435, grad=0.0000), Var(v=-0.0522, grad=0.0000), Var(v=0.2336, grad=-0.8438), Var(v=-0.0164, grad=0.0000), Var(v=0.1295, grad=0.0102), Var(v=0.0243, grad=-1.3417), Var(v=0.1140, grad=-1.1889), Var(v=-0.0053, grad=0.0000)], [Var(v=0.0062, grad=0.3303), Var(v=-0.0653, grad=-0.0592), Var(v=0.0535, grad=0.0064), Var(v=0.2174, grad=0.0676), Var(v=0.0372, grad=0.0438), Var(v=-0.0552, grad=0.1524), Var(v=-0.0026, grad=0.1729), Var(v=-0.0913, grad=0.0000), Var(v=0.2208, grad=-0.1033), Var(v=0.1337, grad=0.0000), Var(v=-0.0201, grad=0.0000), Var(v=-0.0983, grad=0.3043), Var(v=-0.0683, grad=0.0000), Var(v=-0.1360, grad=0.2534), Var(v=-0.1025, grad=-0.1929), Var(v=-0.2978, grad=0.0561), Var(v=0.0402, grad=0.0000), Var(v=-0.1536, grad=-0.3696), Var(v=0.1768, grad=0.0771), Var(v=0.0247, grad=0.0000), Var(v=-0.0314, grad=0.0000), Var(v=-0.0907, grad=-0.1525), Var(v=0.0420, grad=0.0000), Var(v=-0.0065, grad=0.0000), Var(v=-0.0326, grad=0.1312), Var(v=-0.0127, grad=0.0000), Var(v=-0.0116, grad=-0.2135), Var(v=0.0373, grad=0.2998), Var(v=0.0189, grad=-0.0066), Var(v=-0.3014, grad=0.0000), Var(v=-0.0193, grad=0.0000), Var(v=0.0345, grad=-0.0580), Var(v=0.0105, grad=-0.0227), Var(v=-0.0728, grad=0.0502), Var(v=0.0203, grad=0.0000), Var(v=-0.0194, grad=0.0000), Var(v=0.0675, grad=0.0000), Var(v=0.0697, grad=0.0000), Var(v=-0.1383, grad=0.0000), Var(v=-0.1014, grad=0.2470), Var(v=0.0366, grad=-0.0261), Var(v=0.1233, grad=0.2147), Var(v=0.1734, grad=0.0000), Var(v=0.1035, grad=-0.0028), Var(v=-0.0995, grad=0.2183), Var(v=-0.0791, grad=0.0000), Var(v=-0.2420, grad=-0.0026), Var(v=-0.0401, grad=0.0000), Var(v=-0.2529, grad=0.0000), Var(v=-0.2108, grad=0.0000)], [Var(v=0.0878, grad=0.0000), Var(v=0.0930, grad=0.0000), Var(v=-0.0247, grad=-0.0043), Var(v=0.0715, grad=-0.0448), Var(v=0.0287, grad=-0.0290), Var(v=0.0146, grad=0.0000), Var(v=-0.0424, grad=0.0000), Var(v=-0.0452, grad=0.1048), Var(v=-0.1414, grad=0.0685), Var(v=0.0974, grad=0.0000), Var(v=-0.0090, grad=0.0000), Var(v=0.1294, grad=0.0000), Var(v=-0.0215, grad=0.1109), Var(v=-0.0696, grad=0.0000), Var(v=-0.0919, grad=0.0000), Var(v=0.0028, grad=-0.0372), Var(v=-0.1007, grad=0.0580), Var(v=-0.0508, grad=0.0000), Var(v=0.0093, grad=-0.0511), Var(v=-0.1749, grad=-0.0554), Var(v=0.0128, grad=0.0000), Var(v=0.0633, grad=0.1011), Var(v=-0.0592, grad=0.0000), Var(v=0.0898, grad=0.0000), Var(v=0.0109, grad=0.0000), Var(v=-0.1958, grad=-0.0498), Var(v=-0.0435, grad=0.0000), Var(v=-0.1930, grad=-0.1988), Var(v=-0.1435, grad=0.0000), Var(v=0.0023, grad=0.0435), Var(v=0.0939, grad=0.0404), Var(v=-0.1391, grad=0.0385), Var(v=-0.0119, grad=0.0000), Var(v=-0.0085, grad=0.0000), Var(v=-0.2699, grad=0.0357), Var(v=0.0980, grad=0.0612), Var(v=-0.1351, grad=0.0164), Var(v=-0.0397, grad=-0.1373), Var(v=-0.0141, grad=0.0000), Var(v=-0.0376, grad=0.0000), Var(v=0.1069, grad=0.0000), Var(v=0.0364, grad=-0.1424), Var(v=-0.0461, grad=0.0000), Var(v=0.0546, grad=0.0000), Var(v=0.0581, grad=-0.1448), Var(v=0.1980, grad=0.0000), Var(v=-0.0483, grad=0.0018), Var(v=0.0535, grad=-0.2302), Var(v=-0.0551, grad=-0.2040), Var(v=0.2850, grad=0.0000)], [Var(v=-0.1171, grad=0.0000), Var(v=-0.0311, grad=0.0000), Var(v=-0.0578, grad=-0.0304), Var(v=0.1331, grad=-0.3193), Var(v=0.0536, grad=-0.2069), Var(v=0.0027, grad=0.0000), Var(v=-0.0989, grad=0.0000), Var(v=0.0959, grad=0.7470), Var(v=-0.0611, grad=0.4881), Var(v=-0.0546, grad=0.0000), Var(v=-0.0574, grad=0.0000), Var(v=0.2611, grad=0.0000), Var(v=0.0870, grad=0.7902), Var(v=0.0260, grad=0.0000), Var(v=0.0993, grad=0.0000), Var(v=0.0609, grad=-0.2652), Var(v=-0.0479, grad=0.4134), Var(v=-0.0910, grad=0.0000), Var(v=-0.0513, grad=-0.3643), Var(v=0.2478, grad=-0.3949), Var(v=-0.0689, grad=0.0000), Var(v=0.1387, grad=0.7207), Var(v=-0.0734, grad=0.0000), Var(v=0.0543, grad=0.0000), Var(v=0.0116, grad=0.0000), Var(v=0.0318, grad=-0.3545), Var(v=0.1429, grad=0.0000), Var(v=-0.0827, grad=-1.4165), Var(v=0.1466, grad=0.0000), Var(v=0.1238, grad=0.3100), Var(v=-0.0158, grad=0.2877), Var(v=0.0190, grad=0.2740), Var(v=0.0711, grad=0.0000), Var(v=-0.0487, grad=0.0000), Var(v=-0.1419, grad=0.2547), Var(v=0.0770, grad=0.4361), Var(v=0.2354, grad=0.1172), Var(v=0.0004, grad=-0.9785), Var(v=0.0756, grad=0.0000), Var(v=-0.2657, grad=0.0000), Var(v=-0.0109, grad=0.0000), Var(v=0.0227, grad=-1.0143), Var(v=-0.0434, grad=0.0000), Var(v=0.1559, grad=0.0000), Var(v=0.0156, grad=-1.0315), Var(v=-0.0107, grad=0.0000), Var(v=0.0642, grad=0.0125), Var(v=0.0586, grad=-1.6400), Var(v=-0.0849, grad=-1.4532), Var(v=-0.0792, grad=0.0000)]] Biases: [Var(v=-0.1488, grad=14.8811), Var(v=0.0267, grad=-2.6674), Var(v=-0.0000, grad=0.0018), Var(v=-0.0002, grad=0.0187), Var(v=-0.0001, grad=0.0121), Var(v=-0.0687, grad=6.8676), Var(v=-0.0779, grad=7.7890), Var(v=-0.0708, grad=7.0792), Var(v=0.0003, grad=-0.0286), Var(v=0.0000, grad=0.0000), Var(v=0.0000, grad=0.0000), Var(v=-0.1371, grad=13.7104), Var(v=-0.0749, grad=7.4887), Var(v=-0.1142, grad=11.4160), Var(v=0.0869, grad=-8.6923), Var(v=-0.0002, grad=0.0155), Var(v=-0.0392, grad=3.9176), Var(v=0.1665, grad=-16.6534), Var(v=-0.0002, grad=0.0213), Var(v=0.0374, grad=-3.7423), Var(v=0.0000, grad=0.0000), Var(v=0.0004, grad=-0.0422), Var(v=0.0000, grad=0.0000), Var(v=0.0000, grad=0.0000), Var(v=-0.0591, grad=5.9102), Var(v=0.0336, grad=-3.3599), Var(v=0.0962, grad=-9.6209), Var(v=-0.0008, grad=0.0830), Var(v=0.0030, grad=-0.2971), Var(v=-0.0294, grad=2.9375), Var(v=-0.0273, grad=2.7263), Var(v=0.0002, grad=-0.0161), Var(v=0.0102, grad=-1.0230), Var(v=-0.0226, grad=2.2637), Var(v=-0.0241, grad=2.4134), Var(v=-0.0413, grad=4.1328), Var(v=-0.0111, grad=1.1104), Var(v=0.0927, grad=-9.2731), Var(v=0.0000, grad=0.0000), Var(v=-0.1113, grad=11.1268), Var(v=0.0118, grad=-1.1764), Var(v=-0.0006, grad=0.0594), Var(v=0.0000, grad=0.0000), Var(v=0.0013, grad=-0.1270), Var(v=-0.0006, grad=0.0604), Var(v=0.0000, grad=0.0000), Var(v=0.0000, grad=-0.0007), Var(v=0.1554, grad=-15.5426), Var(v=0.1377, grad=-13.7724), Var(v=0.0000, grad=0.0000)]\n",
      "Layer 2 \n",
      " Weights: [[Var(v=0.1581, grad=1.1452)], [Var(v=-0.0397, grad=0.9258)], [Var(v=0.0326, grad=-2.9343)], [Var(v=0.0589, grad=-2.4202)], [Var(v=0.0509, grad=-2.8455)], [Var(v=0.0626, grad=1.5618)], [Var(v=0.0805, grad=0.8213)], [Var(v=-0.0414, grad=-3.9790)], [Var(v=-0.0358, grad=-1.7213)], [Var(v=-0.0194, grad=0.0000)], [Var(v=-0.1211, grad=0.0000)], [Var(v=0.1483, grad=0.7919)], [Var(v=-0.0529, grad=-3.2921)], [Var(v=0.1232, grad=0.6906)], [Var(v=-0.1141, grad=1.5011)], [Var(v=0.0529, grad=-2.4133)], [Var(v=-0.0338, grad=-1.1128)], [Var(v=-0.1974, grad=0.7627)], [Var(v=0.1004, grad=-6.0859)], [Var(v=0.0588, grad=-1.5903)], [Var(v=0.0636, grad=0.0000)], [Var(v=-0.0006, grad=-7.7672)], [Var(v=0.1245, grad=0.0000)], [Var(v=-0.0910, grad=0.0000)], [Var(v=0.0657, grad=0.1617)], [Var(v=0.0456, grad=-0.7057)], [Var(v=-0.1135, grad=0.3871)], [Var(v=0.1690, grad=-1.5067)], [Var(v=-0.0173, grad=1.3913)], [Var(v=-0.0136, grad=-2.0115)], [Var(v=-0.0159, grad=-1.5310)], [Var(v=-0.0442, grad=1.4459)], [Var(v=-0.0123, grad=0.0647)], [Var(v=0.0240, grad=0.1838)], [Var(v=-0.0048, grad=-2.2870)], [Var(v=-0.0047, grad=-4.2644)], [Var(v=-0.0106, grad=-0.2157)], [Var(v=0.1332, grad=-2.6910)], [Var(v=0.0688, grad=0.0000)], [Var(v=0.1267, grad=0.0080)], [Var(v=-0.0211, grad=0.7680)], [Var(v=0.1115, grad=-0.1311)], [Var(v=-0.1461, grad=0.0000)], [Var(v=-0.0111, grad=0.9659)], [Var(v=0.1280, grad=-1.5910)], [Var(v=0.0513, grad=0.0000)], [Var(v=0.0191, grad=-2.0447)], [Var(v=0.1875, grad=-0.9292)], [Var(v=0.1601, grad=-0.2194)], [Var(v=0.0124, grad=0.0000)]] Biases: [Var(v=-0.0054, grad=0.5391)]\n",
      "\n",
      "Network after zeroing gradients:\n",
      "Layer 0 \n",
      " Weights: [[Var(v=-0.0292, grad=0.0000), Var(v=0.0715, grad=0.0000), Var(v=-0.0318, grad=0.0000), Var(v=0.1357, grad=0.0000), Var(v=0.0476, grad=0.0000), Var(v=0.0429, grad=0.0000), Var(v=0.1221, grad=0.0000), Var(v=-0.0415, grad=0.0000), Var(v=0.0741, grad=0.0000), Var(v=0.1234, grad=0.0000), Var(v=0.1532, grad=0.0000), Var(v=0.1811, grad=0.0000), Var(v=-0.0178, grad=0.0000), Var(v=-0.0054, grad=0.0000), Var(v=0.0539, grad=0.0000)]] Biases: [Var(v=0.0235, grad=0.0000), Var(v=0.0362, grad=0.0000), Var(v=-0.0534, grad=0.0000), Var(v=0.0592, grad=0.0000), Var(v=0.0033, grad=0.0000), Var(v=-0.0570, grad=0.0000), Var(v=0.0068, grad=0.0000), Var(v=0.0340, grad=0.0000), Var(v=-0.0292, grad=0.0000), Var(v=0.0232, grad=0.0000), Var(v=-0.0126, grad=0.0000), Var(v=0.0918, grad=0.0000), Var(v=-0.0022, grad=0.0000), Var(v=-0.0155, grad=0.0000), Var(v=-0.0316, grad=0.0000)]\n",
      "Layer 1 \n",
      " Weights: [[Var(v=0.1555, grad=0.0000), Var(v=0.0441, grad=0.0000), Var(v=-0.0378, grad=0.0000), Var(v=0.0193, grad=0.0000), Var(v=0.0283, grad=0.0000), Var(v=0.0303, grad=0.0000), Var(v=-0.1354, grad=0.0000), Var(v=-0.0336, grad=0.0000), Var(v=0.1168, grad=0.0000), Var(v=0.0583, grad=0.0000), Var(v=0.0244, grad=0.0000), Var(v=-0.0385, grad=0.0000), Var(v=0.1465, grad=0.0000), Var(v=0.0907, grad=0.0000), Var(v=0.0300, grad=0.0000), Var(v=-0.1693, grad=0.0000), Var(v=-0.0376, grad=0.0000), Var(v=0.0417, grad=0.0000), Var(v=0.0174, grad=0.0000), Var(v=0.0517, grad=0.0000), Var(v=-0.1280, grad=0.0000), Var(v=0.0528, grad=0.0000), Var(v=-0.1175, grad=0.0000), Var(v=0.1503, grad=0.0000), Var(v=-0.0740, grad=0.0000), Var(v=-0.0642, grad=0.0000), Var(v=0.0811, grad=0.0000), Var(v=0.0383, grad=0.0000), Var(v=-0.0758, grad=0.0000), Var(v=0.2204, grad=0.0000), Var(v=0.0609, grad=0.0000), Var(v=0.0374, grad=0.0000), Var(v=-0.0367, grad=0.0000), Var(v=-0.1421, grad=0.0000), Var(v=0.0259, grad=0.0000), Var(v=-0.1929, grad=0.0000), Var(v=0.0667, grad=0.0000), Var(v=0.0164, grad=0.0000), Var(v=0.0820, grad=0.0000), Var(v=0.0167, grad=0.0000), Var(v=0.1010, grad=0.0000), Var(v=-0.0835, grad=0.0000), Var(v=0.1422, grad=0.0000), Var(v=0.1115, grad=0.0000), Var(v=-0.0333, grad=0.0000), Var(v=0.0380, grad=0.0000), Var(v=0.0631, grad=0.0000), Var(v=0.0088, grad=0.0000), Var(v=-0.0671, grad=0.0000), Var(v=-0.1650, grad=0.0000)], [Var(v=0.1597, grad=0.0000), Var(v=0.0874, grad=0.0000), Var(v=0.1090, grad=0.0000), Var(v=0.1408, grad=0.0000), Var(v=0.0132, grad=0.0000), Var(v=-0.0075, grad=0.0000), Var(v=-0.0053, grad=0.0000), Var(v=0.0709, grad=0.0000), Var(v=0.0720, grad=0.0000), Var(v=-0.2267, grad=0.0000), Var(v=-0.1629, grad=0.0000), Var(v=-0.0935, grad=0.0000), Var(v=0.0537, grad=0.0000), Var(v=0.1044, grad=0.0000), Var(v=0.0947, grad=0.0000), Var(v=-0.1662, grad=0.0000), Var(v=-0.0959, grad=0.0000), Var(v=0.0629, grad=0.0000), Var(v=0.0914, grad=0.0000), Var(v=0.0214, grad=0.0000), Var(v=-0.0466, grad=0.0000), Var(v=0.0281, grad=0.0000), Var(v=0.1235, grad=0.0000), Var(v=-0.0309, grad=0.0000), Var(v=0.0463, grad=0.0000), Var(v=-0.0887, grad=0.0000), Var(v=-0.0525, grad=0.0000), Var(v=0.2376, grad=0.0000), Var(v=-0.0495, grad=0.0000), Var(v=-0.1093, grad=0.0000), Var(v=0.1135, grad=0.0000), Var(v=0.2470, grad=0.0000), Var(v=-0.0146, grad=0.0000), Var(v=0.0718, grad=0.0000), Var(v=0.0274, grad=0.0000), Var(v=0.0657, grad=0.0000), Var(v=-0.0041, grad=0.0000), Var(v=0.0104, grad=0.0000), Var(v=0.1208, grad=0.0000), Var(v=-0.0890, grad=0.0000), Var(v=-0.0319, grad=0.0000), Var(v=0.0015, grad=0.0000), Var(v=-0.0633, grad=0.0000), Var(v=0.1600, grad=0.0000), Var(v=0.0270, grad=0.0000), Var(v=-0.1188, grad=0.0000), Var(v=0.0627, grad=0.0000), Var(v=0.0398, grad=0.0000), Var(v=0.1236, grad=0.0000), Var(v=0.0774, grad=0.0000)], [Var(v=0.1083, grad=0.0000), Var(v=0.1153, grad=0.0000), Var(v=-0.0076, grad=0.0000), Var(v=0.0153, grad=0.0000), Var(v=0.1791, grad=0.0000), Var(v=0.1810, grad=0.0000), Var(v=0.0901, grad=0.0000), Var(v=-0.0236, grad=0.0000), Var(v=0.0045, grad=0.0000), Var(v=-0.0664, grad=0.0000), Var(v=-0.0715, grad=0.0000), Var(v=0.1023, grad=0.0000), Var(v=-0.0974, grad=0.0000), Var(v=0.0909, grad=0.0000), Var(v=0.2002, grad=0.0000), Var(v=0.0911, grad=0.0000), Var(v=-0.0309, grad=0.0000), Var(v=0.1359, grad=0.0000), Var(v=0.0173, grad=0.0000), Var(v=-0.0823, grad=0.0000), Var(v=-0.1175, grad=0.0000), Var(v=0.1223, grad=0.0000), Var(v=-0.0495, grad=0.0000), Var(v=-0.0555, grad=0.0000), Var(v=0.0223, grad=0.0000), Var(v=-0.0758, grad=0.0000), Var(v=0.0551, grad=0.0000), Var(v=0.0078, grad=0.0000), Var(v=0.1481, grad=0.0000), Var(v=-0.1088, grad=0.0000), Var(v=-0.1311, grad=0.0000), Var(v=0.1987, grad=0.0000), Var(v=0.0146, grad=0.0000), Var(v=0.0460, grad=0.0000), Var(v=-0.0609, grad=0.0000), Var(v=-0.1908, grad=0.0000), Var(v=-0.0908, grad=0.0000), Var(v=-0.0363, grad=0.0000), Var(v=-0.0115, grad=0.0000), Var(v=0.0107, grad=0.0000), Var(v=0.0700, grad=0.0000), Var(v=0.1745, grad=0.0000), Var(v=-0.0444, grad=0.0000), Var(v=0.0730, grad=0.0000), Var(v=0.1174, grad=0.0000), Var(v=-0.0050, grad=0.0000), Var(v=0.0961, grad=0.0000), Var(v=-0.0566, grad=0.0000), Var(v=0.0582, grad=0.0000), Var(v=-0.2196, grad=0.0000)], [Var(v=-0.0365, grad=0.0000), Var(v=0.0633, grad=0.0000), Var(v=0.0097, grad=0.0000), Var(v=0.0551, grad=0.0000), Var(v=0.0170, grad=0.0000), Var(v=0.2005, grad=0.0000), Var(v=-0.1830, grad=0.0000), Var(v=0.0032, grad=0.0000), Var(v=0.0924, grad=0.0000), Var(v=0.0702, grad=0.0000), Var(v=0.0264, grad=0.0000), Var(v=-0.0612, grad=0.0000), Var(v=0.0679, grad=0.0000), Var(v=-0.0529, grad=0.0000), Var(v=0.1349, grad=0.0000), Var(v=0.1023, grad=0.0000), Var(v=-0.1924, grad=0.0000), Var(v=-0.0262, grad=0.0000), Var(v=-0.0454, grad=0.0000), Var(v=0.0669, grad=0.0000), Var(v=0.1120, grad=0.0000), Var(v=0.1386, grad=0.0000), Var(v=-0.0460, grad=0.0000), Var(v=-0.0585, grad=0.0000), Var(v=-0.0584, grad=0.0000), Var(v=0.1404, grad=0.0000), Var(v=-0.1098, grad=0.0000), Var(v=0.0740, grad=0.0000), Var(v=0.0395, grad=0.0000), Var(v=-0.0862, grad=0.0000), Var(v=-0.1417, grad=0.0000), Var(v=-0.0764, grad=0.0000), Var(v=-0.2056, grad=0.0000), Var(v=0.0138, grad=0.0000), Var(v=0.0577, grad=0.0000), Var(v=0.0370, grad=0.0000), Var(v=0.0241, grad=0.0000), Var(v=0.0866, grad=0.0000), Var(v=0.0820, grad=0.0000), Var(v=-0.1461, grad=0.0000), Var(v=0.0851, grad=0.0000), Var(v=0.1265, grad=0.0000), Var(v=-0.1963, grad=0.0000), Var(v=0.0487, grad=0.0000), Var(v=0.1292, grad=0.0000), Var(v=0.0139, grad=0.0000), Var(v=-0.0066, grad=0.0000), Var(v=0.0620, grad=0.0000), Var(v=0.0875, grad=0.0000), Var(v=0.0229, grad=0.0000)], [Var(v=-0.1471, grad=0.0000), Var(v=0.0630, grad=0.0000), Var(v=-0.1156, grad=0.0000), Var(v=0.1265, grad=0.0000), Var(v=-0.0144, grad=0.0000), Var(v=-0.0772, grad=0.0000), Var(v=-0.0083, grad=0.0000), Var(v=0.0494, grad=0.0000), Var(v=0.0290, grad=0.0000), Var(v=0.1032, grad=0.0000), Var(v=-0.0635, grad=0.0000), Var(v=0.1241, grad=0.0000), Var(v=-0.0044, grad=0.0000), Var(v=0.0599, grad=0.0000), Var(v=-0.1065, grad=0.0000), Var(v=-0.1022, grad=0.0000), Var(v=-0.0004, grad=0.0000), Var(v=-0.0569, grad=0.0000), Var(v=0.1040, grad=0.0000), Var(v=-0.1112, grad=0.0000), Var(v=0.0931, grad=0.0000), Var(v=-0.0199, grad=0.0000), Var(v=-0.0750, grad=0.0000), Var(v=-0.0145, grad=0.0000), Var(v=-0.1087, grad=0.0000), Var(v=-0.1389, grad=0.0000), Var(v=0.2950, grad=0.0000), Var(v=0.0936, grad=0.0000), Var(v=0.0386, grad=0.0000), Var(v=-0.1484, grad=0.0000), Var(v=0.0515, grad=0.0000), Var(v=0.0414, grad=0.0000), Var(v=-0.0029, grad=0.0000), Var(v=-0.0330, grad=0.0000), Var(v=0.0501, grad=0.0000), Var(v=-0.1409, grad=0.0000), Var(v=-0.0357, grad=0.0000), Var(v=0.0013, grad=0.0000), Var(v=-0.1686, grad=0.0000), Var(v=-0.1444, grad=0.0000), Var(v=-0.0026, grad=0.0000), Var(v=-0.0879, grad=0.0000), Var(v=0.1687, grad=0.0000), Var(v=0.0448, grad=0.0000), Var(v=-0.0888, grad=0.0000), Var(v=0.0380, grad=0.0000), Var(v=-0.0553, grad=0.0000), Var(v=-0.0204, grad=0.0000), Var(v=0.1286, grad=0.0000), Var(v=-0.0540, grad=0.0000)], [Var(v=0.0541, grad=0.0000), Var(v=0.1193, grad=0.0000), Var(v=-0.0014, grad=0.0000), Var(v=0.1549, grad=0.0000), Var(v=0.1414, grad=0.0000), Var(v=-0.0648, grad=0.0000), Var(v=0.0491, grad=0.0000), Var(v=0.0512, grad=0.0000), Var(v=0.0510, grad=0.0000), Var(v=-0.0178, grad=0.0000), Var(v=0.0519, grad=0.0000), Var(v=-0.1799, grad=0.0000), Var(v=0.1460, grad=0.0000), Var(v=-0.2454, grad=0.0000), Var(v=-0.0311, grad=0.0000), Var(v=-0.0691, grad=0.0000), Var(v=0.0316, grad=0.0000), Var(v=0.0835, grad=0.0000), Var(v=0.0207, grad=0.0000), Var(v=-0.1978, grad=0.0000), Var(v=-0.1653, grad=0.0000), Var(v=-0.0195, grad=0.0000), Var(v=0.0234, grad=0.0000), Var(v=-0.0772, grad=0.0000), Var(v=0.0142, grad=0.0000), Var(v=0.0370, grad=0.0000), Var(v=-0.1255, grad=0.0000), Var(v=-0.0820, grad=0.0000), Var(v=0.0169, grad=0.0000), Var(v=0.0652, grad=0.0000), Var(v=0.0114, grad=0.0000), Var(v=-0.0155, grad=0.0000), Var(v=-0.1655, grad=0.0000), Var(v=0.0023, grad=0.0000), Var(v=-0.1260, grad=0.0000), Var(v=0.1265, grad=0.0000), Var(v=0.0882, grad=0.0000), Var(v=0.1268, grad=0.0000), Var(v=-0.0040, grad=0.0000), Var(v=-0.3004, grad=0.0000), Var(v=-0.0077, grad=0.0000), Var(v=-0.0053, grad=0.0000), Var(v=-0.1138, grad=0.0000), Var(v=-0.1217, grad=0.0000), Var(v=-0.0199, grad=0.0000), Var(v=0.0106, grad=0.0000), Var(v=-0.0212, grad=0.0000), Var(v=-0.1234, grad=0.0000), Var(v=0.0031, grad=0.0000), Var(v=-0.0652, grad=0.0000)], [Var(v=-0.0147, grad=0.0000), Var(v=0.0211, grad=0.0000), Var(v=0.0132, grad=0.0000), Var(v=0.0125, grad=0.0000), Var(v=0.0634, grad=0.0000), Var(v=-0.1739, grad=0.0000), Var(v=-0.0240, grad=0.0000), Var(v=-0.0343, grad=0.0000), Var(v=0.1518, grad=0.0000), Var(v=-0.0085, grad=0.0000), Var(v=-0.0364, grad=0.0000), Var(v=-0.1275, grad=0.0000), Var(v=0.2282, grad=0.0000), Var(v=-0.0554, grad=0.0000), Var(v=-0.0083, grad=0.0000), Var(v=0.0395, grad=0.0000), Var(v=0.1896, grad=0.0000), Var(v=-0.0132, grad=0.0000), Var(v=0.1527, grad=0.0000), Var(v=0.0112, grad=0.0000), Var(v=0.0094, grad=0.0000), Var(v=0.0340, grad=0.0000), Var(v=-0.0594, grad=0.0000), Var(v=0.0808, grad=0.0000), Var(v=-0.0758, grad=0.0000), Var(v=0.0944, grad=0.0000), Var(v=0.0237, grad=0.0000), Var(v=0.1279, grad=0.0000), Var(v=0.0031, grad=0.0000), Var(v=-0.0388, grad=0.0000), Var(v=0.1188, grad=0.0000), Var(v=-0.0837, grad=0.0000), Var(v=-0.0027, grad=0.0000), Var(v=-0.1130, grad=0.0000), Var(v=0.0030, grad=0.0000), Var(v=0.0718, grad=0.0000), Var(v=-0.1560, grad=0.0000), Var(v=-0.0487, grad=0.0000), Var(v=0.0348, grad=0.0000), Var(v=-0.0082, grad=0.0000), Var(v=0.0204, grad=0.0000), Var(v=0.1148, grad=0.0000), Var(v=-0.0348, grad=0.0000), Var(v=-0.0159, grad=0.0000), Var(v=-0.1215, grad=0.0000), Var(v=-0.1003, grad=0.0000), Var(v=-0.0801, grad=0.0000), Var(v=0.1664, grad=0.0000), Var(v=0.0425, grad=0.0000), Var(v=0.0476, grad=0.0000)], [Var(v=0.0013, grad=0.0000), Var(v=0.1398, grad=0.0000), Var(v=0.0616, grad=0.0000), Var(v=0.0316, grad=0.0000), Var(v=-0.0915, grad=0.0000), Var(v=0.0379, grad=0.0000), Var(v=0.0267, grad=0.0000), Var(v=0.1354, grad=0.0000), Var(v=0.0763, grad=0.0000), Var(v=0.0079, grad=0.0000), Var(v=-0.0456, grad=0.0000), Var(v=-0.0616, grad=0.0000), Var(v=-0.0213, grad=0.0000), Var(v=0.0690, grad=0.0000), Var(v=0.0538, grad=0.0000), Var(v=-0.0436, grad=0.0000), Var(v=0.0676, grad=0.0000), Var(v=0.0327, grad=0.0000), Var(v=-0.0154, grad=0.0000), Var(v=-0.1086, grad=0.0000), Var(v=-0.1037, grad=0.0000), Var(v=0.0586, grad=0.0000), Var(v=-0.1029, grad=0.0000), Var(v=0.0792, grad=0.0000), Var(v=-0.0017, grad=0.0000), Var(v=-0.0565, grad=0.0000), Var(v=-0.0245, grad=0.0000), Var(v=0.0238, grad=0.0000), Var(v=0.2197, grad=0.0000), Var(v=-0.0437, grad=0.0000), Var(v=-0.0821, grad=0.0000), Var(v=-0.0776, grad=0.0000), Var(v=-0.1596, grad=0.0000), Var(v=-0.1318, grad=0.0000), Var(v=-0.0827, grad=0.0000), Var(v=-0.0529, grad=0.0000), Var(v=-0.1295, grad=0.0000), Var(v=-0.0405, grad=0.0000), Var(v=0.1877, grad=0.0000), Var(v=0.0106, grad=0.0000), Var(v=0.1617, grad=0.0000), Var(v=-0.0970, grad=0.0000), Var(v=-0.1283, grad=0.0000), Var(v=0.2341, grad=0.0000), Var(v=-0.1060, grad=0.0000), Var(v=0.0936, grad=0.0000), Var(v=0.0560, grad=0.0000), Var(v=-0.0436, grad=0.0000), Var(v=-0.0616, grad=0.0000), Var(v=0.0470, grad=0.0000)], [Var(v=0.0374, grad=0.0000), Var(v=-0.0430, grad=0.0000), Var(v=0.0318, grad=0.0000), Var(v=-0.0463, grad=0.0000), Var(v=0.1056, grad=0.0000), Var(v=-0.0765, grad=0.0000), Var(v=-0.2257, grad=0.0000), Var(v=-0.0687, grad=0.0000), Var(v=-0.0225, grad=0.0000), Var(v=-0.0114, grad=0.0000), Var(v=-0.0464, grad=0.0000), Var(v=-0.0218, grad=0.0000), Var(v=-0.1674, grad=0.0000), Var(v=-0.0536, grad=0.0000), Var(v=-0.0946, grad=0.0000), Var(v=-0.0002, grad=0.0000), Var(v=0.1295, grad=0.0000), Var(v=-0.1571, grad=0.0000), Var(v=0.0070, grad=0.0000), Var(v=0.0548, grad=0.0000), Var(v=-0.0371, grad=0.0000), Var(v=0.0325, grad=0.0000), Var(v=-0.0133, grad=0.0000), Var(v=-0.1540, grad=0.0000), Var(v=0.0574, grad=0.0000), Var(v=0.0066, grad=0.0000), Var(v=0.0517, grad=0.0000), Var(v=-0.0223, grad=0.0000), Var(v=0.0071, grad=0.0000), Var(v=-0.0687, grad=0.0000), Var(v=0.0681, grad=0.0000), Var(v=-0.0073, grad=0.0000), Var(v=0.0252, grad=0.0000), Var(v=-0.0765, grad=0.0000), Var(v=0.2051, grad=0.0000), Var(v=0.0575, grad=0.0000), Var(v=-0.0925, grad=0.0000), Var(v=-0.0497, grad=0.0000), Var(v=-0.0873, grad=0.0000), Var(v=-0.0030, grad=0.0000), Var(v=0.0015, grad=0.0000), Var(v=-0.0268, grad=0.0000), Var(v=0.0482, grad=0.0000), Var(v=-0.1607, grad=0.0000), Var(v=-0.0384, grad=0.0000), Var(v=-0.0187, grad=0.0000), Var(v=0.1120, grad=0.0000), Var(v=-0.1350, grad=0.0000), Var(v=0.0889, grad=0.0000), Var(v=-0.0083, grad=0.0000)], [Var(v=0.0600, grad=0.0000), Var(v=-0.1280, grad=0.0000), Var(v=0.1537, grad=0.0000), Var(v=-0.0185, grad=0.0000), Var(v=0.1514, grad=0.0000), Var(v=-0.1517, grad=0.0000), Var(v=-0.0173, grad=0.0000), Var(v=0.0842, grad=0.0000), Var(v=0.0079, grad=0.0000), Var(v=-0.1222, grad=0.0000), Var(v=-0.1292, grad=0.0000), Var(v=0.0431, grad=0.0000), Var(v=-0.1075, grad=0.0000), Var(v=0.0797, grad=0.0000), Var(v=-0.0288, grad=0.0000), Var(v=0.1152, grad=0.0000), Var(v=0.0473, grad=0.0000), Var(v=0.0577, grad=0.0000), Var(v=0.0924, grad=0.0000), Var(v=0.1120, grad=0.0000), Var(v=-0.0396, grad=0.0000), Var(v=0.1650, grad=0.0000), Var(v=-0.0687, grad=0.0000), Var(v=0.1478, grad=0.0000), Var(v=-0.0460, grad=0.0000), Var(v=0.0131, grad=0.0000), Var(v=0.0385, grad=0.0000), Var(v=-0.0071, grad=0.0000), Var(v=-0.1882, grad=0.0000), Var(v=-0.0105, grad=0.0000), Var(v=-0.0147, grad=0.0000), Var(v=0.1259, grad=0.0000), Var(v=0.0391, grad=0.0000), Var(v=-0.1451, grad=0.0000), Var(v=-0.0349, grad=0.0000), Var(v=-0.0276, grad=0.0000), Var(v=0.0816, grad=0.0000), Var(v=0.1134, grad=0.0000), Var(v=-0.0985, grad=0.0000), Var(v=-0.0144, grad=0.0000), Var(v=-0.1849, grad=0.0000), Var(v=0.0865, grad=0.0000), Var(v=0.1331, grad=0.0000), Var(v=-0.1000, grad=0.0000), Var(v=0.0043, grad=0.0000), Var(v=-0.1944, grad=0.0000), Var(v=-0.0407, grad=0.0000), Var(v=0.1361, grad=0.0000), Var(v=-0.0274, grad=0.0000), Var(v=0.0195, grad=0.0000)], [Var(v=-0.0109, grad=0.0000), Var(v=-0.0420, grad=0.0000), Var(v=-0.0008, grad=0.0000), Var(v=-0.0637, grad=0.0000), Var(v=-0.0319, grad=0.0000), Var(v=0.0795, grad=0.0000), Var(v=-0.0510, grad=0.0000), Var(v=0.1059, grad=0.0000), Var(v=0.0460, grad=0.0000), Var(v=-0.0425, grad=0.0000), Var(v=-0.2230, grad=0.0000), Var(v=-0.0769, grad=0.0000), Var(v=-0.0281, grad=0.0000), Var(v=-0.0377, grad=0.0000), Var(v=-0.0571, grad=0.0000), Var(v=0.0435, grad=0.0000), Var(v=-0.0074, grad=0.0000), Var(v=-0.1100, grad=0.0000), Var(v=0.2156, grad=0.0000), Var(v=-0.0363, grad=0.0000), Var(v=-0.0329, grad=0.0000), Var(v=0.1517, grad=0.0000), Var(v=-0.0784, grad=0.0000), Var(v=-0.0418, grad=0.0000), Var(v=-0.0352, grad=0.0000), Var(v=-0.0304, grad=0.0000), Var(v=-0.1560, grad=0.0000), Var(v=0.0678, grad=0.0000), Var(v=-0.0217, grad=0.0000), Var(v=0.0882, grad=0.0000), Var(v=0.0168, grad=0.0000), Var(v=-0.0057, grad=0.0000), Var(v=-0.0537, grad=0.0000), Var(v=0.0801, grad=0.0000), Var(v=0.1552, grad=0.0000), Var(v=-0.0318, grad=0.0000), Var(v=-0.0743, grad=0.0000), Var(v=0.0111, grad=0.0000), Var(v=-0.0510, grad=0.0000), Var(v=-0.0983, grad=0.0000), Var(v=0.0058, grad=0.0000), Var(v=0.0026, grad=0.0000), Var(v=-0.0518, grad=0.0000), Var(v=-0.1339, grad=0.0000), Var(v=0.1779, grad=0.0000), Var(v=-0.0271, grad=0.0000), Var(v=0.0807, grad=0.0000), Var(v=0.0602, grad=0.0000), Var(v=-0.0587, grad=0.0000), Var(v=-0.0516, grad=0.0000)], [Var(v=-0.0810, grad=0.0000), Var(v=-0.0932, grad=0.0000), Var(v=0.2295, grad=0.0000), Var(v=0.0806, grad=0.0000), Var(v=-0.0431, grad=0.0000), Var(v=0.0253, grad=0.0000), Var(v=0.1138, grad=0.0000), Var(v=-0.0186, grad=0.0000), Var(v=-0.1953, grad=0.0000), Var(v=-0.0874, grad=0.0000), Var(v=0.0487, grad=0.0000), Var(v=0.1422, grad=0.0000), Var(v=0.0237, grad=0.0000), Var(v=-0.0560, grad=0.0000), Var(v=0.0852, grad=0.0000), Var(v=0.1323, grad=0.0000), Var(v=-0.1956, grad=0.0000), Var(v=0.0240, grad=0.0000), Var(v=0.0501, grad=0.0000), Var(v=0.1218, grad=0.0000), Var(v=0.1248, grad=0.0000), Var(v=0.1115, grad=0.0000), Var(v=0.0620, grad=0.0000), Var(v=-0.0894, grad=0.0000), Var(v=-0.0742, grad=0.0000), Var(v=-0.0283, grad=0.0000), Var(v=-0.1872, grad=0.0000), Var(v=0.1691, grad=0.0000), Var(v=-0.0130, grad=0.0000), Var(v=0.1578, grad=0.0000), Var(v=-0.0997, grad=0.0000), Var(v=-0.0383, grad=0.0000), Var(v=0.1591, grad=0.0000), Var(v=-0.0030, grad=0.0000), Var(v=-0.0287, grad=0.0000), Var(v=0.1447, grad=0.0000), Var(v=0.0558, grad=0.0000), Var(v=0.2078, grad=0.0000), Var(v=0.1676, grad=0.0000), Var(v=-0.0568, grad=0.0000), Var(v=-0.1297, grad=0.0000), Var(v=0.0537, grad=0.0000), Var(v=-0.1435, grad=0.0000), Var(v=-0.0522, grad=0.0000), Var(v=0.2336, grad=0.0000), Var(v=-0.0164, grad=0.0000), Var(v=0.1295, grad=0.0000), Var(v=0.0243, grad=0.0000), Var(v=0.1140, grad=0.0000), Var(v=-0.0053, grad=0.0000)], [Var(v=0.0062, grad=0.0000), Var(v=-0.0653, grad=0.0000), Var(v=0.0535, grad=0.0000), Var(v=0.2174, grad=0.0000), Var(v=0.0372, grad=0.0000), Var(v=-0.0552, grad=0.0000), Var(v=-0.0026, grad=0.0000), Var(v=-0.0913, grad=0.0000), Var(v=0.2208, grad=0.0000), Var(v=0.1337, grad=0.0000), Var(v=-0.0201, grad=0.0000), Var(v=-0.0983, grad=0.0000), Var(v=-0.0683, grad=0.0000), Var(v=-0.1360, grad=0.0000), Var(v=-0.1025, grad=0.0000), Var(v=-0.2978, grad=0.0000), Var(v=0.0402, grad=0.0000), Var(v=-0.1536, grad=0.0000), Var(v=0.1768, grad=0.0000), Var(v=0.0247, grad=0.0000), Var(v=-0.0314, grad=0.0000), Var(v=-0.0907, grad=0.0000), Var(v=0.0420, grad=0.0000), Var(v=-0.0065, grad=0.0000), Var(v=-0.0326, grad=0.0000), Var(v=-0.0127, grad=0.0000), Var(v=-0.0116, grad=0.0000), Var(v=0.0373, grad=0.0000), Var(v=0.0189, grad=0.0000), Var(v=-0.3014, grad=0.0000), Var(v=-0.0193, grad=0.0000), Var(v=0.0345, grad=0.0000), Var(v=0.0105, grad=0.0000), Var(v=-0.0728, grad=0.0000), Var(v=0.0203, grad=0.0000), Var(v=-0.0194, grad=0.0000), Var(v=0.0675, grad=0.0000), Var(v=0.0697, grad=0.0000), Var(v=-0.1383, grad=0.0000), Var(v=-0.1014, grad=0.0000), Var(v=0.0366, grad=0.0000), Var(v=0.1233, grad=0.0000), Var(v=0.1734, grad=0.0000), Var(v=0.1035, grad=0.0000), Var(v=-0.0995, grad=0.0000), Var(v=-0.0791, grad=0.0000), Var(v=-0.2420, grad=0.0000), Var(v=-0.0401, grad=0.0000), Var(v=-0.2529, grad=0.0000), Var(v=-0.2108, grad=0.0000)], [Var(v=0.0878, grad=0.0000), Var(v=0.0930, grad=0.0000), Var(v=-0.0247, grad=0.0000), Var(v=0.0715, grad=0.0000), Var(v=0.0287, grad=0.0000), Var(v=0.0146, grad=0.0000), Var(v=-0.0424, grad=0.0000), Var(v=-0.0452, grad=0.0000), Var(v=-0.1414, grad=0.0000), Var(v=0.0974, grad=0.0000), Var(v=-0.0090, grad=0.0000), Var(v=0.1294, grad=0.0000), Var(v=-0.0215, grad=0.0000), Var(v=-0.0696, grad=0.0000), Var(v=-0.0919, grad=0.0000), Var(v=0.0028, grad=0.0000), Var(v=-0.1007, grad=0.0000), Var(v=-0.0508, grad=0.0000), Var(v=0.0093, grad=0.0000), Var(v=-0.1749, grad=0.0000), Var(v=0.0128, grad=0.0000), Var(v=0.0633, grad=0.0000), Var(v=-0.0592, grad=0.0000), Var(v=0.0898, grad=0.0000), Var(v=0.0109, grad=0.0000), Var(v=-0.1958, grad=0.0000), Var(v=-0.0435, grad=0.0000), Var(v=-0.1930, grad=0.0000), Var(v=-0.1435, grad=0.0000), Var(v=0.0023, grad=0.0000), Var(v=0.0939, grad=0.0000), Var(v=-0.1391, grad=0.0000), Var(v=-0.0119, grad=0.0000), Var(v=-0.0085, grad=0.0000), Var(v=-0.2699, grad=0.0000), Var(v=0.0980, grad=0.0000), Var(v=-0.1351, grad=0.0000), Var(v=-0.0397, grad=0.0000), Var(v=-0.0141, grad=0.0000), Var(v=-0.0376, grad=0.0000), Var(v=0.1069, grad=0.0000), Var(v=0.0364, grad=0.0000), Var(v=-0.0461, grad=0.0000), Var(v=0.0546, grad=0.0000), Var(v=0.0581, grad=0.0000), Var(v=0.1980, grad=0.0000), Var(v=-0.0483, grad=0.0000), Var(v=0.0535, grad=0.0000), Var(v=-0.0551, grad=0.0000), Var(v=0.2850, grad=0.0000)], [Var(v=-0.1171, grad=0.0000), Var(v=-0.0311, grad=0.0000), Var(v=-0.0578, grad=0.0000), Var(v=0.1331, grad=0.0000), Var(v=0.0536, grad=0.0000), Var(v=0.0027, grad=0.0000), Var(v=-0.0989, grad=0.0000), Var(v=0.0959, grad=0.0000), Var(v=-0.0611, grad=0.0000), Var(v=-0.0546, grad=0.0000), Var(v=-0.0574, grad=0.0000), Var(v=0.2611, grad=0.0000), Var(v=0.0870, grad=0.0000), Var(v=0.0260, grad=0.0000), Var(v=0.0993, grad=0.0000), Var(v=0.0609, grad=0.0000), Var(v=-0.0479, grad=0.0000), Var(v=-0.0910, grad=0.0000), Var(v=-0.0513, grad=0.0000), Var(v=0.2478, grad=0.0000), Var(v=-0.0689, grad=0.0000), Var(v=0.1387, grad=0.0000), Var(v=-0.0734, grad=0.0000), Var(v=0.0543, grad=0.0000), Var(v=0.0116, grad=0.0000), Var(v=0.0318, grad=0.0000), Var(v=0.1429, grad=0.0000), Var(v=-0.0827, grad=0.0000), Var(v=0.1466, grad=0.0000), Var(v=0.1238, grad=0.0000), Var(v=-0.0158, grad=0.0000), Var(v=0.0190, grad=0.0000), Var(v=0.0711, grad=0.0000), Var(v=-0.0487, grad=0.0000), Var(v=-0.1419, grad=0.0000), Var(v=0.0770, grad=0.0000), Var(v=0.2354, grad=0.0000), Var(v=0.0004, grad=0.0000), Var(v=0.0756, grad=0.0000), Var(v=-0.2657, grad=0.0000), Var(v=-0.0109, grad=0.0000), Var(v=0.0227, grad=0.0000), Var(v=-0.0434, grad=0.0000), Var(v=0.1559, grad=0.0000), Var(v=0.0156, grad=0.0000), Var(v=-0.0107, grad=0.0000), Var(v=0.0642, grad=0.0000), Var(v=0.0586, grad=0.0000), Var(v=-0.0849, grad=0.0000), Var(v=-0.0792, grad=0.0000)]] Biases: [Var(v=-0.1488, grad=0.0000), Var(v=0.0267, grad=0.0000), Var(v=-0.0000, grad=0.0000), Var(v=-0.0002, grad=0.0000), Var(v=-0.0001, grad=0.0000), Var(v=-0.0687, grad=0.0000), Var(v=-0.0779, grad=0.0000), Var(v=-0.0708, grad=0.0000), Var(v=0.0003, grad=0.0000), Var(v=0.0000, grad=0.0000), Var(v=0.0000, grad=0.0000), Var(v=-0.1371, grad=0.0000), Var(v=-0.0749, grad=0.0000), Var(v=-0.1142, grad=0.0000), Var(v=0.0869, grad=0.0000), Var(v=-0.0002, grad=0.0000), Var(v=-0.0392, grad=0.0000), Var(v=0.1665, grad=0.0000), Var(v=-0.0002, grad=0.0000), Var(v=0.0374, grad=0.0000), Var(v=0.0000, grad=0.0000), Var(v=0.0004, grad=0.0000), Var(v=0.0000, grad=0.0000), Var(v=0.0000, grad=0.0000), Var(v=-0.0591, grad=0.0000), Var(v=0.0336, grad=0.0000), Var(v=0.0962, grad=0.0000), Var(v=-0.0008, grad=0.0000), Var(v=0.0030, grad=0.0000), Var(v=-0.0294, grad=0.0000), Var(v=-0.0273, grad=0.0000), Var(v=0.0002, grad=0.0000), Var(v=0.0102, grad=0.0000), Var(v=-0.0226, grad=0.0000), Var(v=-0.0241, grad=0.0000), Var(v=-0.0413, grad=0.0000), Var(v=-0.0111, grad=0.0000), Var(v=0.0927, grad=0.0000), Var(v=0.0000, grad=0.0000), Var(v=-0.1113, grad=0.0000), Var(v=0.0118, grad=0.0000), Var(v=-0.0006, grad=0.0000), Var(v=0.0000, grad=0.0000), Var(v=0.0013, grad=0.0000), Var(v=-0.0006, grad=0.0000), Var(v=0.0000, grad=0.0000), Var(v=0.0000, grad=0.0000), Var(v=0.1554, grad=0.0000), Var(v=0.1377, grad=0.0000), Var(v=0.0000, grad=0.0000)]\n",
      "Layer 2 \n",
      " Weights: [[Var(v=0.1581, grad=0.0000)], [Var(v=-0.0397, grad=0.0000)], [Var(v=0.0326, grad=0.0000)], [Var(v=0.0589, grad=0.0000)], [Var(v=0.0509, grad=0.0000)], [Var(v=0.0626, grad=0.0000)], [Var(v=0.0805, grad=0.0000)], [Var(v=-0.0414, grad=0.0000)], [Var(v=-0.0358, grad=0.0000)], [Var(v=-0.0194, grad=0.0000)], [Var(v=-0.1211, grad=0.0000)], [Var(v=0.1483, grad=0.0000)], [Var(v=-0.0529, grad=0.0000)], [Var(v=0.1232, grad=0.0000)], [Var(v=-0.1141, grad=0.0000)], [Var(v=0.0529, grad=0.0000)], [Var(v=-0.0338, grad=0.0000)], [Var(v=-0.1974, grad=0.0000)], [Var(v=0.1004, grad=0.0000)], [Var(v=0.0588, grad=0.0000)], [Var(v=0.0636, grad=0.0000)], [Var(v=-0.0006, grad=0.0000)], [Var(v=0.1245, grad=0.0000)], [Var(v=-0.0910, grad=0.0000)], [Var(v=0.0657, grad=0.0000)], [Var(v=0.0456, grad=0.0000)], [Var(v=-0.1135, grad=0.0000)], [Var(v=0.1690, grad=0.0000)], [Var(v=-0.0173, grad=0.0000)], [Var(v=-0.0136, grad=0.0000)], [Var(v=-0.0159, grad=0.0000)], [Var(v=-0.0442, grad=0.0000)], [Var(v=-0.0123, grad=0.0000)], [Var(v=0.0240, grad=0.0000)], [Var(v=-0.0048, grad=0.0000)], [Var(v=-0.0047, grad=0.0000)], [Var(v=-0.0106, grad=0.0000)], [Var(v=0.1332, grad=0.0000)], [Var(v=0.0688, grad=0.0000)], [Var(v=0.1267, grad=0.0000)], [Var(v=-0.0211, grad=0.0000)], [Var(v=0.1115, grad=0.0000)], [Var(v=-0.1461, grad=0.0000)], [Var(v=-0.0111, grad=0.0000)], [Var(v=0.1280, grad=0.0000)], [Var(v=0.0513, grad=0.0000)], [Var(v=0.0191, grad=0.0000)], [Var(v=0.1875, grad=0.0000)], [Var(v=0.1601, grad=0.0000)], [Var(v=0.0124, grad=0.0000)]] Biases: [Var(v=-0.0054, grad=0.0000)]\n"
     ]
    },
    {
     "data": {
      "text/plain": [
       "[None, None, None]"
      ]
     },
     "execution_count": 123,
     "metadata": {},
     "output_type": "execute_result"
    }
   ],
   "source": [
    "print('Network before update:')\n",
    "[print('Layer', i, '\\n', NN[i]) for i in range(len(NN))] \n",
    "\n",
    "def parameters(network):\n",
    "  params = []\n",
    "  for layer in range(len(network)):\n",
    "    params += network[layer].parameters()\n",
    "  return params\n",
    "\n",
    "def update_parameters(params, learning_rate=0.01):\n",
    "  for p in params:\n",
    "    p.v -= learning_rate*p.grad\n",
    "\n",
    "def zero_gradients(params):\n",
    "  for p in params:\n",
    "    p.grad = 0.0\n",
    "\n",
    "update_parameters(parameters(NN))\n",
    "\n",
    "print('\\nNetwork after update:')\n",
    "[print('Layer', i, '\\n', NN[i]) for i in range(len(NN))] \n",
    "\n",
    "zero_gradients(parameters(NN))\n",
    "\n",
    "print('\\nNetwork after zeroing gradients:')\n",
    "[print('Layer', i, '\\n', NN[i]) for i in range(len(NN))] "
   ]
  },
  {
   "cell_type": "code",
   "execution_count": 105,
   "metadata": {
    "id": "woWYpdw6FtIO"
   },
   "outputs": [],
   "source": [
    "# Initialize an arbitrary neural network\n",
    "NN = [\n",
    "    DenseLayer(1, 8, lambda x: x.relu()),\n",
    "    DenseLayer(8, 1, lambda x: x.identity())\n",
    "]\n",
    "\n",
    "# Recommended hyper-parameters for 3-D: \n",
    "#NN = [\n",
    "#    DenseLayer(3, 16, lambda x: x.relu()),\n",
    "#    DenseLayer(16, 1, lambda x: x.identity())\n",
    "#]\n",
    "\n",
    "\n",
    "### Notice that, when we switch from tanh to relu activation, we decrease the learning rate. This is due the stability of the gradients \n",
    "## of the activation functions."
   ]
  },
  {
   "cell_type": "code",
   "execution_count": 106,
   "metadata": {
    "id": "mdqaqYBVFtIR"
   },
   "outputs": [],
   "source": [
    "# Initialize training hyperparameters\n",
    "EPOCHS = 200\n",
    "LEARN_R = 2e-3 "
   ]
  },
  {
   "cell_type": "code",
   "execution_count": 107,
   "metadata": {
    "colab": {
     "base_uri": "https://localhost:8080/"
    },
    "id": "5kfg76GMFtIW",
    "outputId": "e30cf68a-31f2-42b4-cc5e-860c297c0f04",
    "scrolled": true
   },
   "outputs": [
    {
     "name": "stdout",
     "output_type": "stream",
     "text": [
      "   0 ( 0.00%) Train loss: 105.795 \t Validation loss: 107.379\n",
      "  10 ( 5.00%) Train loss: 61.148 \t Validation loss: 48.031\n",
      "  20 (10.00%) Train loss: 14.320 \t Validation loss: 10.731\n",
      "  30 (15.00%) Train loss: 13.894 \t Validation loss: 10.433\n",
      "  40 (20.00%) Train loss: 13.544 \t Validation loss: 10.169\n",
      "  50 (25.00%) Train loss: 13.103 \t Validation loss: 9.854\n",
      "  60 (30.00%) Train loss: 12.714 \t Validation loss: 9.559\n",
      "  70 (35.00%) Train loss: 12.422 \t Validation loss: 9.366\n",
      "  80 (40.00%) Train loss: 12.231 \t Validation loss: 9.214\n",
      "  90 (45.00%) Train loss: 12.098 \t Validation loss: 9.098\n",
      " 100 (50.00%) Train loss: 12.027 \t Validation loss: 9.040\n",
      " 110 (55.00%) Train loss: 11.975 \t Validation loss: 9.018\n",
      " 120 (60.00%) Train loss: 11.940 \t Validation loss: 9.020\n",
      " 130 (65.00%) Train loss: 11.919 \t Validation loss: 9.030\n",
      " 140 (70.00%) Train loss: 11.907 \t Validation loss: 9.040\n",
      " 150 (75.00%) Train loss: 11.901 \t Validation loss: 9.042\n",
      " 160 (80.00%) Train loss: 11.897 \t Validation loss: 9.045\n",
      " 170 (85.00%) Train loss: 11.895 \t Validation loss: 9.045\n",
      " 180 (90.00%) Train loss: 11.894 \t Validation loss: 9.046\n",
      " 190 (95.00%) Train loss: 11.893 \t Validation loss: 9.047\n"
     ]
    }
   ],
   "source": [
    "train_loss = []\n",
    "val_loss = []\n",
    "\n",
    "for e in range(EPOCHS):\n",
    "     \n",
    "    # Forward pass and loss computation\n",
    "    Loss = squared_loss(y_train, forward(x_train, NN))\n",
    "\n",
    "    # Backward pass\n",
    "    Loss.backward()\n",
    "    \n",
    "    # gradient descent update\n",
    "    update_parameters(parameters(NN), LEARN_R)\n",
    "    zero_gradients(parameters(NN))\n",
    "    \n",
    "    # Training loss\n",
    "    train_loss.append(Loss.v)\n",
    "    \n",
    "    # Validation\n",
    "    Loss_validation = squared_loss(y_validation, forward(x_validation, NN))\n",
    "    val_loss.append(Loss_validation.v)\n",
    "    \n",
    "    if e%10==0:\n",
    "        print(\"{:4d}\".format(e),\n",
    "              \"({:5.2f}%)\".format(e/EPOCHS*100), \n",
    "              \"Train loss: {:4.3f} \\t Validation loss: {:4.3f}\".format(train_loss[-1], val_loss[-1]))\n",
    "        \n"
   ]
  },
  {
   "cell_type": "code",
   "execution_count": 134,
   "metadata": {
    "colab": {
     "base_uri": "https://localhost:8080/",
     "height": 265
    },
    "id": "VetyRWFwFtIY",
    "outputId": "344e490d-6d7d-455a-fa6f-88dd11eb957e"
   },
   "outputs": [
    {
     "data": {
      "text/plain": [
       "<matplotlib.legend.Legend at 0x241f5b21ad0>"
      ]
     },
     "execution_count": 134,
     "metadata": {},
     "output_type": "execute_result"
    },
    {
     "data": {
      "image/png": "[encoded data removed]",
      "text/plain": [
       "<Figure size 640x480 with 1 Axes>"
      ]
     },
     "metadata": {},
     "output_type": "display_data"
    }
   ],
   "source": [
    "plt.plot(range(len(train_loss)), train_loss);\n",
    "plt.plot(range(len(val_loss)), val_loss);\n",
    "plt.legend(['Train loss', 'Validation loss'])"
   ]
  },
  {
   "cell_type": "markdown",
   "metadata": {
    "id": "8OgmIrM9FtIb"
   },
   "source": [
    "# Testing\n",
    "\n",
    "We have kept the calculation of the test error separate in order to emphasize that you should not use the test set in optimization."
   ]
  },
  {
   "cell_type": "code",
   "execution_count": 109,
   "metadata": {
    "id": "HmNi7S-vFtIc"
   },
   "outputs": [],
   "source": [
    "output_test = forward(x_test, NN)"
   ]
  },
  {
   "cell_type": "code",
   "execution_count": 110,
   "metadata": {
    "colab": {
     "base_uri": "https://localhost:8080/",
     "height": 316
    },
    "id": "7mmJOTSEFtIf",
    "outputId": "e3264095-cefe-4aee-893d-bf152438e332"
   },
   "outputs": [
    {
     "name": "stdout",
     "output_type": "stream",
     "text": [
      "Test loss:  9.833\n"
     ]
    },
    {
     "data": {
      "image/png": "[encoded data removed]",
      "text/plain": [
       "<Figure size 640x480 with 1 Axes>"
      ]
     },
     "metadata": {},
     "output_type": "display_data"
    }
   ],
   "source": [
    "y_test_np = Var_to_nparray(y_test)\n",
    "plt.scatter(y_test_np, Var_to_nparray(output_test));\n",
    "plt.plot([np.min(y_test_np), np.max(y_test_np)], [np.min(y_test_np), np.max(y_test_np)], color='k');\n",
    "plt.xlabel(\"y\");\n",
    "plt.ylabel(\"$\\hat{y}$\");\n",
    "plt.title(\"Model prediction vs real in the test set, the close to the line the better\")\n",
    "plt.grid(True);\n",
    "plt.axis('equal');\n",
    "plt.tight_layout();\n",
    "\n",
    "Loss_test = squared_loss(y_test, forward(x_test, NN))\n",
    "\n",
    "print(\"Test loss:  {:4.3f}\".format(Loss_test.v))"
   ]
  },
  {
   "cell_type": "code",
   "execution_count": 111,
   "metadata": {
    "colab": {
     "base_uri": "https://localhost:8080/",
     "height": 279
    },
    "id": "ODi0WlmQFtIh",
    "outputId": "d1ab874f-0717-4987-87bf-1f0c7c8e7148"
   },
   "outputs": [
    {
     "data": {
      "image/png": "[encoded data removed]",
      "text/plain": [
       "<Figure size 640x480 with 1 Axes>"
      ]
     },
     "metadata": {},
     "output_type": "display_data"
    }
   ],
   "source": [
    "x_test_np = Var_to_nparray(x_test)\n",
    "x_train_np = Var_to_nparray(x_train)\n",
    "y_train_np = Var_to_nparray(y_train)\n",
    "if D1:\n",
    "    plt.scatter(x_train_np, y_train_np, label=\"train data\");\n",
    "    plt.scatter(x_test_np, Var_to_nparray(output_test), label=\"test prediction\");\n",
    "    plt.scatter(x_test_np, y_test_np, label=\"test data\");\n",
    "    plt.legend();\n",
    "    plt.xlabel(\"x\");\n",
    "    plt.ylabel(\"y\");\n",
    "else:\n",
    "    plt.scatter(x_train_np[:,1], y_train, label=\"train data\");\n",
    "    plt.scatter(x_test_np[:,1], Var_to_nparray(output_test), label=\"test data prediction\");\n",
    "    plt.scatter(x_test_np[:,1], y_test_np, label=\"test data\");\n",
    "    plt.legend();\n",
    "    plt.xlabel(\"x\");\n",
    "    plt.ylabel(\"y\");"
   ]
  },
  {
   "cell_type": "markdown",
   "metadata": {
    "id": "zTBAmjsAFtIk"
   },
   "source": [
    "## Exercise l) Show overfitting, underfitting and just right fitting\n",
    "\n",
    "Vary the architecture and other things to show clear signs of overfitting (=training loss significantly lower than test loss) and underfitting (=not fitting enoung to training data so that test performance is also hurt).\n",
    "\n",
    "See also if you can get a good compromise which leads to a low validation loss. \n",
    "\n",
    "For this problem do you see any big difference between validation and test loss? The answer here will probably be no. Discuss cases where it is important to keep the two separate.\n",
    "\n",
    "_Insert written answer here._\n"
   ]
  },
  {
   "cell_type": "code",
   "execution_count": null,
   "metadata": {
    "id": "tQZCn2dxFtIl"
   },
   "outputs": [],
   "source": [
    "# Insert your code for getting overfitting, underfitting and just right fitting\n"
   ]
  },
  {
   "cell_type": "markdown",
   "metadata": {
    "id": "fYPZP-eTFtIo"
   },
   "source": [
    "# Next steps - classification\n",
    "\n",
    "It is straight forward to extend what we have done to classification. \n",
    "\n",
    "For numerical stability it is better to make softmax and cross-entropy as one function so we write the cross entropy loss as a function of the logits we talked about last week. \n",
    "\n",
    "Next week we will see how to perform classification in PyTorch."
   ]
  },
  {
   "cell_type": "markdown",
   "metadata": {
    "id": "qsVPul3QFtIo"
   },
   "source": [
    "## Exercise m) optional - Implement backpropagation for classification\n",
    "\n",
    "Should be possible with very few lines of code. :-)"
   ]
  },
  {
   "cell_type": "code",
   "execution_count": null,
   "metadata": {
    "id": "oC8QrI2tFtIp"
   },
   "outputs": [],
   "source": [
    "# Just add code."
   ]
  },
  {
   "cell_type": "markdown",
   "metadata": {
    "id": "APqhJv3tta1O"
   },
   "source": [
    "## Exercise n) optional - Introduce a NeuralNetwork class\n",
    "\n",
    "The functions we applied on the neural network (parameters, update_parameters and zero_gradients) can more naturally be included as methods in a NeuralNetwork class. Make such a class and modify the code to use it. "
   ]
  },
  {
   "cell_type": "code",
   "execution_count": null,
   "metadata": {
    "id": "Dqfnor1ouMLq"
   },
   "outputs": [],
   "source": [
    "# just add some code"
   ]
  }
 ],
 "metadata": {
  "anaconda-cloud": {},
  "colab": {
   "collapsed_sections": [
    "U4057_ljNvWB",
    "p_8n_SKnIW2F",
    "oLrGJytZFtGm",
    "jpIZPBpNI0pO",
    "_79HOAXrFtHK",
    "mqeyab9qFtGs",
    "-XyXBD37FtHk",
    "SrwSJ2UWFtHu",
    "zTBAmjsAFtIk",
    "qsVPul3QFtIo",
    "APqhJv3tta1O"
   ],
   "name": "2.1-EXE-FNN-AutoDif-Nanograd.ipynb",
   "provenance": []
  },
  "kernelspec": {
   "display_name": "Python 3 (ipykernel)",
   "language": "python",
   "name": "python3"
  },
  "language_info": {
   "codemirror_mode": {
    "name": "ipython",
    "version": 3
   },
   "file_extension": ".py",
   "mimetype": "text/x-python",
   "name": "python",
   "nbconvert_exporter": "python",
   "pygments_lexer": "ipython3",
   "version": "3.11.3"
  }
 },
 "nbformat": 4,
 "nbformat_minor": 4
}
