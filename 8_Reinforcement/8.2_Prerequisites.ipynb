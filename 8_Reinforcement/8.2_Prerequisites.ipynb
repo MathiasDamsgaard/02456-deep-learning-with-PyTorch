{
 "cells": [
  {
   "cell_type": "markdown",
   "metadata": {},
   "source": [
    "# Prerequisites\n",
    "\n",
    "> By Jonas Busk ([jbusk@dtu.dk](mailto:jbusk@dtu.dk))\n",
    "\n",
    "**2019 update:** Changes have been made to the display of environments due to the previous `viewer` being incompatible with newer versions of Gym.\n",
    "\n",
    "**2022 update:** Rendering was disabled, and the notebook now uses the `colabgymrender` package to render a video.\n",
    "\n",
    "**2023 update:** Changed to packages `gymnasium` and `renderlab`, and to `CartPole-v1`.\n",
    "\n",
    "In this lab we will create neural network reinforcement learning agents with [PyTorch](https://pytorch.org/) to navigate various environments from [Gymnasium](https://github.com/Farama-Foundation/Gymnasium) originally developed by [OpenAI](https://openai.com/).\n",
    "\n",
    "Please refer to the [docs](https://gymnasium.farama.org) on how to get started with Gymnasium."
   ]
  },
  {
   "cell_type": "markdown",
   "metadata": {},
   "source": [
    "## Installation\n",
    "\n",
    "Below is a brief guide on how to install Gymnasium. For more details, please refer to the repository on [GitHub](https://gymnasium.farama.org) and the [docs](https://gym.openai.com/docs).\n",
    "\n",
    "You can do a minimal install of the packaged version of Gym directly from PyPI:\n",
    "\n",
    "```\n",
    "pip install gymnasium\n",
    "```\n",
    "\n",
    "If you run in Colab, you can do a quick pip install of Gym in the cell below:"
   ]
  },
  {
   "cell_type": "code",
   "execution_count": null,
   "metadata": {},
   "outputs": [],
   "source": [
    "!pip install gymnasium\n",
    "!pip install renderlab"
   ]
  },
  {
   "cell_type": "markdown",
   "metadata": {},
   "source": [
    " **If run on your local machine**, you may need to install `gymnasium[classic-control]` by running the following line:"
   ]
  },
  {
   "cell_type": "code",
   "execution_count": null,
   "metadata": {},
   "outputs": [],
   "source": [
    "!pip install \"gymnasium[classic-control]\""
   ]
  },
  {
   "cell_type": "markdown",
   "metadata": {},
   "source": [
    "## Running an environment\n",
    "\n",
    "Here is a bare minimum example of running a Gym environment. This creates an instance of the [CartPole-v0](https://gym.openai.com/envs/CartPole-v0) environment and runs until the rollout is done, taking random actions and rendering the environment at each step. With Gym installed, you should be able to see a small animation of the environment below."
   ]
  },
  {
   "cell_type": "code",
   "execution_count": 2,
   "metadata": {},
   "outputs": [
    {
     "name": "stdout",
     "output_type": "stream",
     "text": [
      "Moviepy - Building video temp-{start}.mp4.\n",
      "Moviepy - Writing video temp-{start}.mp4\n",
      "\n"
     ]
    },
    {
     "name": "stderr",
     "output_type": "stream",
     "text": [
      "                                                             "
     ]
    },
    {
     "name": "stdout",
     "output_type": "stream",
     "text": [
      "Moviepy - Done !\n",
      "Moviepy - video ready temp-{start}.mp4\n"
     ]
    },
    {
     "name": "stderr",
     "output_type": "stream",
     "text": [
      "\r"
     ]
    },
    {
     "data": {
      "text/html": [
       "<video controls  >\n",
       " <source src=\"data:video/mp4;base64,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\" type=\"video/mp4\">\n",
       " Your browser does not support the video tag.\n",
       " </video>"
      ],
      "text/plain": [
       "<IPython.core.display.Video object>"
      ]
     },
     "metadata": {},
     "output_type": "display_data"
    }
   ],
   "source": [
    "import gymnasium as gym\n",
    "import renderlab as rl\n",
    "\n",
    "env = gym.make(\"CartPole-v1\", render_mode = \"rgb_array\") # Create the environment\n",
    "env = rl.RenderFrame(env, \"./output\") # Directory for the recorded video\n",
    "env.reset()\n",
    "\n",
    "# Run environment\n",
    "while True:\n",
    "    action = env.action_space.sample() # Get a random action\n",
    "    _, _, done, _, _ = env.step(action) # Take a step\n",
    "    if done: break # Break if environment is done\n",
    "\n",
    "env.close() # Close environment\n",
    "env.play() # Show the video"
   ]
  },
  {
   "cell_type": "markdown",
   "metadata": {},
   "source": [
    "Hooray! You now have a working `Gym` environment that we can take actions in and render."
   ]
  }
 ],
 "metadata": {
  "kernelspec": {
   "display_name": ".venv",
   "language": "python",
   "name": "python3"
  },
  "language_info": {
   "codemirror_mode": {
    "name": "ipython",
    "version": 3
   },
   "file_extension": ".py",
   "mimetype": "text/x-python",
   "name": "python",
   "nbconvert_exporter": "python",
   "pygments_lexer": "ipython3",
   "version": "3.11.3"
  }
 },
 "nbformat": 4,
 "nbformat_minor": 2
}
